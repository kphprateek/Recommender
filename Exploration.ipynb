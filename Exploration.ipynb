{
  "nbformat": 4,
  "nbformat_minor": 0,
  "metadata": {
    "kernelspec": {
      "display_name": "Python 3",
      "language": "python",
      "name": "python3"
    },
    "language_info": {
      "codemirror_mode": {
        "name": "ipython",
        "version": 3
      },
      "file_extension": ".py",
      "mimetype": "text/x-python",
      "name": "python",
      "nbconvert_exporter": "python",
      "pygments_lexer": "ipython3",
      "version": "3.7.6"
    },
    "colab": {
      "name": "Exploration.ipynb",
      "provenance": [],
      "include_colab_link": true
    }
  },
  "cells": [
    {
      "cell_type": "markdown",
      "metadata": {
        "id": "view-in-github",
        "colab_type": "text"
      },
      "source": [
        "<a href=\"https://colab.research.google.com/github/kphprateek/Recommender/blob/main/Exploration.ipynb\" target=\"_parent\"><img src=\"https://colab.research.google.com/assets/colab-badge.svg\" alt=\"Open In Colab\"/></a>"
      ]
    },
    {
      "cell_type": "markdown",
      "metadata": {
        "id": "myTpv_ZYgTTI"
      },
      "source": [
        "# Importing Libraries and Loading Our Data<a id=\"1\"></a> <br>"
      ]
    },
    {
      "cell_type": "code",
      "metadata": {
        "colab": {
          "base_uri": "https://localhost:8080/"
        },
        "id": "o_7Usp-ZlOe9",
        "outputId": "a375f617-57ea-42da-eb70-31014cbb02cb"
      },
      "source": [
        "from google.colab import drive\n",
        "drive.mount('/content/gdrive')"
      ],
      "execution_count": null,
      "outputs": [
        {
          "output_type": "stream",
          "text": [
            "Mounted at /content/gdrive\n"
          ],
          "name": "stdout"
        }
      ]
    },
    {
      "cell_type": "code",
      "metadata": {
        "id": "r2TtFzucgTTK"
      },
      "source": [
        "import pandas as pd\n",
        "import numpy as np\n",
        "import seaborn as sns\n",
        "import matplotlib.pyplot as plt\n",
        "import datetime\n",
        "from scipy import stats\n",
        "\n",
        "import warnings\n",
        "warnings.filterwarnings('ignore')"
      ],
      "execution_count": null,
      "outputs": []
    },
    {
      "cell_type": "code",
      "metadata": {
        "id": "nJiJSyl3gTTa"
      },
      "source": [
        "books=pd.read_csv('/content/gdrive/MyDrive/Colab Notebooks/books.csv')\n",
        "ratings=pd.read_csv('/content/gdrive/MyDrive/Colab Notebooks/ratings.csv')\n",
        "book_tags=pd.read_csv('/content/gdrive/MyDrive/Colab Notebooks/book_tags.csv')\n",
        "tags=pd.read_csv('/content/gdrive/MyDrive/Colab Notebooks/tags.csv')"
      ],
      "execution_count": null,
      "outputs": []
    },
    {
      "cell_type": "code",
      "metadata": {
        "id": "71HrvieWgTTl",
        "colab": {
          "base_uri": "https://localhost:8080/",
          "height": 804
        },
        "outputId": "51e8d281-410e-458c-f867-e0634798c656"
      },
      "source": [
        "books.head()"
      ],
      "execution_count": null,
      "outputs": [
        {
          "output_type": "execute_result",
          "data": {
            "text/html": [
              "<div>\n",
              "<style scoped>\n",
              "    .dataframe tbody tr th:only-of-type {\n",
              "        vertical-align: middle;\n",
              "    }\n",
              "\n",
              "    .dataframe tbody tr th {\n",
              "        vertical-align: top;\n",
              "    }\n",
              "\n",
              "    .dataframe thead th {\n",
              "        text-align: right;\n",
              "    }\n",
              "</style>\n",
              "<table border=\"1\" class=\"dataframe\">\n",
              "  <thead>\n",
              "    <tr style=\"text-align: right;\">\n",
              "      <th></th>\n",
              "      <th>0</th>\n",
              "      <th>1</th>\n",
              "      <th>2</th>\n",
              "      <th>3</th>\n",
              "      <th>4</th>\n",
              "    </tr>\n",
              "  </thead>\n",
              "  <tbody>\n",
              "    <tr>\n",
              "      <th>id</th>\n",
              "      <td>1</td>\n",
              "      <td>2</td>\n",
              "      <td>3</td>\n",
              "      <td>4</td>\n",
              "      <td>5</td>\n",
              "    </tr>\n",
              "    <tr>\n",
              "      <th>book_id</th>\n",
              "      <td>2767052</td>\n",
              "      <td>3</td>\n",
              "      <td>41865</td>\n",
              "      <td>2657</td>\n",
              "      <td>4671</td>\n",
              "    </tr>\n",
              "    <tr>\n",
              "      <th>best_book_id</th>\n",
              "      <td>2767052</td>\n",
              "      <td>3</td>\n",
              "      <td>41865</td>\n",
              "      <td>2657</td>\n",
              "      <td>4671</td>\n",
              "    </tr>\n",
              "    <tr>\n",
              "      <th>work_id</th>\n",
              "      <td>2792775</td>\n",
              "      <td>4640799</td>\n",
              "      <td>3212258</td>\n",
              "      <td>3275794</td>\n",
              "      <td>245494</td>\n",
              "    </tr>\n",
              "    <tr>\n",
              "      <th>books_count</th>\n",
              "      <td>272</td>\n",
              "      <td>491</td>\n",
              "      <td>226</td>\n",
              "      <td>487</td>\n",
              "      <td>1356</td>\n",
              "    </tr>\n",
              "    <tr>\n",
              "      <th>isbn</th>\n",
              "      <td>439023483</td>\n",
              "      <td>439554934</td>\n",
              "      <td>316015849</td>\n",
              "      <td>61120081</td>\n",
              "      <td>743273567</td>\n",
              "    </tr>\n",
              "    <tr>\n",
              "      <th>isbn13</th>\n",
              "      <td>9.78044e+12</td>\n",
              "      <td>9.78044e+12</td>\n",
              "      <td>9.78032e+12</td>\n",
              "      <td>9.78006e+12</td>\n",
              "      <td>9.78074e+12</td>\n",
              "    </tr>\n",
              "    <tr>\n",
              "      <th>authors</th>\n",
              "      <td>Suzanne Collins</td>\n",
              "      <td>J.K. Rowling, Mary GrandPré</td>\n",
              "      <td>Stephenie Meyer</td>\n",
              "      <td>Harper Lee</td>\n",
              "      <td>F. Scott Fitzgerald</td>\n",
              "    </tr>\n",
              "    <tr>\n",
              "      <th>original_publication_year</th>\n",
              "      <td>2008</td>\n",
              "      <td>1997</td>\n",
              "      <td>2005</td>\n",
              "      <td>1960</td>\n",
              "      <td>1925</td>\n",
              "    </tr>\n",
              "    <tr>\n",
              "      <th>original_title</th>\n",
              "      <td>The Hunger Games</td>\n",
              "      <td>Harry Potter and the Philosopher's Stone</td>\n",
              "      <td>Twilight</td>\n",
              "      <td>To Kill a Mockingbird</td>\n",
              "      <td>The Great Gatsby</td>\n",
              "    </tr>\n",
              "    <tr>\n",
              "      <th>title</th>\n",
              "      <td>The Hunger Games (The Hunger Games, #1)</td>\n",
              "      <td>Harry Potter and the Sorcerer's Stone (Harry P...</td>\n",
              "      <td>Twilight (Twilight, #1)</td>\n",
              "      <td>To Kill a Mockingbird</td>\n",
              "      <td>The Great Gatsby</td>\n",
              "    </tr>\n",
              "    <tr>\n",
              "      <th>language_code</th>\n",
              "      <td>eng</td>\n",
              "      <td>eng</td>\n",
              "      <td>en-US</td>\n",
              "      <td>eng</td>\n",
              "      <td>eng</td>\n",
              "    </tr>\n",
              "    <tr>\n",
              "      <th>average_rating</th>\n",
              "      <td>4.34</td>\n",
              "      <td>4.44</td>\n",
              "      <td>3.57</td>\n",
              "      <td>4.25</td>\n",
              "      <td>3.89</td>\n",
              "    </tr>\n",
              "    <tr>\n",
              "      <th>ratings_count</th>\n",
              "      <td>4780653</td>\n",
              "      <td>4602479</td>\n",
              "      <td>3866839</td>\n",
              "      <td>3198671</td>\n",
              "      <td>2683664</td>\n",
              "    </tr>\n",
              "    <tr>\n",
              "      <th>work_ratings_count</th>\n",
              "      <td>4942365</td>\n",
              "      <td>4800065</td>\n",
              "      <td>3916824</td>\n",
              "      <td>3340896</td>\n",
              "      <td>2773745</td>\n",
              "    </tr>\n",
              "    <tr>\n",
              "      <th>work_text_reviews_count</th>\n",
              "      <td>155254</td>\n",
              "      <td>75867</td>\n",
              "      <td>95009</td>\n",
              "      <td>72586</td>\n",
              "      <td>51992</td>\n",
              "    </tr>\n",
              "    <tr>\n",
              "      <th>ratings_1</th>\n",
              "      <td>66715</td>\n",
              "      <td>75504</td>\n",
              "      <td>456191</td>\n",
              "      <td>60427</td>\n",
              "      <td>86236</td>\n",
              "    </tr>\n",
              "    <tr>\n",
              "      <th>ratings_2</th>\n",
              "      <td>127936</td>\n",
              "      <td>101676</td>\n",
              "      <td>436802</td>\n",
              "      <td>117415</td>\n",
              "      <td>197621</td>\n",
              "    </tr>\n",
              "    <tr>\n",
              "      <th>ratings_3</th>\n",
              "      <td>560092</td>\n",
              "      <td>455024</td>\n",
              "      <td>793319</td>\n",
              "      <td>446835</td>\n",
              "      <td>606158</td>\n",
              "    </tr>\n",
              "    <tr>\n",
              "      <th>ratings_4</th>\n",
              "      <td>1481305</td>\n",
              "      <td>1156318</td>\n",
              "      <td>875073</td>\n",
              "      <td>1001952</td>\n",
              "      <td>936012</td>\n",
              "    </tr>\n",
              "    <tr>\n",
              "      <th>ratings_5</th>\n",
              "      <td>2706317</td>\n",
              "      <td>3011543</td>\n",
              "      <td>1355439</td>\n",
              "      <td>1714267</td>\n",
              "      <td>947718</td>\n",
              "    </tr>\n",
              "    <tr>\n",
              "      <th>image_url</th>\n",
              "      <td>https://images.gr-assets.com/books/1447303603m...</td>\n",
              "      <td>https://images.gr-assets.com/books/1474154022m...</td>\n",
              "      <td>https://images.gr-assets.com/books/1361039443m...</td>\n",
              "      <td>https://images.gr-assets.com/books/1361975680m...</td>\n",
              "      <td>https://images.gr-assets.com/books/1490528560m...</td>\n",
              "    </tr>\n",
              "    <tr>\n",
              "      <th>small_image_url</th>\n",
              "      <td>https://images.gr-assets.com/books/1447303603s...</td>\n",
              "      <td>https://images.gr-assets.com/books/1474154022s...</td>\n",
              "      <td>https://images.gr-assets.com/books/1361039443s...</td>\n",
              "      <td>https://images.gr-assets.com/books/1361975680s...</td>\n",
              "      <td>https://images.gr-assets.com/books/1490528560s...</td>\n",
              "    </tr>\n",
              "  </tbody>\n",
              "</table>\n",
              "</div>"
            ],
            "text/plain": [
              "                                                                           0  ...                                                  4\n",
              "id                                                                         1  ...                                                  5\n",
              "book_id                                                              2767052  ...                                               4671\n",
              "best_book_id                                                         2767052  ...                                               4671\n",
              "work_id                                                              2792775  ...                                             245494\n",
              "books_count                                                              272  ...                                               1356\n",
              "isbn                                                               439023483  ...                                          743273567\n",
              "isbn13                                                           9.78044e+12  ...                                        9.78074e+12\n",
              "authors                                                      Suzanne Collins  ...                                F. Scott Fitzgerald\n",
              "original_publication_year                                               2008  ...                                               1925\n",
              "original_title                                              The Hunger Games  ...                                   The Great Gatsby\n",
              "title                                The Hunger Games (The Hunger Games, #1)  ...                                   The Great Gatsby\n",
              "language_code                                                            eng  ...                                                eng\n",
              "average_rating                                                          4.34  ...                                               3.89\n",
              "ratings_count                                                        4780653  ...                                            2683664\n",
              "work_ratings_count                                                   4942365  ...                                            2773745\n",
              "work_text_reviews_count                                               155254  ...                                              51992\n",
              "ratings_1                                                              66715  ...                                              86236\n",
              "ratings_2                                                             127936  ...                                             197621\n",
              "ratings_3                                                             560092  ...                                             606158\n",
              "ratings_4                                                            1481305  ...                                             936012\n",
              "ratings_5                                                            2706317  ...                                             947718\n",
              "image_url                  https://images.gr-assets.com/books/1447303603m...  ...  https://images.gr-assets.com/books/1490528560m...\n",
              "small_image_url            https://images.gr-assets.com/books/1447303603s...  ...  https://images.gr-assets.com/books/1490528560s...\n",
              "\n",
              "[23 rows x 5 columns]"
            ]
          },
          "metadata": {
            "tags": []
          },
          "execution_count": 4
        }
      ]
    },
    {
      "cell_type": "code",
      "metadata": {
        "id": "n-QCYKnvgTTy",
        "colab": {
          "base_uri": "https://localhost:8080/",
          "height": 197
        },
        "outputId": "f5cb6a49-0579-4a21-f15b-4c4500c79c22"
      },
      "source": [
        "ratings.head()"
      ],
      "execution_count": null,
      "outputs": [
        {
          "output_type": "execute_result",
          "data": {
            "text/html": [
              "<div>\n",
              "<style scoped>\n",
              "    .dataframe tbody tr th:only-of-type {\n",
              "        vertical-align: middle;\n",
              "    }\n",
              "\n",
              "    .dataframe tbody tr th {\n",
              "        vertical-align: top;\n",
              "    }\n",
              "\n",
              "    .dataframe thead th {\n",
              "        text-align: right;\n",
              "    }\n",
              "</style>\n",
              "<table border=\"1\" class=\"dataframe\">\n",
              "  <thead>\n",
              "    <tr style=\"text-align: right;\">\n",
              "      <th></th>\n",
              "      <th>book_id</th>\n",
              "      <th>user_id</th>\n",
              "      <th>rating</th>\n",
              "    </tr>\n",
              "  </thead>\n",
              "  <tbody>\n",
              "    <tr>\n",
              "      <th>0</th>\n",
              "      <td>1</td>\n",
              "      <td>314</td>\n",
              "      <td>5</td>\n",
              "    </tr>\n",
              "    <tr>\n",
              "      <th>1</th>\n",
              "      <td>1</td>\n",
              "      <td>439</td>\n",
              "      <td>3</td>\n",
              "    </tr>\n",
              "    <tr>\n",
              "      <th>2</th>\n",
              "      <td>1</td>\n",
              "      <td>588</td>\n",
              "      <td>5</td>\n",
              "    </tr>\n",
              "    <tr>\n",
              "      <th>3</th>\n",
              "      <td>1</td>\n",
              "      <td>1169</td>\n",
              "      <td>4</td>\n",
              "    </tr>\n",
              "    <tr>\n",
              "      <th>4</th>\n",
              "      <td>1</td>\n",
              "      <td>1185</td>\n",
              "      <td>4</td>\n",
              "    </tr>\n",
              "  </tbody>\n",
              "</table>\n",
              "</div>"
            ],
            "text/plain": [
              "   book_id  user_id  rating\n",
              "0        1      314       5\n",
              "1        1      439       3\n",
              "2        1      588       5\n",
              "3        1     1169       4\n",
              "4        1     1185       4"
            ]
          },
          "metadata": {
            "tags": []
          },
          "execution_count": 5
        }
      ]
    },
    {
      "cell_type": "code",
      "metadata": {
        "id": "stxq9xTFgTT8",
        "colab": {
          "base_uri": "https://localhost:8080/",
          "height": 197
        },
        "outputId": "ea3417be-c160-4b6d-918e-5584165323ab"
      },
      "source": [
        "book_tags.head()"
      ],
      "execution_count": null,
      "outputs": [
        {
          "output_type": "execute_result",
          "data": {
            "text/html": [
              "<div>\n",
              "<style scoped>\n",
              "    .dataframe tbody tr th:only-of-type {\n",
              "        vertical-align: middle;\n",
              "    }\n",
              "\n",
              "    .dataframe tbody tr th {\n",
              "        vertical-align: top;\n",
              "    }\n",
              "\n",
              "    .dataframe thead th {\n",
              "        text-align: right;\n",
              "    }\n",
              "</style>\n",
              "<table border=\"1\" class=\"dataframe\">\n",
              "  <thead>\n",
              "    <tr style=\"text-align: right;\">\n",
              "      <th></th>\n",
              "      <th>goodreads_book_id</th>\n",
              "      <th>tag_id</th>\n",
              "      <th>count</th>\n",
              "    </tr>\n",
              "  </thead>\n",
              "  <tbody>\n",
              "    <tr>\n",
              "      <th>0</th>\n",
              "      <td>1</td>\n",
              "      <td>30574</td>\n",
              "      <td>167697</td>\n",
              "    </tr>\n",
              "    <tr>\n",
              "      <th>1</th>\n",
              "      <td>1</td>\n",
              "      <td>11305</td>\n",
              "      <td>37174</td>\n",
              "    </tr>\n",
              "    <tr>\n",
              "      <th>2</th>\n",
              "      <td>1</td>\n",
              "      <td>11557</td>\n",
              "      <td>34173</td>\n",
              "    </tr>\n",
              "    <tr>\n",
              "      <th>3</th>\n",
              "      <td>1</td>\n",
              "      <td>8717</td>\n",
              "      <td>12986</td>\n",
              "    </tr>\n",
              "    <tr>\n",
              "      <th>4</th>\n",
              "      <td>1</td>\n",
              "      <td>33114</td>\n",
              "      <td>12716</td>\n",
              "    </tr>\n",
              "  </tbody>\n",
              "</table>\n",
              "</div>"
            ],
            "text/plain": [
              "   goodreads_book_id  tag_id   count\n",
              "0                  1   30574  167697\n",
              "1                  1   11305   37174\n",
              "2                  1   11557   34173\n",
              "3                  1    8717   12986\n",
              "4                  1   33114   12716"
            ]
          },
          "metadata": {
            "tags": []
          },
          "execution_count": 6
        }
      ]
    },
    {
      "cell_type": "code",
      "metadata": {
        "id": "KUp__R4ogTUH",
        "colab": {
          "base_uri": "https://localhost:8080/",
          "height": 197
        },
        "outputId": "21949162-faa9-4812-a056-24c9a757bc52"
      },
      "source": [
        "tags.head()"
      ],
      "execution_count": null,
      "outputs": [
        {
          "output_type": "execute_result",
          "data": {
            "text/html": [
              "<div>\n",
              "<style scoped>\n",
              "    .dataframe tbody tr th:only-of-type {\n",
              "        vertical-align: middle;\n",
              "    }\n",
              "\n",
              "    .dataframe tbody tr th {\n",
              "        vertical-align: top;\n",
              "    }\n",
              "\n",
              "    .dataframe thead th {\n",
              "        text-align: right;\n",
              "    }\n",
              "</style>\n",
              "<table border=\"1\" class=\"dataframe\">\n",
              "  <thead>\n",
              "    <tr style=\"text-align: right;\">\n",
              "      <th></th>\n",
              "      <th>tag_id</th>\n",
              "      <th>tag_name</th>\n",
              "    </tr>\n",
              "  </thead>\n",
              "  <tbody>\n",
              "    <tr>\n",
              "      <th>0</th>\n",
              "      <td>0</td>\n",
              "      <td>-</td>\n",
              "    </tr>\n",
              "    <tr>\n",
              "      <th>1</th>\n",
              "      <td>1</td>\n",
              "      <td>--1-</td>\n",
              "    </tr>\n",
              "    <tr>\n",
              "      <th>2</th>\n",
              "      <td>2</td>\n",
              "      <td>--10-</td>\n",
              "    </tr>\n",
              "    <tr>\n",
              "      <th>3</th>\n",
              "      <td>3</td>\n",
              "      <td>--12-</td>\n",
              "    </tr>\n",
              "    <tr>\n",
              "      <th>4</th>\n",
              "      <td>4</td>\n",
              "      <td>--122-</td>\n",
              "    </tr>\n",
              "  </tbody>\n",
              "</table>\n",
              "</div>"
            ],
            "text/plain": [
              "   tag_id tag_name\n",
              "0       0        -\n",
              "1       1     --1-\n",
              "2       2    --10-\n",
              "3       3    --12-\n",
              "4       4   --122-"
            ]
          },
          "metadata": {
            "tags": []
          },
          "execution_count": 7
        }
      ]
    },
    {
      "cell_type": "markdown",
      "metadata": {
        "id": "Z_f2x5HNgTUQ"
      },
      "source": [
        "## *Books*"
      ]
    },
    {
      "cell_type": "code",
      "metadata": {
        "id": "DBj55leWgTUR",
        "colab": {
          "base_uri": "https://localhost:8080/"
        },
        "outputId": "98f72857-0408-481f-a01d-90352b380fb2"
      },
      "source": [
        "books.shape"
      ],
      "execution_count": null,
      "outputs": [
        {
          "output_type": "execute_result",
          "data": {
            "text/plain": [
              "(10000, 23)"
            ]
          },
          "metadata": {
            "tags": []
          },
          "execution_count": 8
        }
      ]
    },
    {
      "cell_type": "code",
      "metadata": {
        "id": "JOrhBkCVgTUZ",
        "colab": {
          "base_uri": "https://localhost:8080/",
          "height": 307
        },
        "outputId": "c3e7782d-bec9-488d-81c2-775cc8b50171"
      },
      "source": [
        "books.describe()"
      ],
      "execution_count": null,
      "outputs": [
        {
          "output_type": "execute_result",
          "data": {
            "text/html": [
              "<div>\n",
              "<style scoped>\n",
              "    .dataframe tbody tr th:only-of-type {\n",
              "        vertical-align: middle;\n",
              "    }\n",
              "\n",
              "    .dataframe tbody tr th {\n",
              "        vertical-align: top;\n",
              "    }\n",
              "\n",
              "    .dataframe thead th {\n",
              "        text-align: right;\n",
              "    }\n",
              "</style>\n",
              "<table border=\"1\" class=\"dataframe\">\n",
              "  <thead>\n",
              "    <tr style=\"text-align: right;\">\n",
              "      <th></th>\n",
              "      <th>id</th>\n",
              "      <th>book_id</th>\n",
              "      <th>best_book_id</th>\n",
              "      <th>work_id</th>\n",
              "      <th>books_count</th>\n",
              "      <th>isbn13</th>\n",
              "      <th>original_publication_year</th>\n",
              "      <th>average_rating</th>\n",
              "      <th>ratings_count</th>\n",
              "      <th>work_ratings_count</th>\n",
              "      <th>work_text_reviews_count</th>\n",
              "      <th>ratings_1</th>\n",
              "      <th>ratings_2</th>\n",
              "      <th>ratings_3</th>\n",
              "      <th>ratings_4</th>\n",
              "      <th>ratings_5</th>\n",
              "    </tr>\n",
              "  </thead>\n",
              "  <tbody>\n",
              "    <tr>\n",
              "      <th>count</th>\n",
              "      <td>10000.00000</td>\n",
              "      <td>1.000000e+04</td>\n",
              "      <td>1.000000e+04</td>\n",
              "      <td>1.000000e+04</td>\n",
              "      <td>10000.000000</td>\n",
              "      <td>9.415000e+03</td>\n",
              "      <td>9979.000000</td>\n",
              "      <td>10000.000000</td>\n",
              "      <td>1.000000e+04</td>\n",
              "      <td>1.000000e+04</td>\n",
              "      <td>10000.000000</td>\n",
              "      <td>10000.000000</td>\n",
              "      <td>10000.000000</td>\n",
              "      <td>10000.000000</td>\n",
              "      <td>1.000000e+04</td>\n",
              "      <td>1.000000e+04</td>\n",
              "    </tr>\n",
              "    <tr>\n",
              "      <th>mean</th>\n",
              "      <td>5000.50000</td>\n",
              "      <td>5.264697e+06</td>\n",
              "      <td>5.471214e+06</td>\n",
              "      <td>8.646183e+06</td>\n",
              "      <td>75.712700</td>\n",
              "      <td>9.755044e+12</td>\n",
              "      <td>1981.987674</td>\n",
              "      <td>4.002191</td>\n",
              "      <td>5.400124e+04</td>\n",
              "      <td>5.968732e+04</td>\n",
              "      <td>2919.955300</td>\n",
              "      <td>1345.040600</td>\n",
              "      <td>3110.885000</td>\n",
              "      <td>11475.893800</td>\n",
              "      <td>1.996570e+04</td>\n",
              "      <td>2.378981e+04</td>\n",
              "    </tr>\n",
              "    <tr>\n",
              "      <th>std</th>\n",
              "      <td>2886.89568</td>\n",
              "      <td>7.575462e+06</td>\n",
              "      <td>7.827330e+06</td>\n",
              "      <td>1.175106e+07</td>\n",
              "      <td>170.470728</td>\n",
              "      <td>4.428619e+11</td>\n",
              "      <td>152.576665</td>\n",
              "      <td>0.254427</td>\n",
              "      <td>1.573700e+05</td>\n",
              "      <td>1.678038e+05</td>\n",
              "      <td>6124.378132</td>\n",
              "      <td>6635.626263</td>\n",
              "      <td>9717.123578</td>\n",
              "      <td>28546.449183</td>\n",
              "      <td>5.144736e+04</td>\n",
              "      <td>7.976889e+04</td>\n",
              "    </tr>\n",
              "    <tr>\n",
              "      <th>min</th>\n",
              "      <td>1.00000</td>\n",
              "      <td>1.000000e+00</td>\n",
              "      <td>1.000000e+00</td>\n",
              "      <td>8.700000e+01</td>\n",
              "      <td>1.000000</td>\n",
              "      <td>1.951703e+08</td>\n",
              "      <td>-1750.000000</td>\n",
              "      <td>2.470000</td>\n",
              "      <td>2.716000e+03</td>\n",
              "      <td>5.510000e+03</td>\n",
              "      <td>3.000000</td>\n",
              "      <td>11.000000</td>\n",
              "      <td>30.000000</td>\n",
              "      <td>323.000000</td>\n",
              "      <td>7.500000e+02</td>\n",
              "      <td>7.540000e+02</td>\n",
              "    </tr>\n",
              "    <tr>\n",
              "      <th>25%</th>\n",
              "      <td>2500.75000</td>\n",
              "      <td>4.627575e+04</td>\n",
              "      <td>4.791175e+04</td>\n",
              "      <td>1.008841e+06</td>\n",
              "      <td>23.000000</td>\n",
              "      <td>9.780316e+12</td>\n",
              "      <td>1990.000000</td>\n",
              "      <td>3.850000</td>\n",
              "      <td>1.356875e+04</td>\n",
              "      <td>1.543875e+04</td>\n",
              "      <td>694.000000</td>\n",
              "      <td>196.000000</td>\n",
              "      <td>656.000000</td>\n",
              "      <td>3112.000000</td>\n",
              "      <td>5.405750e+03</td>\n",
              "      <td>5.334000e+03</td>\n",
              "    </tr>\n",
              "    <tr>\n",
              "      <th>50%</th>\n",
              "      <td>5000.50000</td>\n",
              "      <td>3.949655e+05</td>\n",
              "      <td>4.251235e+05</td>\n",
              "      <td>2.719524e+06</td>\n",
              "      <td>40.000000</td>\n",
              "      <td>9.780452e+12</td>\n",
              "      <td>2004.000000</td>\n",
              "      <td>4.020000</td>\n",
              "      <td>2.115550e+04</td>\n",
              "      <td>2.383250e+04</td>\n",
              "      <td>1402.000000</td>\n",
              "      <td>391.000000</td>\n",
              "      <td>1163.000000</td>\n",
              "      <td>4894.000000</td>\n",
              "      <td>8.269500e+03</td>\n",
              "      <td>8.836000e+03</td>\n",
              "    </tr>\n",
              "    <tr>\n",
              "      <th>75%</th>\n",
              "      <td>7500.25000</td>\n",
              "      <td>9.382225e+06</td>\n",
              "      <td>9.636112e+06</td>\n",
              "      <td>1.451775e+07</td>\n",
              "      <td>67.000000</td>\n",
              "      <td>9.780831e+12</td>\n",
              "      <td>2011.000000</td>\n",
              "      <td>4.180000</td>\n",
              "      <td>4.105350e+04</td>\n",
              "      <td>4.591500e+04</td>\n",
              "      <td>2744.250000</td>\n",
              "      <td>885.000000</td>\n",
              "      <td>2353.250000</td>\n",
              "      <td>9287.000000</td>\n",
              "      <td>1.602350e+04</td>\n",
              "      <td>1.730450e+04</td>\n",
              "    </tr>\n",
              "    <tr>\n",
              "      <th>max</th>\n",
              "      <td>10000.00000</td>\n",
              "      <td>3.328864e+07</td>\n",
              "      <td>3.553423e+07</td>\n",
              "      <td>5.639960e+07</td>\n",
              "      <td>3455.000000</td>\n",
              "      <td>9.790008e+12</td>\n",
              "      <td>2017.000000</td>\n",
              "      <td>4.820000</td>\n",
              "      <td>4.780653e+06</td>\n",
              "      <td>4.942365e+06</td>\n",
              "      <td>155254.000000</td>\n",
              "      <td>456191.000000</td>\n",
              "      <td>436802.000000</td>\n",
              "      <td>793319.000000</td>\n",
              "      <td>1.481305e+06</td>\n",
              "      <td>3.011543e+06</td>\n",
              "    </tr>\n",
              "  </tbody>\n",
              "</table>\n",
              "</div>"
            ],
            "text/plain": [
              "                id       book_id  ...     ratings_4     ratings_5\n",
              "count  10000.00000  1.000000e+04  ...  1.000000e+04  1.000000e+04\n",
              "mean    5000.50000  5.264697e+06  ...  1.996570e+04  2.378981e+04\n",
              "std     2886.89568  7.575462e+06  ...  5.144736e+04  7.976889e+04\n",
              "min        1.00000  1.000000e+00  ...  7.500000e+02  7.540000e+02\n",
              "25%     2500.75000  4.627575e+04  ...  5.405750e+03  5.334000e+03\n",
              "50%     5000.50000  3.949655e+05  ...  8.269500e+03  8.836000e+03\n",
              "75%     7500.25000  9.382225e+06  ...  1.602350e+04  1.730450e+04\n",
              "max    10000.00000  3.328864e+07  ...  1.481305e+06  3.011543e+06\n",
              "\n",
              "[8 rows x 16 columns]"
            ]
          },
          "metadata": {
            "tags": []
          },
          "execution_count": 9
        }
      ]
    },
    {
      "cell_type": "code",
      "metadata": {
        "id": "UnVUISnsgTUh",
        "scrolled": false,
        "colab": {
          "base_uri": "https://localhost:8080/"
        },
        "outputId": "40188381-5395-4c9a-d8a3-a7b2dd26ed6d"
      },
      "source": [
        "books.info()"
      ],
      "execution_count": null,
      "outputs": [
        {
          "output_type": "stream",
          "text": [
            "<class 'pandas.core.frame.DataFrame'>\n",
            "RangeIndex: 10000 entries, 0 to 9999\n",
            "Data columns (total 23 columns):\n",
            " #   Column                     Non-Null Count  Dtype  \n",
            "---  ------                     --------------  -----  \n",
            " 0   id                         10000 non-null  int64  \n",
            " 1   book_id                    10000 non-null  int64  \n",
            " 2   best_book_id               10000 non-null  int64  \n",
            " 3   work_id                    10000 non-null  int64  \n",
            " 4   books_count                10000 non-null  int64  \n",
            " 5   isbn                       9300 non-null   object \n",
            " 6   isbn13                     9415 non-null   float64\n",
            " 7   authors                    10000 non-null  object \n",
            " 8   original_publication_year  9979 non-null   float64\n",
            " 9   original_title             9415 non-null   object \n",
            " 10  title                      10000 non-null  object \n",
            " 11  language_code              8916 non-null   object \n",
            " 12  average_rating             10000 non-null  float64\n",
            " 13  ratings_count              10000 non-null  int64  \n",
            " 14  work_ratings_count         10000 non-null  int64  \n",
            " 15  work_text_reviews_count    10000 non-null  int64  \n",
            " 16  ratings_1                  10000 non-null  int64  \n",
            " 17  ratings_2                  10000 non-null  int64  \n",
            " 18  ratings_3                  10000 non-null  int64  \n",
            " 19  ratings_4                  10000 non-null  int64  \n",
            " 20  ratings_5                  10000 non-null  int64  \n",
            " 21  image_url                  10000 non-null  object \n",
            " 22  small_image_url            10000 non-null  object \n",
            "dtypes: float64(3), int64(13), object(7)\n",
            "memory usage: 1.8+ MB\n"
          ],
          "name": "stdout"
        }
      ]
    },
    {
      "cell_type": "markdown",
      "metadata": {
        "id": "qg1qB9c-gTUq"
      },
      "source": [
        "# Cleaning Data<a id=\"3\"></a> <br>"
      ]
    },
    {
      "cell_type": "markdown",
      "metadata": {
        "id": "qEVZrmklgTUs"
      },
      "source": [
        "## - Handle Missing Data<a id=\"4\"></a> <br>"
      ]
    },
    {
      "cell_type": "code",
      "metadata": {
        "id": "PJ4MhmjbgTVI",
        "colab": {
          "base_uri": "https://localhost:8080/"
        },
        "outputId": "c8bc8cb3-582d-419f-9f19-765edb52081b"
      },
      "source": [
        "null_columns=books.columns[books.isna().any()]\n",
        "books[null_columns].isna().sum()"
      ],
      "execution_count": null,
      "outputs": [
        {
          "output_type": "execute_result",
          "data": {
            "text/plain": [
              "isbn               700\n",
              "isbn13             585\n",
              "original_title     585\n",
              "language_code     1084\n",
              "dtype: int64"
            ]
          },
          "metadata": {
            "tags": []
          },
          "execution_count": 117
        }
      ]
    },
    {
      "cell_type": "code",
      "metadata": {
        "colab": {
          "base_uri": "https://localhost:8080/"
        },
        "id": "MrAHmgijvjzl",
        "outputId": "d1258ec8-a679-4767-ccf4-68b01243ca5b"
      },
      "source": [
        "books.shape"
      ],
      "execution_count": null,
      "outputs": [
        {
          "output_type": "execute_result",
          "data": {
            "text/plain": [
              "(10000, 23)"
            ]
          },
          "metadata": {
            "tags": []
          },
          "execution_count": 118
        }
      ]
    },
    {
      "cell_type": "code",
      "metadata": {
        "colab": {
          "base_uri": "https://localhost:8080/"
        },
        "id": "KMEcr7fhvoFS",
        "outputId": "ca179fb9-c134-4a35-b91d-45fa0c01d043"
      },
      "source": [
        "null_isbn = books[books.isbn.isna()==True].book_id\n",
        "null_isbn.head()"
      ],
      "execution_count": null,
      "outputs": [
        {
          "output_type": "execute_result",
          "data": {
            "text/plain": [
              "105     9418327\n",
              "120        7604\n",
              "161       49552\n",
              "187    10664113\n",
              "202    11505797\n",
              "Name: book_id, dtype: int64"
            ]
          },
          "metadata": {
            "tags": []
          },
          "execution_count": 119
        }
      ]
    },
    {
      "cell_type": "code",
      "metadata": {
        "id": "L8NsRm9fvoQx"
      },
      "source": [
        "books=books.dropna()"
      ],
      "execution_count": null,
      "outputs": []
    },
    {
      "cell_type": "markdown",
      "metadata": {
        "id": "RPn3cPv9wcar"
      },
      "source": [
        "#removing all missing data"
      ]
    },
    {
      "cell_type": "code",
      "metadata": {
        "colab": {
          "base_uri": "https://localhost:8080/"
        },
        "id": "RypIDhHX87TK",
        "outputId": "0a45867b-9a16-4a75-e0e7-f0cb5bf1d120"
      },
      "source": [
        "books.shape"
      ],
      "execution_count": null,
      "outputs": [
        {
          "output_type": "execute_result",
          "data": {
            "text/plain": [
              "(7865, 23)"
            ]
          },
          "metadata": {
            "tags": []
          },
          "execution_count": 214
        }
      ]
    },
    {
      "cell_type": "markdown",
      "metadata": {
        "id": "x7wha9iBgTVt"
      },
      "source": [
        "## - Handle Duplicated Books<a id=\"8\"></a> <br>"
      ]
    },
    {
      "cell_type": "code",
      "metadata": {
        "id": "zYP95wn_gTVt"
      },
      "source": [
        "f=books[books.title.duplicated(keep=False)==True].sort_values('title').transpose()"
      ],
      "execution_count": null,
      "outputs": []
    },
    {
      "cell_type": "code",
      "metadata": {
        "id": "H1YdlVJT9T5Y",
        "colab": {
          "base_uri": "https://localhost:8080/",
          "height": 824
        },
        "outputId": "2a94f92c-3aa3-49ab-e561-317c0a51a2fc"
      },
      "source": [
        "f"
      ],
      "execution_count": null,
      "outputs": [
        {
          "output_type": "execute_result",
          "data": {
            "text/html": [
              "<div>\n",
              "<style scoped>\n",
              "    .dataframe tbody tr th:only-of-type {\n",
              "        vertical-align: middle;\n",
              "    }\n",
              "\n",
              "    .dataframe tbody tr th {\n",
              "        vertical-align: top;\n",
              "    }\n",
              "\n",
              "    .dataframe thead th {\n",
              "        text-align: right;\n",
              "    }\n",
              "</style>\n",
              "<table border=\"1\" class=\"dataframe\">\n",
              "  <thead>\n",
              "    <tr style=\"text-align: right;\">\n",
              "      <th></th>\n",
              "      <th>348</th>\n",
              "      <th>1291</th>\n",
              "      <th>6480</th>\n",
              "      <th>6104</th>\n",
              "      <th>578</th>\n",
              "      <th>5786</th>\n",
              "      <th>7448</th>\n",
              "      <th>5556</th>\n",
              "      <th>7461</th>\n",
              "      <th>3551</th>\n",
              "      <th>2147</th>\n",
              "      <th>5479</th>\n",
              "      <th>9149</th>\n",
              "      <th>9812</th>\n",
              "      <th>7022</th>\n",
              "      <th>3111</th>\n",
              "      <th>8898</th>\n",
              "      <th>9783</th>\n",
              "      <th>6454</th>\n",
              "      <th>4456</th>\n",
              "      <th>7024</th>\n",
              "      <th>3911</th>\n",
              "      <th>1259</th>\n",
              "      <th>5173</th>\n",
              "      <th>3130</th>\n",
              "      <th>8167</th>\n",
              "      <th>6021</th>\n",
              "      <th>4938</th>\n",
              "      <th>3471</th>\n",
              "      <th>6505</th>\n",
              "      <th>7683</th>\n",
              "      <th>1173</th>\n",
              "      <th>5616</th>\n",
              "      <th>7644</th>\n",
              "      <th>7399</th>\n",
              "      <th>4028</th>\n",
              "      <th>4211</th>\n",
              "    </tr>\n",
              "  </thead>\n",
              "  <tbody>\n",
              "    <tr>\n",
              "      <th>id</th>\n",
              "      <td>349</td>\n",
              "      <td>1292</td>\n",
              "      <td>6481</td>\n",
              "      <td>6105</td>\n",
              "      <td>579</td>\n",
              "      <td>5787</td>\n",
              "      <td>7449</td>\n",
              "      <td>5557</td>\n",
              "      <td>7462</td>\n",
              "      <td>3552</td>\n",
              "      <td>2148</td>\n",
              "      <td>5480</td>\n",
              "      <td>9150</td>\n",
              "      <td>9813</td>\n",
              "      <td>7023</td>\n",
              "      <td>3112</td>\n",
              "      <td>8899</td>\n",
              "      <td>9784</td>\n",
              "      <td>6455</td>\n",
              "      <td>4457</td>\n",
              "      <td>7025</td>\n",
              "      <td>3912</td>\n",
              "      <td>1260</td>\n",
              "      <td>5174</td>\n",
              "      <td>3131</td>\n",
              "      <td>8168</td>\n",
              "      <td>6022</td>\n",
              "      <td>4939</td>\n",
              "      <td>3472</td>\n",
              "      <td>6506</td>\n",
              "      <td>7684</td>\n",
              "      <td>1174</td>\n",
              "      <td>5617</td>\n",
              "      <td>7645</td>\n",
              "      <td>7400</td>\n",
              "      <td>4029</td>\n",
              "      <td>4212</td>\n",
              "    </tr>\n",
              "    <tr>\n",
              "      <th>book_id</th>\n",
              "      <td>11590</td>\n",
              "      <td>5413</td>\n",
              "      <td>384597</td>\n",
              "      <td>11866694</td>\n",
              "      <td>197084</td>\n",
              "      <td>11566956</td>\n",
              "      <td>6345193</td>\n",
              "      <td>18656055</td>\n",
              "      <td>456</td>\n",
              "      <td>91953</td>\n",
              "      <td>44184</td>\n",
              "      <td>65684</td>\n",
              "      <td>17192373</td>\n",
              "      <td>97408</td>\n",
              "      <td>381489</td>\n",
              "      <td>7134202</td>\n",
              "      <td>119239</td>\n",
              "      <td>26599</td>\n",
              "      <td>112200</td>\n",
              "      <td>18225810</td>\n",
              "      <td>26506</td>\n",
              "      <td>2071575</td>\n",
              "      <td>7510</td>\n",
              "      <td>18668066</td>\n",
              "      <td>243705</td>\n",
              "      <td>47730</td>\n",
              "      <td>138134</td>\n",
              "      <td>22904</td>\n",
              "      <td>284996</td>\n",
              "      <td>4279056</td>\n",
              "      <td>59836</td>\n",
              "      <td>26893819</td>\n",
              "      <td>47076</td>\n",
              "      <td>2430</td>\n",
              "      <td>10866233</td>\n",
              "      <td>16240761</td>\n",
              "      <td>19101283</td>\n",
              "    </tr>\n",
              "    <tr>\n",
              "      <th>best_book_id</th>\n",
              "      <td>11590</td>\n",
              "      <td>5413</td>\n",
              "      <td>384597</td>\n",
              "      <td>11866694</td>\n",
              "      <td>197084</td>\n",
              "      <td>11566956</td>\n",
              "      <td>6345193</td>\n",
              "      <td>18656055</td>\n",
              "      <td>456</td>\n",
              "      <td>91953</td>\n",
              "      <td>44184</td>\n",
              "      <td>65684</td>\n",
              "      <td>17192373</td>\n",
              "      <td>97408</td>\n",
              "      <td>381489</td>\n",
              "      <td>7134202</td>\n",
              "      <td>119239</td>\n",
              "      <td>26599</td>\n",
              "      <td>112200</td>\n",
              "      <td>18225810</td>\n",
              "      <td>26506</td>\n",
              "      <td>2071575</td>\n",
              "      <td>7510</td>\n",
              "      <td>18668066</td>\n",
              "      <td>243705</td>\n",
              "      <td>47730</td>\n",
              "      <td>138134</td>\n",
              "      <td>22904</td>\n",
              "      <td>284996</td>\n",
              "      <td>4279056</td>\n",
              "      <td>59836</td>\n",
              "      <td>26893819</td>\n",
              "      <td>47076</td>\n",
              "      <td>2430</td>\n",
              "      <td>10866233</td>\n",
              "      <td>16240761</td>\n",
              "      <td>19101283</td>\n",
              "    </tr>\n",
              "    <tr>\n",
              "      <th>work_id</th>\n",
              "      <td>3048937</td>\n",
              "      <td>40802405</td>\n",
              "      <td>1303332</td>\n",
              "      <td>16823763</td>\n",
              "      <td>1837885</td>\n",
              "      <td>16507555</td>\n",
              "      <td>6448995</td>\n",
              "      <td>26470742</td>\n",
              "      <td>1128381</td>\n",
              "      <td>680963</td>\n",
              "      <td>1386643</td>\n",
              "      <td>1416661</td>\n",
              "      <td>23645580</td>\n",
              "      <td>93897</td>\n",
              "      <td>2764</td>\n",
              "      <td>7397180</td>\n",
              "      <td>1697235</td>\n",
              "      <td>1247207</td>\n",
              "      <td>471777</td>\n",
              "      <td>24902370</td>\n",
              "      <td>1008958</td>\n",
              "      <td>2076822</td>\n",
              "      <td>22576</td>\n",
              "      <td>26493730</td>\n",
              "      <td>1816452</td>\n",
              "      <td>46720</td>\n",
              "      <td>1701632</td>\n",
              "      <td>568437</td>\n",
              "      <td>886814</td>\n",
              "      <td>4326592</td>\n",
              "      <td>1912773</td>\n",
              "      <td>42856015</td>\n",
              "      <td>1007854</td>\n",
              "      <td>2758207</td>\n",
              "      <td>15781430</td>\n",
              "      <td>19110442</td>\n",
              "      <td>24342394</td>\n",
              "    </tr>\n",
              "    <tr>\n",
              "      <th>books_count</th>\n",
              "      <td>211</td>\n",
              "      <td>22</td>\n",
              "      <td>24</td>\n",
              "      <td>23</td>\n",
              "      <td>44</td>\n",
              "      <td>15</td>\n",
              "      <td>44</td>\n",
              "      <td>39</td>\n",
              "      <td>50</td>\n",
              "      <td>364</td>\n",
              "      <td>39</td>\n",
              "      <td>27</td>\n",
              "      <td>53</td>\n",
              "      <td>12</td>\n",
              "      <td>25</td>\n",
              "      <td>54</td>\n",
              "      <td>40</td>\n",
              "      <td>3</td>\n",
              "      <td>98</td>\n",
              "      <td>14</td>\n",
              "      <td>52</td>\n",
              "      <td>33</td>\n",
              "      <td>60</td>\n",
              "      <td>52</td>\n",
              "      <td>123</td>\n",
              "      <td>13</td>\n",
              "      <td>40</td>\n",
              "      <td>70</td>\n",
              "      <td>41</td>\n",
              "      <td>73</td>\n",
              "      <td>55</td>\n",
              "      <td>59</td>\n",
              "      <td>51</td>\n",
              "      <td>29</td>\n",
              "      <td>20</td>\n",
              "      <td>53</td>\n",
              "      <td>78</td>\n",
              "    </tr>\n",
              "    <tr>\n",
              "      <th>isbn</th>\n",
              "      <td>450031063</td>\n",
              "      <td>385516487</td>\n",
              "      <td>571169341</td>\n",
              "      <td>1401340873</td>\n",
              "      <td>1713221</td>\n",
              "      <td>618982507</td>\n",
              "      <td>805090800</td>\n",
              "      <td>316405345</td>\n",
              "      <td>140178139</td>\n",
              "      <td>140431950</td>\n",
              "      <td>64407314</td>\n",
              "      <td>1595541217</td>\n",
              "      <td>857520660</td>\n",
              "      <td>1571316515</td>\n",
              "      <td>1416918736</td>\n",
              "      <td>316096156</td>\n",
              "      <td>140424504</td>\n",
              "      <td>871401541</td>\n",
              "      <td>517206064</td>\n",
              "      <td>545540607</td>\n",
              "      <td>385340222</td>\n",
              "      <td>670018856</td>\n",
              "      <td>446612545</td>\n",
              "      <td>399171088</td>\n",
              "      <td>99470470</td>\n",
              "      <td>395957761</td>\n",
              "      <td>679601082</td>\n",
              "      <td>805210555</td>\n",
              "      <td>374515360</td>\n",
              "      <td>7284977</td>\n",
              "      <td>440221315</td>\n",
              "      <td>081299860X</td>\n",
              "      <td>316066346</td>\n",
              "      <td>515121495</td>\n",
              "      <td>545169178</td>\n",
              "      <td>62120395</td>\n",
              "      <td>385351372</td>\n",
              "    </tr>\n",
              "    <tr>\n",
              "      <th>isbn13</th>\n",
              "      <td>9.78045e+12</td>\n",
              "      <td>9.78039e+12</td>\n",
              "      <td>9.78057e+12</td>\n",
              "      <td>9.7814e+12</td>\n",
              "      <td>9.78e+12</td>\n",
              "      <td>9.78062e+12</td>\n",
              "      <td>9.78081e+12</td>\n",
              "      <td>9.78032e+12</td>\n",
              "      <td>9.78014e+12</td>\n",
              "      <td>9.78014e+12</td>\n",
              "      <td>9.78006e+12</td>\n",
              "      <td>9.7816e+12</td>\n",
              "      <td>9.78086e+12</td>\n",
              "      <td>9.78157e+12</td>\n",
              "      <td>9.78142e+12</td>\n",
              "      <td>9.78032e+12</td>\n",
              "      <td>9.78014e+12</td>\n",
              "      <td>9.78087e+12</td>\n",
              "      <td>9.78052e+12</td>\n",
              "      <td>9.78055e+12</td>\n",
              "      <td>9.78039e+12</td>\n",
              "      <td>9.78067e+12</td>\n",
              "      <td>9.78045e+12</td>\n",
              "      <td>9.7804e+12</td>\n",
              "      <td>9.7801e+12</td>\n",
              "      <td>9.7804e+12</td>\n",
              "      <td>9.78068e+12</td>\n",
              "      <td>9.78081e+12</td>\n",
              "      <td>9.78037e+12</td>\n",
              "      <td>9.78001e+12</td>\n",
              "      <td>9.78044e+12</td>\n",
              "      <td>9.78081e+12</td>\n",
              "      <td>9.78032e+12</td>\n",
              "      <td>9.78052e+12</td>\n",
              "      <td>9.78055e+12</td>\n",
              "      <td>9.78006e+12</td>\n",
              "      <td>9.78039e+12</td>\n",
              "    </tr>\n",
              "    <tr>\n",
              "      <th>authors</th>\n",
              "      <td>Stephen King</td>\n",
              "      <td>Stephen King, Jerry N. Uelsmann</td>\n",
              "      <td>Tom Stoppard</td>\n",
              "      <td>Lauren Groff</td>\n",
              "      <td>P.D. Eastman</td>\n",
              "      <td>Alison Bechdel</td>\n",
              "      <td>Paul Auster</td>\n",
              "      <td>James Patterson, David Ellis</td>\n",
              "      <td>Paul Auster</td>\n",
              "      <td>Thomas Hobbes, C.B. Macpherson</td>\n",
              "      <td>Walter Dean Myers</td>\n",
              "      <td>Frank E. Peretti</td>\n",
              "      <td>Rachel Joyce</td>\n",
              "      <td>Natasha Friend</td>\n",
              "      <td>Kate Brian</td>\n",
              "      <td>James Patterson, Maxine Paetro</td>\n",
              "      <td>George Gordon Byron, Peter J. Manning, Susan J...</td>\n",
              "      <td>E.E. Cummings, Richard S. Kennedy</td>\n",
              "      <td>Emily Dickinson</td>\n",
              "      <td>Raina Telgemeier</td>\n",
              "      <td>Danielle Steel</td>\n",
              "      <td>Jane Green</td>\n",
              "      <td>James Patterson, Peter de Jonge</td>\n",
              "      <td>Nora Roberts</td>\n",
              "      <td>John Fowles</td>\n",
              "      <td>Anne Sexton, Maxine Kumin</td>\n",
              "      <td>John Keats</td>\n",
              "      <td>Franz Kafka, Nahum N. Glatzer, John Updike, Wi...</td>\n",
              "      <td>Flannery O'Connor</td>\n",
              "      <td>Cecelia Ahern</td>\n",
              "      <td>Danielle Steel</td>\n",
              "      <td>Emma Cline</td>\n",
              "      <td>Lori Lansens</td>\n",
              "      <td>Steve Martini</td>\n",
              "      <td>Siobhan Vivian</td>\n",
              "      <td>Philipp Meyer</td>\n",
              "      <td>Jo Nesbø, Charlotte Barslund</td>\n",
              "    </tr>\n",
              "    <tr>\n",
              "      <th>original_publication_year</th>\n",
              "      <td>1975</td>\n",
              "      <td>2005</td>\n",
              "      <td>1993</td>\n",
              "      <td>2012</td>\n",
              "      <td>1960</td>\n",
              "      <td>2012</td>\n",
              "      <td>2009</td>\n",
              "      <td>2014</td>\n",
              "      <td>1992</td>\n",
              "      <td>1651</td>\n",
              "      <td>1999</td>\n",
              "      <td>2005</td>\n",
              "      <td>2013</td>\n",
              "      <td>2004</td>\n",
              "      <td>2006</td>\n",
              "      <td>2010</td>\n",
              "      <td>1848</td>\n",
              "      <td>1994</td>\n",
              "      <td>1890</td>\n",
              "      <td>2014</td>\n",
              "      <td>2007</td>\n",
              "      <td>2008</td>\n",
              "      <td>2002</td>\n",
              "      <td>2014</td>\n",
              "      <td>1963</td>\n",
              "      <td>1981</td>\n",
              "      <td>1820</td>\n",
              "      <td>1946</td>\n",
              "      <td>1971</td>\n",
              "      <td>2008</td>\n",
              "      <td>1986</td>\n",
              "      <td>2016</td>\n",
              "      <td>2005</td>\n",
              "      <td>1997</td>\n",
              "      <td>2012</td>\n",
              "      <td>2012</td>\n",
              "      <td>2014</td>\n",
              "    </tr>\n",
              "    <tr>\n",
              "      <th>original_title</th>\n",
              "      <td>Salem's Lot</td>\n",
              "      <td>'Salem's Lot The Illustrated Edition</td>\n",
              "      <td>Arcadia</td>\n",
              "      <td>Arcadia</td>\n",
              "      <td>Are You My Mother?</td>\n",
              "      <td>Are You My Mother?: A Comic Drama</td>\n",
              "      <td>Invisible</td>\n",
              "      <td>Invisible</td>\n",
              "      <td>Leviathan</td>\n",
              "      <td>Leviathan or The Matter, Forme and Power of a ...</td>\n",
              "      <td>Monster</td>\n",
              "      <td>Monster</td>\n",
              "      <td>Perfect</td>\n",
              "      <td>Perfect</td>\n",
              "      <td>Private</td>\n",
              "      <td>Private</td>\n",
              "      <td>Selected Poems</td>\n",
              "      <td>Selected Poems</td>\n",
              "      <td>Selected Poems of Emily Dickinson</td>\n",
              "      <td>Sisters</td>\n",
              "      <td>Sisters</td>\n",
              "      <td>The Beach House</td>\n",
              "      <td>The Beach House</td>\n",
              "      <td>The Collector</td>\n",
              "      <td>The Collector</td>\n",
              "      <td>The Complete Poems: Anne Sexton</td>\n",
              "      <td>John Keats : The Complete Poems</td>\n",
              "      <td>Sämtliche Erzählungen</td>\n",
              "      <td>The Complete Stories</td>\n",
              "      <td>The Gift</td>\n",
              "      <td>The Gift</td>\n",
              "      <td>The Girls</td>\n",
              "      <td>The Girls</td>\n",
              "      <td>The List</td>\n",
              "      <td>The List</td>\n",
              "      <td>The Son</td>\n",
              "      <td>Sønnen</td>\n",
              "    </tr>\n",
              "    <tr>\n",
              "      <th>title</th>\n",
              "      <td>'Salem's Lot</td>\n",
              "      <td>'Salem's Lot</td>\n",
              "      <td>Arcadia</td>\n",
              "      <td>Arcadia</td>\n",
              "      <td>Are You My Mother?</td>\n",
              "      <td>Are You My Mother?</td>\n",
              "      <td>Invisible</td>\n",
              "      <td>Invisible</td>\n",
              "      <td>Leviathan</td>\n",
              "      <td>Leviathan</td>\n",
              "      <td>Monster</td>\n",
              "      <td>Monster</td>\n",
              "      <td>Perfect</td>\n",
              "      <td>Perfect</td>\n",
              "      <td>Private (Private, #1)</td>\n",
              "      <td>Private (Private, #1)</td>\n",
              "      <td>Selected Poems</td>\n",
              "      <td>Selected Poems</td>\n",
              "      <td>Selected Poems</td>\n",
              "      <td>Sisters</td>\n",
              "      <td>Sisters</td>\n",
              "      <td>The Beach House</td>\n",
              "      <td>The Beach House</td>\n",
              "      <td>The Collector</td>\n",
              "      <td>The Collector</td>\n",
              "      <td>The Complete Poems</td>\n",
              "      <td>The Complete Poems</td>\n",
              "      <td>The Complete Stories</td>\n",
              "      <td>The Complete Stories</td>\n",
              "      <td>The Gift</td>\n",
              "      <td>The Gift</td>\n",
              "      <td>The Girls</td>\n",
              "      <td>The Girls</td>\n",
              "      <td>The List</td>\n",
              "      <td>The List</td>\n",
              "      <td>The Son</td>\n",
              "      <td>The Son</td>\n",
              "    </tr>\n",
              "    <tr>\n",
              "      <th>language_code</th>\n",
              "      <td>en-GB</td>\n",
              "      <td>eng</td>\n",
              "      <td>en-US</td>\n",
              "      <td>eng</td>\n",
              "      <td>eng</td>\n",
              "      <td>eng</td>\n",
              "      <td>eng</td>\n",
              "      <td>eng</td>\n",
              "      <td>eng</td>\n",
              "      <td>eng</td>\n",
              "      <td>eng</td>\n",
              "      <td>en-US</td>\n",
              "      <td>eng</td>\n",
              "      <td>eng</td>\n",
              "      <td>eng</td>\n",
              "      <td>eng</td>\n",
              "      <td>eng</td>\n",
              "      <td>eng</td>\n",
              "      <td>eng</td>\n",
              "      <td>eng</td>\n",
              "      <td>eng</td>\n",
              "      <td>en-US</td>\n",
              "      <td>eng</td>\n",
              "      <td>eng</td>\n",
              "      <td>eng</td>\n",
              "      <td>en-US</td>\n",
              "      <td>eng</td>\n",
              "      <td>eng</td>\n",
              "      <td>eng</td>\n",
              "      <td>en-GB</td>\n",
              "      <td>en-US</td>\n",
              "      <td>eng</td>\n",
              "      <td>eng</td>\n",
              "      <td>eng</td>\n",
              "      <td>eng</td>\n",
              "      <td>eng</td>\n",
              "      <td>eng</td>\n",
              "    </tr>\n",
              "    <tr>\n",
              "      <th>average_rating</th>\n",
              "      <td>3.99</td>\n",
              "      <td>4.25</td>\n",
              "      <td>4.19</td>\n",
              "      <td>3.65</td>\n",
              "      <td>4.16</td>\n",
              "      <td>3.66</td>\n",
              "      <td>3.71</td>\n",
              "      <td>4.05</td>\n",
              "      <td>3.95</td>\n",
              "      <td>3.66</td>\n",
              "      <td>3.7</td>\n",
              "      <td>3.8</td>\n",
              "      <td>3.54</td>\n",
              "      <td>3.77</td>\n",
              "      <td>3.81</td>\n",
              "      <td>3.88</td>\n",
              "      <td>4.05</td>\n",
              "      <td>4.22</td>\n",
              "      <td>4.16</td>\n",
              "      <td>4.29</td>\n",
              "      <td>3.81</td>\n",
              "      <td>3.62</td>\n",
              "      <td>3.82</td>\n",
              "      <td>3.92</td>\n",
              "      <td>3.99</td>\n",
              "      <td>4.28</td>\n",
              "      <td>4.24</td>\n",
              "      <td>4.34</td>\n",
              "      <td>4.44</td>\n",
              "      <td>3.68</td>\n",
              "      <td>3.91</td>\n",
              "      <td>3.49</td>\n",
              "      <td>3.79</td>\n",
              "      <td>3.95</td>\n",
              "      <td>3.46</td>\n",
              "      <td>3.98</td>\n",
              "      <td>4.07</td>\n",
              "    </tr>\n",
              "    <tr>\n",
              "      <th>ratings_count</th>\n",
              "      <td>228680</td>\n",
              "      <td>72797</td>\n",
              "      <td>15362</td>\n",
              "      <td>14622</td>\n",
              "      <td>174204</td>\n",
              "      <td>18618</td>\n",
              "      <td>11706</td>\n",
              "      <td>14518</td>\n",
              "      <td>10002</td>\n",
              "      <td>26284</td>\n",
              "      <td>47533</td>\n",
              "      <td>17583</td>\n",
              "      <td>8152</td>\n",
              "      <td>11497</td>\n",
              "      <td>16556</td>\n",
              "      <td>31061</td>\n",
              "      <td>10630</td>\n",
              "      <td>11174</td>\n",
              "      <td>16218</td>\n",
              "      <td>23347</td>\n",
              "      <td>13621</td>\n",
              "      <td>25412</td>\n",
              "      <td>68676</td>\n",
              "      <td>15888</td>\n",
              "      <td>32129</td>\n",
              "      <td>11888</td>\n",
              "      <td>17101</td>\n",
              "      <td>18314</td>\n",
              "      <td>27352</td>\n",
              "      <td>15310</td>\n",
              "      <td>12382</td>\n",
              "      <td>76761</td>\n",
              "      <td>16201</td>\n",
              "      <td>11696</td>\n",
              "      <td>16569</td>\n",
              "      <td>19821</td>\n",
              "      <td>19393</td>\n",
              "    </tr>\n",
              "    <tr>\n",
              "      <th>work_ratings_count</th>\n",
              "      <td>246360</td>\n",
              "      <td>74725</td>\n",
              "      <td>16149</td>\n",
              "      <td>16274</td>\n",
              "      <td>177809</td>\n",
              "      <td>19688</td>\n",
              "      <td>13897</td>\n",
              "      <td>18967</td>\n",
              "      <td>11794</td>\n",
              "      <td>28699</td>\n",
              "      <td>48399</td>\n",
              "      <td>18394</td>\n",
              "      <td>10972</td>\n",
              "      <td>11648</td>\n",
              "      <td>17054</td>\n",
              "      <td>35260</td>\n",
              "      <td>11313</td>\n",
              "      <td>11278</td>\n",
              "      <td>18047</td>\n",
              "      <td>29031</td>\n",
              "      <td>14641</td>\n",
              "      <td>27219</td>\n",
              "      <td>70371</td>\n",
              "      <td>22703</td>\n",
              "      <td>37123</td>\n",
              "      <td>12264</td>\n",
              "      <td>17881</td>\n",
              "      <td>20541</td>\n",
              "      <td>29267</td>\n",
              "      <td>18442</td>\n",
              "      <td>13114</td>\n",
              "      <td>94812</td>\n",
              "      <td>18125</td>\n",
              "      <td>11850</td>\n",
              "      <td>18700</td>\n",
              "      <td>24320</td>\n",
              "      <td>25476</td>\n",
              "    </tr>\n",
              "    <tr>\n",
              "      <th>work_text_reviews_count</th>\n",
              "      <td>6167</td>\n",
              "      <td>482</td>\n",
              "      <td>749</td>\n",
              "      <td>2444</td>\n",
              "      <td>1864</td>\n",
              "      <td>2585</td>\n",
              "      <td>1093</td>\n",
              "      <td>2006</td>\n",
              "      <td>517</td>\n",
              "      <td>505</td>\n",
              "      <td>4394</td>\n",
              "      <td>670</td>\n",
              "      <td>1745</td>\n",
              "      <td>1106</td>\n",
              "      <td>978</td>\n",
              "      <td>2044</td>\n",
              "      <td>57</td>\n",
              "      <td>234</td>\n",
              "      <td>283</td>\n",
              "      <td>3290</td>\n",
              "      <td>1065</td>\n",
              "      <td>2316</td>\n",
              "      <td>1628</td>\n",
              "      <td>1931</td>\n",
              "      <td>2315</td>\n",
              "      <td>305</td>\n",
              "      <td>191</td>\n",
              "      <td>485</td>\n",
              "      <td>1222</td>\n",
              "      <td>1337</td>\n",
              "      <td>473</td>\n",
              "      <td>11573</td>\n",
              "      <td>2158</td>\n",
              "      <td>145</td>\n",
              "      <td>2601</td>\n",
              "      <td>3032</td>\n",
              "      <td>2270</td>\n",
              "    </tr>\n",
              "    <tr>\n",
              "      <th>ratings_1</th>\n",
              "      <td>2713</td>\n",
              "      <td>460</td>\n",
              "      <td>291</td>\n",
              "      <td>471</td>\n",
              "      <td>3986</td>\n",
              "      <td>697</td>\n",
              "      <td>243</td>\n",
              "      <td>268</td>\n",
              "      <td>105</td>\n",
              "      <td>850</td>\n",
              "      <td>1485</td>\n",
              "      <td>511</td>\n",
              "      <td>352</td>\n",
              "      <td>232</td>\n",
              "      <td>765</td>\n",
              "      <td>674</td>\n",
              "      <td>132</td>\n",
              "      <td>151</td>\n",
              "      <td>273</td>\n",
              "      <td>344</td>\n",
              "      <td>482</td>\n",
              "      <td>582</td>\n",
              "      <td>1125</td>\n",
              "      <td>386</td>\n",
              "      <td>497</td>\n",
              "      <td>117</td>\n",
              "      <td>225</td>\n",
              "      <td>201</td>\n",
              "      <td>308</td>\n",
              "      <td>509</td>\n",
              "      <td>218</td>\n",
              "      <td>2905</td>\n",
              "      <td>377</td>\n",
              "      <td>157</td>\n",
              "      <td>748</td>\n",
              "      <td>550</td>\n",
              "      <td>355</td>\n",
              "    </tr>\n",
              "    <tr>\n",
              "      <th>ratings_2</th>\n",
              "      <td>11724</td>\n",
              "      <td>1854</td>\n",
              "      <td>713</td>\n",
              "      <td>1471</td>\n",
              "      <td>8065</td>\n",
              "      <td>2193</td>\n",
              "      <td>1002</td>\n",
              "      <td>705</td>\n",
              "      <td>490</td>\n",
              "      <td>2688</td>\n",
              "      <td>4418</td>\n",
              "      <td>1606</td>\n",
              "      <td>1197</td>\n",
              "      <td>961</td>\n",
              "      <td>1530</td>\n",
              "      <td>1955</td>\n",
              "      <td>505</td>\n",
              "      <td>344</td>\n",
              "      <td>650</td>\n",
              "      <td>775</td>\n",
              "      <td>1125</td>\n",
              "      <td>2456</td>\n",
              "      <td>4351</td>\n",
              "      <td>1330</td>\n",
              "      <td>1721</td>\n",
              "      <td>303</td>\n",
              "      <td>581</td>\n",
              "      <td>454</td>\n",
              "      <td>568</td>\n",
              "      <td>1792</td>\n",
              "      <td>819</td>\n",
              "      <td>11033</td>\n",
              "      <td>1168</td>\n",
              "      <td>422</td>\n",
              "      <td>2540</td>\n",
              "      <td>1278</td>\n",
              "      <td>834</td>\n",
              "    </tr>\n",
              "    <tr>\n",
              "      <th>ratings_3</th>\n",
              "      <td>57171</td>\n",
              "      <td>12040</td>\n",
              "      <td>2408</td>\n",
              "      <td>4757</td>\n",
              "      <td>31523</td>\n",
              "      <td>5326</td>\n",
              "      <td>3988</td>\n",
              "      <td>3536</td>\n",
              "      <td>2684</td>\n",
              "      <td>8639</td>\n",
              "      <td>13848</td>\n",
              "      <td>4722</td>\n",
              "      <td>3535</td>\n",
              "      <td>3362</td>\n",
              "      <td>3890</td>\n",
              "      <td>8880</td>\n",
              "      <td>2446</td>\n",
              "      <td>1740</td>\n",
              "      <td>3139</td>\n",
              "      <td>4020</td>\n",
              "      <td>3697</td>\n",
              "      <td>9103</td>\n",
              "      <td>20127</td>\n",
              "      <td>5357</td>\n",
              "      <td>7744</td>\n",
              "      <td>1680</td>\n",
              "      <td>2700</td>\n",
              "      <td>2373</td>\n",
              "      <td>2593</td>\n",
              "      <td>5482</td>\n",
              "      <td>3420</td>\n",
              "      <td>32122</td>\n",
              "      <td>4640</td>\n",
              "      <td>2944</td>\n",
              "      <td>6328</td>\n",
              "      <td>4659</td>\n",
              "      <td>4359</td>\n",
              "    </tr>\n",
              "    <tr>\n",
              "      <th>ratings_4</th>\n",
              "      <td>89196</td>\n",
              "      <td>24920</td>\n",
              "      <td>4948</td>\n",
              "      <td>6233</td>\n",
              "      <td>45916</td>\n",
              "      <td>6382</td>\n",
              "      <td>5957</td>\n",
              "      <td>7704</td>\n",
              "      <td>5165</td>\n",
              "      <td>9692</td>\n",
              "      <td>16267</td>\n",
              "      <td>5733</td>\n",
              "      <td>3976</td>\n",
              "      <td>3746</td>\n",
              "      <td>4932</td>\n",
              "      <td>13118</td>\n",
              "      <td>3845</td>\n",
              "      <td>3688</td>\n",
              "      <td>5766</td>\n",
              "      <td>8866</td>\n",
              "      <td>4715</td>\n",
              "      <td>9733</td>\n",
              "      <td>25271</td>\n",
              "      <td>8363</td>\n",
              "      <td>14808</td>\n",
              "      <td>4089</td>\n",
              "      <td>5621</td>\n",
              "      <td>6549</td>\n",
              "      <td>8231</td>\n",
              "      <td>5902</td>\n",
              "      <td>4186</td>\n",
              "      <td>34599</td>\n",
              "      <td>7583</td>\n",
              "      <td>4698</td>\n",
              "      <td>5472</td>\n",
              "      <td>9423</td>\n",
              "      <td>11025</td>\n",
              "    </tr>\n",
              "    <tr>\n",
              "      <th>ratings_5</th>\n",
              "      <td>85556</td>\n",
              "      <td>35451</td>\n",
              "      <td>7789</td>\n",
              "      <td>3342</td>\n",
              "      <td>88319</td>\n",
              "      <td>5090</td>\n",
              "      <td>2707</td>\n",
              "      <td>6754</td>\n",
              "      <td>3350</td>\n",
              "      <td>6830</td>\n",
              "      <td>12381</td>\n",
              "      <td>5822</td>\n",
              "      <td>1912</td>\n",
              "      <td>3347</td>\n",
              "      <td>5937</td>\n",
              "      <td>10633</td>\n",
              "      <td>4385</td>\n",
              "      <td>5355</td>\n",
              "      <td>8219</td>\n",
              "      <td>15026</td>\n",
              "      <td>4622</td>\n",
              "      <td>5345</td>\n",
              "      <td>19497</td>\n",
              "      <td>7267</td>\n",
              "      <td>12353</td>\n",
              "      <td>6075</td>\n",
              "      <td>8754</td>\n",
              "      <td>10964</td>\n",
              "      <td>17567</td>\n",
              "      <td>4757</td>\n",
              "      <td>4471</td>\n",
              "      <td>14153</td>\n",
              "      <td>4357</td>\n",
              "      <td>3629</td>\n",
              "      <td>3612</td>\n",
              "      <td>8410</td>\n",
              "      <td>8903</td>\n",
              "    </tr>\n",
              "    <tr>\n",
              "      <th>image_url</th>\n",
              "      <td>https://images.gr-assets.com/books/1327891565m...</td>\n",
              "      <td>https://images.gr-assets.com/books/1320478491m...</td>\n",
              "      <td>https://images.gr-assets.com/books/1463617930m...</td>\n",
              "      <td>https://s.gr-assets.com/assets/nophoto/book/11...</td>\n",
              "      <td>https://s.gr-assets.com/assets/nophoto/book/11...</td>\n",
              "      <td>https://s.gr-assets.com/assets/nophoto/book/11...</td>\n",
              "      <td>https://images.gr-assets.com/books/1317063578m...</td>\n",
              "      <td>https://images.gr-assets.com/books/1403166141m...</td>\n",
              "      <td>https://s.gr-assets.com/assets/nophoto/book/11...</td>\n",
              "      <td>https://images.gr-assets.com/books/1326788684m...</td>\n",
              "      <td>https://images.gr-assets.com/books/1404962824m...</td>\n",
              "      <td>https://s.gr-assets.com/assets/nophoto/book/11...</td>\n",
              "      <td>https://images.gr-assets.com/books/1367838351m...</td>\n",
              "      <td>https://images.gr-assets.com/books/1328750860m...</td>\n",
              "      <td>https://images.gr-assets.com/books/1331126301m...</td>\n",
              "      <td>https://s.gr-assets.com/assets/nophoto/book/11...</td>\n",
              "      <td>https://images.gr-assets.com/books/1411634706m...</td>\n",
              "      <td>https://images.gr-assets.com/books/1320891958m...</td>\n",
              "      <td>https://images.gr-assets.com/books/1260829838m...</td>\n",
              "      <td>https://images.gr-assets.com/books/1411022689m...</td>\n",
              "      <td>https://s.gr-assets.com/assets/nophoto/book/11...</td>\n",
              "      <td>https://s.gr-assets.com/assets/nophoto/book/11...</td>\n",
              "      <td>https://s.gr-assets.com/assets/nophoto/book/11...</td>\n",
              "      <td>https://images.gr-assets.com/books/1389532018m...</td>\n",
              "      <td>https://images.gr-assets.com/books/1394828024m...</td>\n",
              "      <td>https://s.gr-assets.com/assets/nophoto/book/11...</td>\n",
              "      <td>https://s.gr-assets.com/assets/nophoto/book/11...</td>\n",
              "      <td>https://images.gr-assets.com/books/1223588017m...</td>\n",
              "      <td>https://images.gr-assets.com/books/1489956381m...</td>\n",
              "      <td>https://images.gr-assets.com/books/1286019892m...</td>\n",
              "      <td>https://images.gr-assets.com/books/1403190508m...</td>\n",
              "      <td>https://images.gr-assets.com/books/1492065338m...</td>\n",
              "      <td>https://s.gr-assets.com/assets/nophoto/book/11...</td>\n",
              "      <td>https://s.gr-assets.com/assets/nophoto/book/11...</td>\n",
              "      <td>https://images.gr-assets.com/books/1439733432m...</td>\n",
              "      <td>https://images.gr-assets.com/books/1355349098m...</td>\n",
              "      <td>https://images.gr-assets.com/books/1390177620m...</td>\n",
              "    </tr>\n",
              "    <tr>\n",
              "      <th>small_image_url</th>\n",
              "      <td>https://images.gr-assets.com/books/1327891565s...</td>\n",
              "      <td>https://images.gr-assets.com/books/1320478491s...</td>\n",
              "      <td>https://images.gr-assets.com/books/1463617930s...</td>\n",
              "      <td>https://s.gr-assets.com/assets/nophoto/book/50...</td>\n",
              "      <td>https://s.gr-assets.com/assets/nophoto/book/50...</td>\n",
              "      <td>https://s.gr-assets.com/assets/nophoto/book/50...</td>\n",
              "      <td>https://images.gr-assets.com/books/1317063578s...</td>\n",
              "      <td>https://images.gr-assets.com/books/1403166141s...</td>\n",
              "      <td>https://s.gr-assets.com/assets/nophoto/book/50...</td>\n",
              "      <td>https://images.gr-assets.com/books/1326788684s...</td>\n",
              "      <td>https://images.gr-assets.com/books/1404962824s...</td>\n",
              "      <td>https://s.gr-assets.com/assets/nophoto/book/50...</td>\n",
              "      <td>https://images.gr-assets.com/books/1367838351s...</td>\n",
              "      <td>https://images.gr-assets.com/books/1328750860s...</td>\n",
              "      <td>https://images.gr-assets.com/books/1331126301s...</td>\n",
              "      <td>https://s.gr-assets.com/assets/nophoto/book/50...</td>\n",
              "      <td>https://images.gr-assets.com/books/1411634706s...</td>\n",
              "      <td>https://images.gr-assets.com/books/1320891958s...</td>\n",
              "      <td>https://images.gr-assets.com/books/1260829838s...</td>\n",
              "      <td>https://images.gr-assets.com/books/1411022689s...</td>\n",
              "      <td>https://s.gr-assets.com/assets/nophoto/book/50...</td>\n",
              "      <td>https://s.gr-assets.com/assets/nophoto/book/50...</td>\n",
              "      <td>https://s.gr-assets.com/assets/nophoto/book/50...</td>\n",
              "      <td>https://images.gr-assets.com/books/1389532018s...</td>\n",
              "      <td>https://images.gr-assets.com/books/1394828024s...</td>\n",
              "      <td>https://s.gr-assets.com/assets/nophoto/book/50...</td>\n",
              "      <td>https://s.gr-assets.com/assets/nophoto/book/50...</td>\n",
              "      <td>https://images.gr-assets.com/books/1223588017s...</td>\n",
              "      <td>https://images.gr-assets.com/books/1489956381s...</td>\n",
              "      <td>https://images.gr-assets.com/books/1286019892s...</td>\n",
              "      <td>https://images.gr-assets.com/books/1403190508s...</td>\n",
              "      <td>https://images.gr-assets.com/books/1492065338s...</td>\n",
              "      <td>https://s.gr-assets.com/assets/nophoto/book/50...</td>\n",
              "      <td>https://s.gr-assets.com/assets/nophoto/book/50...</td>\n",
              "      <td>https://images.gr-assets.com/books/1439733432s...</td>\n",
              "      <td>https://images.gr-assets.com/books/1355349098s...</td>\n",
              "      <td>https://images.gr-assets.com/books/1390177620s...</td>\n",
              "    </tr>\n",
              "  </tbody>\n",
              "</table>\n",
              "</div>"
            ],
            "text/plain": [
              "                                                                        348   ...                                               4211\n",
              "id                                                                       349  ...                                               4212\n",
              "book_id                                                                11590  ...                                           19101283\n",
              "best_book_id                                                           11590  ...                                           19101283\n",
              "work_id                                                              3048937  ...                                           24342394\n",
              "books_count                                                              211  ...                                                 78\n",
              "isbn                                                               450031063  ...                                          385351372\n",
              "isbn13                                                           9.78045e+12  ...                                        9.78039e+12\n",
              "authors                                                         Stephen King  ...                       Jo Nesbø, Charlotte Barslund\n",
              "original_publication_year                                               1975  ...                                               2014\n",
              "original_title                                                   Salem's Lot  ...                                             Sønnen\n",
              "title                                                           'Salem's Lot  ...                                            The Son\n",
              "language_code                                                          en-GB  ...                                                eng\n",
              "average_rating                                                          3.99  ...                                               4.07\n",
              "ratings_count                                                         228680  ...                                              19393\n",
              "work_ratings_count                                                    246360  ...                                              25476\n",
              "work_text_reviews_count                                                 6167  ...                                               2270\n",
              "ratings_1                                                               2713  ...                                                355\n",
              "ratings_2                                                              11724  ...                                                834\n",
              "ratings_3                                                              57171  ...                                               4359\n",
              "ratings_4                                                              89196  ...                                              11025\n",
              "ratings_5                                                              85556  ...                                               8903\n",
              "image_url                  https://images.gr-assets.com/books/1327891565m...  ...  https://images.gr-assets.com/books/1390177620m...\n",
              "small_image_url            https://images.gr-assets.com/books/1327891565s...  ...  https://images.gr-assets.com/books/1390177620s...\n",
              "\n",
              "[23 rows x 37 columns]"
            ]
          },
          "metadata": {
            "tags": []
          },
          "execution_count": 217
        }
      ]
    },
    {
      "cell_type": "code",
      "metadata": {
        "colab": {
          "base_uri": "https://localhost:8080/"
        },
        "id": "X5j3x6aV9NeS",
        "outputId": "bfe5b890-e93d-4410-97c5-1d2fbbf451c4"
      },
      "source": [
        "f.shape"
      ],
      "execution_count": null,
      "outputs": [
        {
          "output_type": "execute_result",
          "data": {
            "text/plain": [
              "(23, 37)"
            ]
          },
          "metadata": {
            "tags": []
          },
          "execution_count": 216
        }
      ]
    },
    {
      "cell_type": "markdown",
      "metadata": {
        "id": "o6saWaxLgTV2"
      },
      "source": [
        "# Exploratory Data Analysis<a id=\"9\"></a> <br>"
      ]
    },
    {
      "cell_type": "markdown",
      "metadata": {
        "id": "dEENbKxXgTV7"
      },
      "source": [
        "## *Books*<a id=\"10\"></a> <br>"
      ]
    },
    {
      "cell_type": "code",
      "metadata": {
        "id": "uSnLRDY8gTV8"
      },
      "source": [
        "def plot_books_by(df, col, n_rows=10):\n",
        "    plt.figure(figsize=(12,7))\n",
        "    ax = sns.barplot(x=df[col].head(n_rows), y=df['title'].head(n_rows), data=df)\n",
        "    plt.title('Best ' + str(n_rows) + ' books by ' + col.replace('_',' ').capitalize(), weight='bold')\n",
        "    plt.xlabel('Score of ' + col)\n",
        "    plt.ylabel('Book Title')    "
      ],
      "execution_count": null,
      "outputs": []
    },
    {
      "cell_type": "code",
      "metadata": {
        "id": "Y_hhIE4igTWE"
      },
      "source": [
        "important_columns = ['title','authors','average_rating','ratings_count','work_text_reviews_count']"
      ],
      "execution_count": null,
      "outputs": []
    },
    {
      "cell_type": "markdown",
      "metadata": {
        "id": "L_j1cecZgTWP"
      },
      "source": [
        "### Top Rated Books<a id=\"11\"></a> <br>"
      ]
    },
    {
      "cell_type": "code",
      "metadata": {
        "id": "gsTGc3r-gTWP",
        "colab": {
          "base_uri": "https://localhost:8080/",
          "height": 497
        },
        "outputId": "53211781-8300-40d3-c8e7-75fe6f7bba31"
      },
      "source": [
        "book_sorted_ratings = books[books['ratings_count']>=1000].sort_values('average_rating', ascending=False)\n",
        "book_sorted_ratings[important_columns].head(15)"
      ],
      "execution_count": null,
      "outputs": [
        {
          "output_type": "execute_result",
          "data": {
            "text/html": [
              "<div>\n",
              "<style scoped>\n",
              "    .dataframe tbody tr th:only-of-type {\n",
              "        vertical-align: middle;\n",
              "    }\n",
              "\n",
              "    .dataframe tbody tr th {\n",
              "        vertical-align: top;\n",
              "    }\n",
              "\n",
              "    .dataframe thead th {\n",
              "        text-align: right;\n",
              "    }\n",
              "</style>\n",
              "<table border=\"1\" class=\"dataframe\">\n",
              "  <thead>\n",
              "    <tr style=\"text-align: right;\">\n",
              "      <th></th>\n",
              "      <th>title</th>\n",
              "      <th>authors</th>\n",
              "      <th>average_rating</th>\n",
              "      <th>ratings_count</th>\n",
              "      <th>work_text_reviews_count</th>\n",
              "    </tr>\n",
              "  </thead>\n",
              "  <tbody>\n",
              "    <tr>\n",
              "      <th>3627</th>\n",
              "      <td>The Complete Calvin and Hobbes</td>\n",
              "      <td>Bill Watterson</td>\n",
              "      <td>4.82</td>\n",
              "      <td>28900</td>\n",
              "      <td>861</td>\n",
              "    </tr>\n",
              "    <tr>\n",
              "      <th>861</th>\n",
              "      <td>Words of Radiance (The Stormlight Archive, #2)</td>\n",
              "      <td>Brandon Sanderson</td>\n",
              "      <td>4.77</td>\n",
              "      <td>73572</td>\n",
              "      <td>7261</td>\n",
              "    </tr>\n",
              "    <tr>\n",
              "      <th>8853</th>\n",
              "      <td>Mark of the Lion Trilogy</td>\n",
              "      <td>Francine Rivers</td>\n",
              "      <td>4.76</td>\n",
              "      <td>9081</td>\n",
              "      <td>731</td>\n",
              "    </tr>\n",
              "    <tr>\n",
              "      <th>4482</th>\n",
              "      <td>It's a Magical World: A Calvin and Hobbes Coll...</td>\n",
              "      <td>Bill Watterson</td>\n",
              "      <td>4.75</td>\n",
              "      <td>22351</td>\n",
              "      <td>264</td>\n",
              "    </tr>\n",
              "    <tr>\n",
              "      <th>6360</th>\n",
              "      <td>There's Treasure Everywhere: A Calvin and Hobb...</td>\n",
              "      <td>Bill Watterson</td>\n",
              "      <td>4.74</td>\n",
              "      <td>16766</td>\n",
              "      <td>149</td>\n",
              "    </tr>\n",
              "    <tr>\n",
              "      <th>421</th>\n",
              "      <td>Harry Potter Boxset (Harry Potter, #1-7)</td>\n",
              "      <td>J.K. Rowling</td>\n",
              "      <td>4.74</td>\n",
              "      <td>190050</td>\n",
              "      <td>6508</td>\n",
              "    </tr>\n",
              "    <tr>\n",
              "      <th>6589</th>\n",
              "      <td>The Authoritative Calvin and Hobbes: A Calvin ...</td>\n",
              "      <td>Bill Watterson</td>\n",
              "      <td>4.73</td>\n",
              "      <td>16087</td>\n",
              "      <td>425</td>\n",
              "    </tr>\n",
              "    <tr>\n",
              "      <th>3752</th>\n",
              "      <td>Harry Potter Collection (Harry Potter, #1-6)</td>\n",
              "      <td>J.K. Rowling</td>\n",
              "      <td>4.73</td>\n",
              "      <td>24618</td>\n",
              "      <td>882</td>\n",
              "    </tr>\n",
              "    <tr>\n",
              "      <th>6919</th>\n",
              "      <td>The Indispensable Calvin and Hobbes</td>\n",
              "      <td>Bill Watterson</td>\n",
              "      <td>4.73</td>\n",
              "      <td>14597</td>\n",
              "      <td>325</td>\n",
              "    </tr>\n",
              "    <tr>\n",
              "      <th>9565</th>\n",
              "      <td>Attack of the Deranged Mutant Killer Monster S...</td>\n",
              "      <td>Bill Watterson</td>\n",
              "      <td>4.72</td>\n",
              "      <td>9713</td>\n",
              "      <td>233</td>\n",
              "    </tr>\n",
              "    <tr>\n",
              "      <th>7253</th>\n",
              "      <td>Homicidal Psycho Jungle Cat: A Calvin and Hobb...</td>\n",
              "      <td>Bill Watterson</td>\n",
              "      <td>4.71</td>\n",
              "      <td>14113</td>\n",
              "      <td>289</td>\n",
              "    </tr>\n",
              "    <tr>\n",
              "      <th>5206</th>\n",
              "      <td>The Days Are Just Packed: A Calvin and Hobbes ...</td>\n",
              "      <td>Bill Watterson</td>\n",
              "      <td>4.68</td>\n",
              "      <td>19143</td>\n",
              "      <td>228</td>\n",
              "    </tr>\n",
              "    <tr>\n",
              "      <th>9140</th>\n",
              "      <td>The Way of Kings, Part 1 (The Stormlight Archi...</td>\n",
              "      <td>Brandon Sanderson</td>\n",
              "      <td>4.67</td>\n",
              "      <td>9792</td>\n",
              "      <td>453</td>\n",
              "    </tr>\n",
              "    <tr>\n",
              "      <th>2100</th>\n",
              "      <td>The Harry Potter Collection 1-4 (Harry Potter,...</td>\n",
              "      <td>J.K. Rowling, Mary GrandPré</td>\n",
              "      <td>4.66</td>\n",
              "      <td>43929</td>\n",
              "      <td>265</td>\n",
              "    </tr>\n",
              "    <tr>\n",
              "      <th>5579</th>\n",
              "      <td>The Calvin and Hobbes Lazy Sunday Book</td>\n",
              "      <td>Bill Watterson</td>\n",
              "      <td>4.66</td>\n",
              "      <td>18641</td>\n",
              "      <td>187</td>\n",
              "    </tr>\n",
              "  </tbody>\n",
              "</table>\n",
              "</div>"
            ],
            "text/plain": [
              "                                                  title  ... work_text_reviews_count\n",
              "3627                     The Complete Calvin and Hobbes  ...                     861\n",
              "861      Words of Radiance (The Stormlight Archive, #2)  ...                    7261\n",
              "8853                           Mark of the Lion Trilogy  ...                     731\n",
              "4482  It's a Magical World: A Calvin and Hobbes Coll...  ...                     264\n",
              "6360  There's Treasure Everywhere: A Calvin and Hobb...  ...                     149\n",
              "421            Harry Potter Boxset (Harry Potter, #1-7)  ...                    6508\n",
              "6589  The Authoritative Calvin and Hobbes: A Calvin ...  ...                     425\n",
              "3752       Harry Potter Collection (Harry Potter, #1-6)  ...                     882\n",
              "6919                The Indispensable Calvin and Hobbes  ...                     325\n",
              "9565  Attack of the Deranged Mutant Killer Monster S...  ...                     233\n",
              "7253  Homicidal Psycho Jungle Cat: A Calvin and Hobb...  ...                     289\n",
              "5206  The Days Are Just Packed: A Calvin and Hobbes ...  ...                     228\n",
              "9140  The Way of Kings, Part 1 (The Stormlight Archi...  ...                     453\n",
              "2100  The Harry Potter Collection 1-4 (Harry Potter,...  ...                     265\n",
              "5579             The Calvin and Hobbes Lazy Sunday Book  ...                     187\n",
              "\n",
              "[15 rows x 5 columns]"
            ]
          },
          "metadata": {
            "tags": []
          },
          "execution_count": 124
        }
      ]
    },
    {
      "cell_type": "code",
      "metadata": {
        "id": "8xc6VxZNgTWW",
        "colab": {
          "base_uri": "https://localhost:8080/",
          "height": 458
        },
        "outputId": "1acf87ec-4af5-4167-d5a6-51d822d97978"
      },
      "source": [
        "plot_books_by(book_sorted_ratings, 'average_rating', 15)"
      ],
      "execution_count": null,
      "outputs": [
        {
          "output_type": "display_data",
          "data": {
            "image/png": "[encoded data removed]",
            "text/plain": [
              "<Figure size 864x504 with 1 Axes>"
            ]
          },
          "metadata": {
            "tags": [],
            "needs_background": "light"
          }
        }
      ]
    },
    {
      "cell_type": "markdown",
      "metadata": {
        "id": "RwguaSX6gTWc"
      },
      "source": [
        "### Top Popular Books<a id=\"12\"></a> <br>"
      ]
    },
    {
      "cell_type": "code",
      "metadata": {
        "id": "6dKtf17cgTWc",
        "colab": {
          "base_uri": "https://localhost:8080/",
          "height": 497
        },
        "outputId": "148073d4-6082-48f5-90f7-6c443e54f85f"
      },
      "source": [
        "book_sorted_ratings_count = books.sort_values('ratings_count', ascending=False)\n",
        "book_sorted_ratings_count[important_columns].head(15)"
      ],
      "execution_count": null,
      "outputs": [
        {
          "output_type": "execute_result",
          "data": {
            "text/html": [
              "<div>\n",
              "<style scoped>\n",
              "    .dataframe tbody tr th:only-of-type {\n",
              "        vertical-align: middle;\n",
              "    }\n",
              "\n",
              "    .dataframe tbody tr th {\n",
              "        vertical-align: top;\n",
              "    }\n",
              "\n",
              "    .dataframe thead th {\n",
              "        text-align: right;\n",
              "    }\n",
              "</style>\n",
              "<table border=\"1\" class=\"dataframe\">\n",
              "  <thead>\n",
              "    <tr style=\"text-align: right;\">\n",
              "      <th></th>\n",
              "      <th>title</th>\n",
              "      <th>authors</th>\n",
              "      <th>average_rating</th>\n",
              "      <th>ratings_count</th>\n",
              "      <th>work_text_reviews_count</th>\n",
              "    </tr>\n",
              "  </thead>\n",
              "  <tbody>\n",
              "    <tr>\n",
              "      <th>0</th>\n",
              "      <td>The Hunger Games (The Hunger Games, #1)</td>\n",
              "      <td>Suzanne Collins</td>\n",
              "      <td>4.34</td>\n",
              "      <td>4780653</td>\n",
              "      <td>155254</td>\n",
              "    </tr>\n",
              "    <tr>\n",
              "      <th>1</th>\n",
              "      <td>Harry Potter and the Sorcerer's Stone (Harry P...</td>\n",
              "      <td>J.K. Rowling, Mary GrandPré</td>\n",
              "      <td>4.44</td>\n",
              "      <td>4602479</td>\n",
              "      <td>75867</td>\n",
              "    </tr>\n",
              "    <tr>\n",
              "      <th>2</th>\n",
              "      <td>Twilight (Twilight, #1)</td>\n",
              "      <td>Stephenie Meyer</td>\n",
              "      <td>3.57</td>\n",
              "      <td>3866839</td>\n",
              "      <td>95009</td>\n",
              "    </tr>\n",
              "    <tr>\n",
              "      <th>3</th>\n",
              "      <td>To Kill a Mockingbird</td>\n",
              "      <td>Harper Lee</td>\n",
              "      <td>4.25</td>\n",
              "      <td>3198671</td>\n",
              "      <td>72586</td>\n",
              "    </tr>\n",
              "    <tr>\n",
              "      <th>4</th>\n",
              "      <td>The Great Gatsby</td>\n",
              "      <td>F. Scott Fitzgerald</td>\n",
              "      <td>3.89</td>\n",
              "      <td>2683664</td>\n",
              "      <td>51992</td>\n",
              "    </tr>\n",
              "    <tr>\n",
              "      <th>5</th>\n",
              "      <td>The Fault in Our Stars</td>\n",
              "      <td>John Green</td>\n",
              "      <td>4.26</td>\n",
              "      <td>2346404</td>\n",
              "      <td>140739</td>\n",
              "    </tr>\n",
              "    <tr>\n",
              "      <th>6</th>\n",
              "      <td>The Hobbit</td>\n",
              "      <td>J.R.R. Tolkien</td>\n",
              "      <td>4.25</td>\n",
              "      <td>2071616</td>\n",
              "      <td>37653</td>\n",
              "    </tr>\n",
              "    <tr>\n",
              "      <th>7</th>\n",
              "      <td>The Catcher in the Rye</td>\n",
              "      <td>J.D. Salinger</td>\n",
              "      <td>3.79</td>\n",
              "      <td>2044241</td>\n",
              "      <td>44920</td>\n",
              "    </tr>\n",
              "    <tr>\n",
              "      <th>9</th>\n",
              "      <td>Pride and Prejudice</td>\n",
              "      <td>Jane Austen</td>\n",
              "      <td>4.24</td>\n",
              "      <td>2035490</td>\n",
              "      <td>49152</td>\n",
              "    </tr>\n",
              "    <tr>\n",
              "      <th>8</th>\n",
              "      <td>Angels &amp; Demons  (Robert Langdon, #1)</td>\n",
              "      <td>Dan Brown</td>\n",
              "      <td>3.85</td>\n",
              "      <td>2001311</td>\n",
              "      <td>25112</td>\n",
              "    </tr>\n",
              "    <tr>\n",
              "      <th>14</th>\n",
              "      <td>The Diary of a Young Girl</td>\n",
              "      <td>Anne Frank, Eleanor Roosevelt, B.M. Mooyaart-D...</td>\n",
              "      <td>4.10</td>\n",
              "      <td>1972666</td>\n",
              "      <td>20825</td>\n",
              "    </tr>\n",
              "    <tr>\n",
              "      <th>12</th>\n",
              "      <td>1984</td>\n",
              "      <td>George Orwell, Erich Fromm, Celâl Üster</td>\n",
              "      <td>4.14</td>\n",
              "      <td>1956832</td>\n",
              "      <td>45518</td>\n",
              "    </tr>\n",
              "    <tr>\n",
              "      <th>11</th>\n",
              "      <td>Divergent (Divergent, #1)</td>\n",
              "      <td>Veronica Roth</td>\n",
              "      <td>4.24</td>\n",
              "      <td>1903563</td>\n",
              "      <td>101023</td>\n",
              "    </tr>\n",
              "    <tr>\n",
              "      <th>13</th>\n",
              "      <td>Animal Farm</td>\n",
              "      <td>George Orwell</td>\n",
              "      <td>3.87</td>\n",
              "      <td>1881700</td>\n",
              "      <td>35472</td>\n",
              "    </tr>\n",
              "    <tr>\n",
              "      <th>17</th>\n",
              "      <td>Harry Potter and the Prisoner of Azkaban (Harr...</td>\n",
              "      <td>J.K. Rowling, Mary GrandPré, Rufus Beck</td>\n",
              "      <td>4.53</td>\n",
              "      <td>1832823</td>\n",
              "      <td>36099</td>\n",
              "    </tr>\n",
              "  </tbody>\n",
              "</table>\n",
              "</div>"
            ],
            "text/plain": [
              "                                                title  ... work_text_reviews_count\n",
              "0             The Hunger Games (The Hunger Games, #1)  ...                  155254\n",
              "1   Harry Potter and the Sorcerer's Stone (Harry P...  ...                   75867\n",
              "2                             Twilight (Twilight, #1)  ...                   95009\n",
              "3                               To Kill a Mockingbird  ...                   72586\n",
              "4                                    The Great Gatsby  ...                   51992\n",
              "5                              The Fault in Our Stars  ...                  140739\n",
              "6                                          The Hobbit  ...                   37653\n",
              "7                              The Catcher in the Rye  ...                   44920\n",
              "9                                 Pride and Prejudice  ...                   49152\n",
              "8               Angels & Demons  (Robert Langdon, #1)  ...                   25112\n",
              "14                          The Diary of a Young Girl  ...                   20825\n",
              "12                                               1984  ...                   45518\n",
              "11                          Divergent (Divergent, #1)  ...                  101023\n",
              "13                                        Animal Farm  ...                   35472\n",
              "17  Harry Potter and the Prisoner of Azkaban (Harr...  ...                   36099\n",
              "\n",
              "[15 rows x 5 columns]"
            ]
          },
          "metadata": {
            "tags": []
          },
          "execution_count": 126
        }
      ]
    },
    {
      "cell_type": "code",
      "metadata": {
        "id": "kvgkICa5gTWl",
        "scrolled": false,
        "colab": {
          "base_uri": "https://localhost:8080/",
          "height": 458
        },
        "outputId": "d5d3a538-8868-4219-beb9-5e65521b162a"
      },
      "source": [
        "plot_books_by(book_sorted_ratings_count, 'ratings_count', 15)"
      ],
      "execution_count": null,
      "outputs": [
        {
          "output_type": "display_data",
          "data": {
            "image/png": "[encoded data removed]",
            "text/plain": [
              "<Figure size 864x504 with 1 Axes>"
            ]
          },
          "metadata": {
            "tags": [],
            "needs_background": "light"
          }
        }
      ]
    },
    {
      "cell_type": "markdown",
      "metadata": {
        "id": "nz8nu1WfgTWv"
      },
      "source": [
        "### Top Text-Reviewed Books<a id=\"13\"></a> <br>"
      ]
    },
    {
      "cell_type": "code",
      "metadata": {
        "id": "7QMDSZcUgTWw",
        "colab": {
          "base_uri": "https://localhost:8080/",
          "height": 497
        },
        "outputId": "04123315-42a1-413a-f30d-9afe869ed232"
      },
      "source": [
        "book_sorted_reviews_count = books[books['ratings_count']>=1000].sort_values('work_text_reviews_count', ascending=False)\n",
        "book_sorted_reviews_count[important_columns].head(15)"
      ],
      "execution_count": null,
      "outputs": [
        {
          "output_type": "execute_result",
          "data": {
            "text/html": [
              "<div>\n",
              "<style scoped>\n",
              "    .dataframe tbody tr th:only-of-type {\n",
              "        vertical-align: middle;\n",
              "    }\n",
              "\n",
              "    .dataframe tbody tr th {\n",
              "        vertical-align: top;\n",
              "    }\n",
              "\n",
              "    .dataframe thead th {\n",
              "        text-align: right;\n",
              "    }\n",
              "</style>\n",
              "<table border=\"1\" class=\"dataframe\">\n",
              "  <thead>\n",
              "    <tr style=\"text-align: right;\">\n",
              "      <th></th>\n",
              "      <th>title</th>\n",
              "      <th>authors</th>\n",
              "      <th>average_rating</th>\n",
              "      <th>ratings_count</th>\n",
              "      <th>work_text_reviews_count</th>\n",
              "    </tr>\n",
              "  </thead>\n",
              "  <tbody>\n",
              "    <tr>\n",
              "      <th>0</th>\n",
              "      <td>The Hunger Games (The Hunger Games, #1)</td>\n",
              "      <td>Suzanne Collins</td>\n",
              "      <td>4.34</td>\n",
              "      <td>4780653</td>\n",
              "      <td>155254</td>\n",
              "    </tr>\n",
              "    <tr>\n",
              "      <th>5</th>\n",
              "      <td>The Fault in Our Stars</td>\n",
              "      <td>John Green</td>\n",
              "      <td>4.26</td>\n",
              "      <td>2346404</td>\n",
              "      <td>140739</td>\n",
              "    </tr>\n",
              "    <tr>\n",
              "      <th>29</th>\n",
              "      <td>Gone Girl</td>\n",
              "      <td>Gillian Flynn</td>\n",
              "      <td>4.03</td>\n",
              "      <td>512475</td>\n",
              "      <td>121614</td>\n",
              "    </tr>\n",
              "    <tr>\n",
              "      <th>11</th>\n",
              "      <td>Divergent (Divergent, #1)</td>\n",
              "      <td>Veronica Roth</td>\n",
              "      <td>4.24</td>\n",
              "      <td>1903563</td>\n",
              "      <td>101023</td>\n",
              "    </tr>\n",
              "    <tr>\n",
              "      <th>19</th>\n",
              "      <td>Mockingjay (The Hunger Games, #3)</td>\n",
              "      <td>Suzanne Collins</td>\n",
              "      <td>4.03</td>\n",
              "      <td>1719760</td>\n",
              "      <td>96274</td>\n",
              "    </tr>\n",
              "    <tr>\n",
              "      <th>2</th>\n",
              "      <td>Twilight (Twilight, #1)</td>\n",
              "      <td>Stephenie Meyer</td>\n",
              "      <td>3.57</td>\n",
              "      <td>3866839</td>\n",
              "      <td>95009</td>\n",
              "    </tr>\n",
              "    <tr>\n",
              "      <th>46</th>\n",
              "      <td>The Book Thief</td>\n",
              "      <td>Markus Zusak</td>\n",
              "      <td>4.36</td>\n",
              "      <td>1159741</td>\n",
              "      <td>93611</td>\n",
              "    </tr>\n",
              "    <tr>\n",
              "      <th>60</th>\n",
              "      <td>The Girl on the Train</td>\n",
              "      <td>Paula Hawkins</td>\n",
              "      <td>3.88</td>\n",
              "      <td>1008778</td>\n",
              "      <td>93600</td>\n",
              "    </tr>\n",
              "    <tr>\n",
              "      <th>16</th>\n",
              "      <td>Catching Fire (The Hunger Games, #2)</td>\n",
              "      <td>Suzanne Collins</td>\n",
              "      <td>4.30</td>\n",
              "      <td>1831039</td>\n",
              "      <td>88538</td>\n",
              "    </tr>\n",
              "    <tr>\n",
              "      <th>30</th>\n",
              "      <td>The Help</td>\n",
              "      <td>Kathryn Stockett</td>\n",
              "      <td>4.45</td>\n",
              "      <td>1531753</td>\n",
              "      <td>78204</td>\n",
              "    </tr>\n",
              "    <tr>\n",
              "      <th>1</th>\n",
              "      <td>Harry Potter and the Sorcerer's Stone (Harry P...</td>\n",
              "      <td>J.K. Rowling, Mary GrandPré</td>\n",
              "      <td>4.44</td>\n",
              "      <td>4602479</td>\n",
              "      <td>75867</td>\n",
              "    </tr>\n",
              "    <tr>\n",
              "      <th>33</th>\n",
              "      <td>Fifty Shades of Grey (Fifty Shades, #1)</td>\n",
              "      <td>E.L. James</td>\n",
              "      <td>3.67</td>\n",
              "      <td>1338493</td>\n",
              "      <td>75437</td>\n",
              "    </tr>\n",
              "    <tr>\n",
              "      <th>3</th>\n",
              "      <td>To Kill a Mockingbird</td>\n",
              "      <td>Harper Lee</td>\n",
              "      <td>4.25</td>\n",
              "      <td>3198671</td>\n",
              "      <td>72586</td>\n",
              "    </tr>\n",
              "    <tr>\n",
              "      <th>111</th>\n",
              "      <td>Me Before You (Me Before You, #1)</td>\n",
              "      <td>Jojo Moyes</td>\n",
              "      <td>4.27</td>\n",
              "      <td>587647</td>\n",
              "      <td>71412</td>\n",
              "    </tr>\n",
              "    <tr>\n",
              "      <th>15</th>\n",
              "      <td>The Girl with the Dragon Tattoo (Millennium, #1)</td>\n",
              "      <td>Stieg Larsson, Reg Keeland</td>\n",
              "      <td>4.11</td>\n",
              "      <td>1808403</td>\n",
              "      <td>62543</td>\n",
              "    </tr>\n",
              "  </tbody>\n",
              "</table>\n",
              "</div>"
            ],
            "text/plain": [
              "                                                 title  ... work_text_reviews_count\n",
              "0              The Hunger Games (The Hunger Games, #1)  ...                  155254\n",
              "5                               The Fault in Our Stars  ...                  140739\n",
              "29                                           Gone Girl  ...                  121614\n",
              "11                           Divergent (Divergent, #1)  ...                  101023\n",
              "19                   Mockingjay (The Hunger Games, #3)  ...                   96274\n",
              "2                              Twilight (Twilight, #1)  ...                   95009\n",
              "46                                      The Book Thief  ...                   93611\n",
              "60                               The Girl on the Train  ...                   93600\n",
              "16                Catching Fire (The Hunger Games, #2)  ...                   88538\n",
              "30                                            The Help  ...                   78204\n",
              "1    Harry Potter and the Sorcerer's Stone (Harry P...  ...                   75867\n",
              "33             Fifty Shades of Grey (Fifty Shades, #1)  ...                   75437\n",
              "3                                To Kill a Mockingbird  ...                   72586\n",
              "111                  Me Before You (Me Before You, #1)  ...                   71412\n",
              "15    The Girl with the Dragon Tattoo (Millennium, #1)  ...                   62543\n",
              "\n",
              "[15 rows x 5 columns]"
            ]
          },
          "metadata": {
            "tags": []
          },
          "execution_count": 128
        }
      ]
    },
    {
      "cell_type": "code",
      "metadata": {
        "id": "P305lQPQgTW1",
        "colab": {
          "base_uri": "https://localhost:8080/",
          "height": 458
        },
        "outputId": "6264363f-8abb-4b2d-a924-6fc6fdf03449"
      },
      "source": [
        "plot_books_by(book_sorted_reviews_count, 'work_text_reviews_count', 15)"
      ],
      "execution_count": null,
      "outputs": [
        {
          "output_type": "display_data",
          "data": {
            "image/png": "[encoded data removed]",
            "text/plain": [
              "<Figure size 864x504 with 1 Axes>"
            ]
          },
          "metadata": {
            "tags": [],
            "needs_background": "light"
          }
        }
      ]
    },
    {
      "cell_type": "markdown",
      "metadata": {
        "id": "am5HnOl6gTW5"
      },
      "source": [
        "### Top Scored Books<a id=\"14\"></a> <br>"
      ]
    },
    {
      "cell_type": "markdown",
      "metadata": {
        "id": "q0KV1HTrgTW6"
      },
      "source": [
        "We try some *feature-engineering* to come with new features.\n",
        "\n",
        "We will create a new scorer for books by combining `average_rating` & `ratings_count` with \n",
        "ratios **0.5** : **0.5**, and you can play with them.\n",
        "\n"
      ]
    },
    {
      "cell_type": "code",
      "metadata": {
        "id": "HUp1IQZYgTW7"
      },
      "source": [
        "from sklearn.preprocessing import MinMaxScaler"
      ],
      "execution_count": null,
      "outputs": []
    },
    {
      "cell_type": "markdown",
      "metadata": {
        "id": "LoBqZAskgTXA"
      },
      "source": [
        "We need to normalize `average_rating` & `ratings_count` to have the same scale."
      ]
    },
    {
      "cell_type": "code",
      "metadata": {
        "id": "6rnpwuEdgTXB"
      },
      "source": [
        "cols = ['ratings_count','average_rating']\n",
        "scaler = MinMaxScaler()\n",
        "df_normalized = books[important_columns].copy()\n",
        "df_normalized[cols] = scaler.fit_transform(df_normalized[cols])"
      ],
      "execution_count": null,
      "outputs": []
    },
    {
      "cell_type": "code",
      "metadata": {
        "id": "P1rMpcOJgTXE",
        "scrolled": false,
        "colab": {
          "base_uri": "https://localhost:8080/",
          "height": 197
        },
        "outputId": "4b6e4aab-5d8c-4cbe-a15f-d2c96e3df0c5"
      },
      "source": [
        "df_normalized.head()"
      ],
      "execution_count": null,
      "outputs": [
        {
          "output_type": "execute_result",
          "data": {
            "text/html": [
              "<div>\n",
              "<style scoped>\n",
              "    .dataframe tbody tr th:only-of-type {\n",
              "        vertical-align: middle;\n",
              "    }\n",
              "\n",
              "    .dataframe tbody tr th {\n",
              "        vertical-align: top;\n",
              "    }\n",
              "\n",
              "    .dataframe thead th {\n",
              "        text-align: right;\n",
              "    }\n",
              "</style>\n",
              "<table border=\"1\" class=\"dataframe\">\n",
              "  <thead>\n",
              "    <tr style=\"text-align: right;\">\n",
              "      <th></th>\n",
              "      <th>title</th>\n",
              "      <th>authors</th>\n",
              "      <th>average_rating</th>\n",
              "      <th>ratings_count</th>\n",
              "      <th>work_text_reviews_count</th>\n",
              "    </tr>\n",
              "  </thead>\n",
              "  <tbody>\n",
              "    <tr>\n",
              "      <th>0</th>\n",
              "      <td>The Hunger Games (The Hunger Games, #1)</td>\n",
              "      <td>Suzanne Collins</td>\n",
              "      <td>0.795745</td>\n",
              "      <td>1.000000</td>\n",
              "      <td>155254</td>\n",
              "    </tr>\n",
              "    <tr>\n",
              "      <th>1</th>\n",
              "      <td>Harry Potter and the Sorcerer's Stone (Harry P...</td>\n",
              "      <td>J.K. Rowling, Mary GrandPré</td>\n",
              "      <td>0.838298</td>\n",
              "      <td>0.962709</td>\n",
              "      <td>75867</td>\n",
              "    </tr>\n",
              "    <tr>\n",
              "      <th>2</th>\n",
              "      <td>Twilight (Twilight, #1)</td>\n",
              "      <td>Stephenie Meyer</td>\n",
              "      <td>0.468085</td>\n",
              "      <td>0.808741</td>\n",
              "      <td>95009</td>\n",
              "    </tr>\n",
              "    <tr>\n",
              "      <th>3</th>\n",
              "      <td>To Kill a Mockingbird</td>\n",
              "      <td>Harper Lee</td>\n",
              "      <td>0.757447</td>\n",
              "      <td>0.668895</td>\n",
              "      <td>72586</td>\n",
              "    </tr>\n",
              "    <tr>\n",
              "      <th>4</th>\n",
              "      <td>The Great Gatsby</td>\n",
              "      <td>F. Scott Fitzgerald</td>\n",
              "      <td>0.604255</td>\n",
              "      <td>0.561105</td>\n",
              "      <td>51992</td>\n",
              "    </tr>\n",
              "  </tbody>\n",
              "</table>\n",
              "</div>"
            ],
            "text/plain": [
              "                                               title  ... work_text_reviews_count\n",
              "0            The Hunger Games (The Hunger Games, #1)  ...                  155254\n",
              "1  Harry Potter and the Sorcerer's Stone (Harry P...  ...                   75867\n",
              "2                            Twilight (Twilight, #1)  ...                   95009\n",
              "3                              To Kill a Mockingbird  ...                   72586\n",
              "4                                   The Great Gatsby  ...                   51992\n",
              "\n",
              "[5 rows x 5 columns]"
            ]
          },
          "metadata": {
            "tags": []
          },
          "execution_count": 132
        }
      ]
    },
    {
      "cell_type": "code",
      "metadata": {
        "id": "13N-7b7IgTXM"
      },
      "source": [
        "df_normalized['book_score'] = 0.5 * df_normalized['ratings_count'] + 0.5 * df_normalized['average_rating']"
      ],
      "execution_count": null,
      "outputs": []
    },
    {
      "cell_type": "code",
      "metadata": {
        "id": "uX8gmYuygTXQ",
        "colab": {
          "base_uri": "https://localhost:8080/",
          "height": 197
        },
        "outputId": "f2984224-f4ac-45a5-e72e-9aded74efb1f"
      },
      "source": [
        "df_normalized_sorted_score = df_normalized.sort_values('book_score', ascending=False)\n",
        "df_normalized_sorted_score.head()"
      ],
      "execution_count": null,
      "outputs": [
        {
          "output_type": "execute_result",
          "data": {
            "text/html": [
              "<div>\n",
              "<style scoped>\n",
              "    .dataframe tbody tr th:only-of-type {\n",
              "        vertical-align: middle;\n",
              "    }\n",
              "\n",
              "    .dataframe tbody tr th {\n",
              "        vertical-align: top;\n",
              "    }\n",
              "\n",
              "    .dataframe thead th {\n",
              "        text-align: right;\n",
              "    }\n",
              "</style>\n",
              "<table border=\"1\" class=\"dataframe\">\n",
              "  <thead>\n",
              "    <tr style=\"text-align: right;\">\n",
              "      <th></th>\n",
              "      <th>title</th>\n",
              "      <th>authors</th>\n",
              "      <th>average_rating</th>\n",
              "      <th>ratings_count</th>\n",
              "      <th>work_text_reviews_count</th>\n",
              "      <th>book_score</th>\n",
              "    </tr>\n",
              "  </thead>\n",
              "  <tbody>\n",
              "    <tr>\n",
              "      <th>1</th>\n",
              "      <td>Harry Potter and the Sorcerer's Stone (Harry P...</td>\n",
              "      <td>J.K. Rowling, Mary GrandPré</td>\n",
              "      <td>0.838298</td>\n",
              "      <td>0.962709</td>\n",
              "      <td>75867</td>\n",
              "      <td>0.900503</td>\n",
              "    </tr>\n",
              "    <tr>\n",
              "      <th>0</th>\n",
              "      <td>The Hunger Games (The Hunger Games, #1)</td>\n",
              "      <td>Suzanne Collins</td>\n",
              "      <td>0.795745</td>\n",
              "      <td>1.000000</td>\n",
              "      <td>155254</td>\n",
              "      <td>0.897872</td>\n",
              "    </tr>\n",
              "    <tr>\n",
              "      <th>3</th>\n",
              "      <td>To Kill a Mockingbird</td>\n",
              "      <td>Harper Lee</td>\n",
              "      <td>0.757447</td>\n",
              "      <td>0.668895</td>\n",
              "      <td>72586</td>\n",
              "      <td>0.713171</td>\n",
              "    </tr>\n",
              "    <tr>\n",
              "      <th>2</th>\n",
              "      <td>Twilight (Twilight, #1)</td>\n",
              "      <td>Stephenie Meyer</td>\n",
              "      <td>0.468085</td>\n",
              "      <td>0.808741</td>\n",
              "      <td>95009</td>\n",
              "      <td>0.638413</td>\n",
              "    </tr>\n",
              "    <tr>\n",
              "      <th>24</th>\n",
              "      <td>Harry Potter and the Deathly Hallows (Harry Po...</td>\n",
              "      <td>J.K. Rowling, Mary GrandPré</td>\n",
              "      <td>0.910638</td>\n",
              "      <td>0.364974</td>\n",
              "      <td>51942</td>\n",
              "      <td>0.637806</td>\n",
              "    </tr>\n",
              "  </tbody>\n",
              "</table>\n",
              "</div>"
            ],
            "text/plain": [
              "                                                title  ... book_score\n",
              "1   Harry Potter and the Sorcerer's Stone (Harry P...  ...   0.900503\n",
              "0             The Hunger Games (The Hunger Games, #1)  ...   0.897872\n",
              "3                               To Kill a Mockingbird  ...   0.713171\n",
              "2                             Twilight (Twilight, #1)  ...   0.638413\n",
              "24  Harry Potter and the Deathly Hallows (Harry Po...  ...   0.637806\n",
              "\n",
              "[5 rows x 6 columns]"
            ]
          },
          "metadata": {
            "tags": []
          },
          "execution_count": 134
        }
      ]
    },
    {
      "cell_type": "code",
      "metadata": {
        "id": "kaRpwLvjgTXV",
        "colab": {
          "base_uri": "https://localhost:8080/",
          "height": 458
        },
        "outputId": "341ad497-8f0d-4480-94c2-7496f2b68ea4"
      },
      "source": [
        "plot_books_by(df_normalized_sorted_score, 'book_score', 15)"
      ],
      "execution_count": null,
      "outputs": [
        {
          "output_type": "display_data",
          "data": {
            "image/png": "[encoded data removed]",
            "text/plain": [
              "<Figure size 864x504 with 1 Axes>"
            ]
          },
          "metadata": {
            "tags": [],
            "needs_background": "light"
          }
        }
      ]
    },
    {
      "cell_type": "markdown",
      "metadata": {
        "id": "LO5vc2tVuUd4"
      },
      "source": [
        "It's obvious that *Harry Potter* books appear several times in best 15 books."
      ]
    },
    {
      "cell_type": "code",
      "metadata": {
        "id": "eI29ukpmgTa_",
        "colab": {
          "base_uri": "https://localhost:8080/",
          "height": 737
        },
        "outputId": "1d5bda24-4fe2-44df-85aa-77a809c95f94"
      },
      "source": [
        "lang_counts = pd.DataFrame(books['language_code'].value_counts())\n",
        "lang_counts.columns = ['counts']\n",
        "lang_counts"
      ],
      "execution_count": null,
      "outputs": [
        {
          "output_type": "execute_result",
          "data": {
            "text/html": [
              "<div>\n",
              "<style scoped>\n",
              "    .dataframe tbody tr th:only-of-type {\n",
              "        vertical-align: middle;\n",
              "    }\n",
              "\n",
              "    .dataframe tbody tr th {\n",
              "        vertical-align: top;\n",
              "    }\n",
              "\n",
              "    .dataframe thead th {\n",
              "        text-align: right;\n",
              "    }\n",
              "</style>\n",
              "<table border=\"1\" class=\"dataframe\">\n",
              "  <thead>\n",
              "    <tr style=\"text-align: right;\">\n",
              "      <th></th>\n",
              "      <th>counts</th>\n",
              "    </tr>\n",
              "  </thead>\n",
              "  <tbody>\n",
              "    <tr>\n",
              "      <th>eng</th>\n",
              "      <td>5561</td>\n",
              "    </tr>\n",
              "    <tr>\n",
              "      <th>en-US</th>\n",
              "      <td>1941</td>\n",
              "    </tr>\n",
              "    <tr>\n",
              "      <th>en-GB</th>\n",
              "      <td>215</td>\n",
              "    </tr>\n",
              "    <tr>\n",
              "      <th>en-CA</th>\n",
              "      <td>49</td>\n",
              "    </tr>\n",
              "    <tr>\n",
              "      <th>fre</th>\n",
              "      <td>22</td>\n",
              "    </tr>\n",
              "    <tr>\n",
              "      <th>spa</th>\n",
              "      <td>19</td>\n",
              "    </tr>\n",
              "    <tr>\n",
              "      <th>ger</th>\n",
              "      <td>13</td>\n",
              "    </tr>\n",
              "    <tr>\n",
              "      <th>ind</th>\n",
              "      <td>8</td>\n",
              "    </tr>\n",
              "    <tr>\n",
              "      <th>ara</th>\n",
              "      <td>6</td>\n",
              "    </tr>\n",
              "    <tr>\n",
              "      <th>jpn</th>\n",
              "      <td>6</td>\n",
              "    </tr>\n",
              "    <tr>\n",
              "      <th>pol</th>\n",
              "      <td>5</td>\n",
              "    </tr>\n",
              "    <tr>\n",
              "      <th>por</th>\n",
              "      <td>5</td>\n",
              "    </tr>\n",
              "    <tr>\n",
              "      <th>dan</th>\n",
              "      <td>3</td>\n",
              "    </tr>\n",
              "    <tr>\n",
              "      <th>per</th>\n",
              "      <td>2</td>\n",
              "    </tr>\n",
              "    <tr>\n",
              "      <th>ita</th>\n",
              "      <td>2</td>\n",
              "    </tr>\n",
              "    <tr>\n",
              "      <th>rus</th>\n",
              "      <td>1</td>\n",
              "    </tr>\n",
              "    <tr>\n",
              "      <th>nl</th>\n",
              "      <td>1</td>\n",
              "    </tr>\n",
              "    <tr>\n",
              "      <th>vie</th>\n",
              "      <td>1</td>\n",
              "    </tr>\n",
              "    <tr>\n",
              "      <th>fil</th>\n",
              "      <td>1</td>\n",
              "    </tr>\n",
              "    <tr>\n",
              "      <th>nor</th>\n",
              "      <td>1</td>\n",
              "    </tr>\n",
              "    <tr>\n",
              "      <th>tur</th>\n",
              "      <td>1</td>\n",
              "    </tr>\n",
              "    <tr>\n",
              "      <th>rum</th>\n",
              "      <td>1</td>\n",
              "    </tr>\n",
              "    <tr>\n",
              "      <th>swe</th>\n",
              "      <td>1</td>\n",
              "    </tr>\n",
              "  </tbody>\n",
              "</table>\n",
              "</div>"
            ],
            "text/plain": [
              "       counts\n",
              "eng      5561\n",
              "en-US    1941\n",
              "en-GB     215\n",
              "en-CA      49\n",
              "fre        22\n",
              "spa        19\n",
              "ger        13\n",
              "ind         8\n",
              "ara         6\n",
              "jpn         6\n",
              "pol         5\n",
              "por         5\n",
              "dan         3\n",
              "per         2\n",
              "ita         2\n",
              "rus         1\n",
              "nl          1\n",
              "vie         1\n",
              "fil         1\n",
              "nor         1\n",
              "tur         1\n",
              "rum         1\n",
              "swe         1"
            ]
          },
          "metadata": {
            "tags": []
          },
          "execution_count": 136
        }
      ]
    },
    {
      "cell_type": "code",
      "metadata": {
        "id": "x7g1dxL-gTbD",
        "colab": {
          "base_uri": "https://localhost:8080/"
        },
        "outputId": "eee55d9c-5e2c-4059-93b0-d2ca789dd556"
      },
      "source": [
        "len(lang_counts)"
      ],
      "execution_count": null,
      "outputs": [
        {
          "output_type": "execute_result",
          "data": {
            "text/plain": [
              "23"
            ]
          },
          "metadata": {
            "tags": []
          },
          "execution_count": 137
        }
      ]
    },
    {
      "cell_type": "code",
      "metadata": {
        "id": "JiXfx6_bgTbH",
        "colab": {
          "base_uri": "https://localhost:8080/",
          "height": 498
        },
        "outputId": "5d3b5592-4912-4da2-e356-0eb42e979a44"
      },
      "source": [
        "plt.figure(figsize=(16,8))\n",
        "plt.title(\"Number of Books released in a specific Language (English included).\", weight='bold')\n",
        "plt.bar(x=lang_counts.index,height='counts', data=lang_counts);"
      ],
      "execution_count": null,
      "outputs": [
        {
          "output_type": "display_data",
          "data": {
            "image/png": "[encoded data removed]",
            "text/plain": [
              "<Figure size 1152x576 with 1 Axes>"
            ]
          },
          "metadata": {
            "tags": [],
            "needs_background": "light"
          }
        }
      ]
    },
    {
      "cell_type": "code",
      "metadata": {
        "id": "M4PwNXmPgTbT"
      },
      "source": [
        "lang_counts = lang_counts.drop([\"en-US\", \"en-GB\", \"eng\", \"en-CA\"])"
      ],
      "execution_count": null,
      "outputs": []
    },
    {
      "cell_type": "code",
      "metadata": {
        "id": "m_b1o9atgTbW",
        "colab": {
          "base_uri": "https://localhost:8080/",
          "height": 498
        },
        "outputId": "62ceabc5-c21b-4cdf-9941-20e5cdfa3f56"
      },
      "source": [
        "plt.figure(figsize=(16,8))\n",
        "plt.title(\"Number of Books released in a specific Language (English excluded).\", weight='bold')\n",
        "plt.bar(x=lang_counts.index,height='counts', data=lang_counts);"
      ],
      "execution_count": null,
      "outputs": [
        {
          "output_type": "display_data",
          "data": {
            "image/png": "[encoded data removed]",
            "text/plain": [
              "<Figure size 1152x576 with 1 Axes>"
            ]
          },
          "metadata": {
            "tags": [],
            "needs_background": "light"
          }
        }
      ]
    },
    {
      "cell_type": "markdown",
      "metadata": {
        "id": "-VUsQIO3gTXZ"
      },
      "source": [
        "## *Authors*<a id=\"18\"></a> <br>"
      ]
    },
    {
      "cell_type": "markdown",
      "metadata": {
        "id": "PnbwwML7gTXa"
      },
      "source": [
        "### Filter Authors<a id=\"19\"></a> <br>"
      ]
    },
    {
      "cell_type": "code",
      "metadata": {
        "id": "AWAZiQwLgTXb",
        "colab": {
          "base_uri": "https://localhost:8080/"
        },
        "outputId": "2ea39b70-7473-4285-ea61-9f144d523b72"
      },
      "source": [
        "books.authors.value_counts()"
      ],
      "execution_count": null,
      "outputs": [
        {
          "output_type": "execute_result",
          "data": {
            "text/plain": [
              "Nora Roberts                                                                               58\n",
              "Stephen King                                                                               53\n",
              "Terry Pratchett                                                                            40\n",
              "Agatha Christie                                                                            38\n",
              "Dean Koontz                                                                                34\n",
              "                                                                                           ..\n",
              "Brian Sibley                                                                                1\n",
              "Brian Azzarello, Cliff Chiang, Tony Akins, Dan Green, Matthew Wilson, Jared K. Fletcher     1\n",
              "Marion Zimmer Bradley                                                                       1\n",
              "William  Kennedy                                                                            1\n",
              "Jean Sasson                                                                                 1\n",
              "Name: authors, Length: 3760, dtype: int64"
            ]
          },
          "metadata": {
            "tags": []
          },
          "execution_count": 141
        }
      ]
    },
    {
      "cell_type": "code",
      "metadata": {
        "id": "1NOnwj16gTXe",
        "scrolled": true,
        "colab": {
          "base_uri": "https://localhost:8080/"
        },
        "outputId": "c3de246f-085e-493b-b142-68325b1416c4"
      },
      "source": [
        "c = []\n",
        "books.authors.apply(lambda x: c.append(x) if 'Agatha Christie' in x else [])\n",
        "c"
      ],
      "execution_count": null,
      "outputs": [
        {
          "output_type": "execute_result",
          "data": {
            "text/plain": [
              "['Agatha Christie',\n",
              " 'Agatha Christie, Ροζίτα Σώκου',\n",
              " 'Agatha Christie',\n",
              " 'Agatha Christie',\n",
              " 'Agatha Christie',\n",
              " 'Agatha Christie',\n",
              " 'Agatha Christie',\n",
              " 'Agatha Christie',\n",
              " 'Agatha Christie',\n",
              " 'Agatha Christie',\n",
              " 'Agatha Christie',\n",
              " 'Agatha Christie',\n",
              " 'Agatha Christie',\n",
              " 'Agatha Christie',\n",
              " 'Agatha Christie',\n",
              " 'Agatha Christie',\n",
              " 'Agatha Christie',\n",
              " 'Agatha Christie',\n",
              " 'Agatha Christie',\n",
              " 'Agatha Christie',\n",
              " 'Agatha Christie',\n",
              " 'Agatha Christie',\n",
              " 'Agatha Christie',\n",
              " 'Agatha Christie',\n",
              " 'Agatha Christie',\n",
              " 'Agatha Christie',\n",
              " 'Agatha Christie',\n",
              " 'Agatha Christie',\n",
              " 'Agatha Christie',\n",
              " 'Agatha Christie',\n",
              " 'Agatha Christie',\n",
              " 'Agatha Christie',\n",
              " 'Agatha Christie',\n",
              " 'Mary Westmacott, Agatha Christie',\n",
              " 'Agatha Christie',\n",
              " 'Agatha Christie',\n",
              " 'Agatha Christie',\n",
              " 'Agatha Christie',\n",
              " 'Agatha Christie',\n",
              " 'Agatha Christie, Hugh Fraser',\n",
              " 'Agatha Christie, Robin Bailey',\n",
              " 'Agatha Christie']"
            ]
          },
          "metadata": {
            "tags": []
          },
          "execution_count": 142
        }
      ]
    },
    {
      "cell_type": "code",
      "metadata": {
        "id": "iUoY7VB_gTXj",
        "colab": {
          "base_uri": "https://localhost:8080/"
        },
        "outputId": "ae3c69b8-00cb-434b-c237-bcd113a38da7"
      },
      "source": [
        "print('The real number of books (int the data) for Agatha Christie is {} not {}.'.format(len(c),books.authors.value_counts()['Agatha Christie']))"
      ],
      "execution_count": null,
      "outputs": [
        {
          "output_type": "stream",
          "text": [
            "The real number of books (int the data) for Agatha Christie is 42 not 38.\n"
          ],
          "name": "stdout"
        }
      ]
    },
    {
      "cell_type": "code",
      "metadata": {
        "id": "y1IGWnAggTXn",
        "scrolled": true,
        "colab": {
          "base_uri": "https://localhost:8080/"
        },
        "outputId": "51834b9b-e1e7-4511-da04-ed3cc3910441"
      },
      "source": [
        "a = []\n",
        "books.authors.apply(lambda x: a.append(x) if ',' in x else [])\n",
        "a[:10]"
      ],
      "execution_count": null,
      "outputs": [
        {
          "output_type": "execute_result",
          "data": {
            "text/plain": [
              "['J.K. Rowling, Mary GrandPré',\n",
              " 'George Orwell, Erich Fromm, Celâl Üster',\n",
              " 'Anne Frank, Eleanor Roosevelt, B.M. Mooyaart-Doubleday',\n",
              " 'Stieg Larsson, Reg Keeland',\n",
              " 'J.K. Rowling, Mary GrandPré, Rufus Beck',\n",
              " 'J.K. Rowling, Mary GrandPré',\n",
              " 'J.K. Rowling, Mary GrandPré',\n",
              " 'J.K. Rowling, Mary GrandPré',\n",
              " 'J.K. Rowling, Mary GrandPré',\n",
              " 'J.K. Rowling, Mary GrandPré']"
            ]
          },
          "metadata": {
            "tags": []
          },
          "execution_count": 144
        }
      ]
    },
    {
      "cell_type": "code",
      "metadata": {
        "id": "MPH2RRYmgTXs",
        "colab": {
          "base_uri": "https://localhost:8080/"
        },
        "outputId": "2d291d8b-f08c-4f9a-d6a4-b5470e777c05"
      },
      "source": [
        "print('Number of books with multi-authors is {}.'.format(len(a)))"
      ],
      "execution_count": null,
      "outputs": [
        {
          "output_type": "stream",
          "text": [
            "Number of books with multi-authors is 1667.\n"
          ],
          "name": "stdout"
        }
      ]
    },
    {
      "cell_type": "code",
      "metadata": {
        "id": "93Rqs2-tgTXw",
        "colab": {
          "base_uri": "https://localhost:8080/"
        },
        "outputId": "deb11836-775e-4f23-a982-439d7d884750"
      },
      "source": [
        "authors_list = books['authors'].apply(lambda x: [a for a in x.split(', ')] if ',' in x else x)\n",
        "authors_list.head()"
      ],
      "execution_count": null,
      "outputs": [
        {
          "output_type": "execute_result",
          "data": {
            "text/plain": [
              "0                  Suzanne Collins\n",
              "1    [J.K. Rowling, Mary GrandPré]\n",
              "2                  Stephenie Meyer\n",
              "3                       Harper Lee\n",
              "4              F. Scott Fitzgerald\n",
              "Name: authors, dtype: object"
            ]
          },
          "metadata": {
            "tags": []
          },
          "execution_count": 146
        }
      ]
    },
    {
      "cell_type": "code",
      "metadata": {
        "id": "QRT9s68EgTX3",
        "colab": {
          "base_uri": "https://localhost:8080/"
        },
        "outputId": "307a065c-f38e-4565-97a2-3d158314d3d4"
      },
      "source": [
        "authors_list.head(6).apply(lambda x: pd.Series(x)).stack().head(6)"
      ],
      "execution_count": null,
      "outputs": [
        {
          "output_type": "execute_result",
          "data": {
            "text/plain": [
              "0  0        Suzanne Collins\n",
              "1  0           J.K. Rowling\n",
              "   1          Mary GrandPré\n",
              "2  0        Stephenie Meyer\n",
              "3  0             Harper Lee\n",
              "4  0    F. Scott Fitzgerald\n",
              "dtype: object"
            ]
          },
          "metadata": {
            "tags": []
          },
          "execution_count": 147
        }
      ]
    },
    {
      "cell_type": "code",
      "metadata": {
        "id": "T4qH06FxgTX7",
        "colab": {
          "base_uri": "https://localhost:8080/"
        },
        "outputId": "abb5279a-c2f5-4220-aa2a-861b567f179d"
      },
      "source": [
        "authors_list.head(6).apply(lambda x: pd.Series(x)).stack().head(6).reset_index(level=1, drop=True)"
      ],
      "execution_count": null,
      "outputs": [
        {
          "output_type": "execute_result",
          "data": {
            "text/plain": [
              "0        Suzanne Collins\n",
              "1           J.K. Rowling\n",
              "1          Mary GrandPré\n",
              "2        Stephenie Meyer\n",
              "3             Harper Lee\n",
              "4    F. Scott Fitzgerald\n",
              "dtype: object"
            ]
          },
          "metadata": {
            "tags": []
          },
          "execution_count": 148
        }
      ]
    },
    {
      "cell_type": "code",
      "metadata": {
        "id": "WEPWiVHIgTYD",
        "colab": {
          "base_uri": "https://localhost:8080/"
        },
        "outputId": "3b245aac-2c5d-4e8b-aa65-51aa7872c928"
      },
      "source": [
        "splitted_authors = authors_list.apply(lambda x: pd.Series(x)).stack().reset_index(level=1, drop=True)\n",
        "splitted_authors.name = 'authors'\n",
        "splitted_authors.head()"
      ],
      "execution_count": null,
      "outputs": [
        {
          "output_type": "execute_result",
          "data": {
            "text/plain": [
              "0    Suzanne Collins\n",
              "1       J.K. Rowling\n",
              "1      Mary GrandPré\n",
              "2    Stephenie Meyer\n",
              "3         Harper Lee\n",
              "Name: authors, dtype: object"
            ]
          },
          "metadata": {
            "tags": []
          },
          "execution_count": 149
        }
      ]
    },
    {
      "cell_type": "code",
      "metadata": {
        "id": "ZEgB7k2LgTYH",
        "colab": {
          "base_uri": "https://localhost:8080/",
          "height": 197
        },
        "outputId": "0f4258e7-d34d-4ac2-ac4a-937630545ed8"
      },
      "source": [
        "df_edited_authors = books[important_columns].drop('authors', axis=1).join(splitted_authors)\n",
        "df_edited_authors.head()"
      ],
      "execution_count": null,
      "outputs": [
        {
          "output_type": "execute_result",
          "data": {
            "text/html": [
              "<div>\n",
              "<style scoped>\n",
              "    .dataframe tbody tr th:only-of-type {\n",
              "        vertical-align: middle;\n",
              "    }\n",
              "\n",
              "    .dataframe tbody tr th {\n",
              "        vertical-align: top;\n",
              "    }\n",
              "\n",
              "    .dataframe thead th {\n",
              "        text-align: right;\n",
              "    }\n",
              "</style>\n",
              "<table border=\"1\" class=\"dataframe\">\n",
              "  <thead>\n",
              "    <tr style=\"text-align: right;\">\n",
              "      <th></th>\n",
              "      <th>title</th>\n",
              "      <th>average_rating</th>\n",
              "      <th>ratings_count</th>\n",
              "      <th>work_text_reviews_count</th>\n",
              "      <th>authors</th>\n",
              "    </tr>\n",
              "  </thead>\n",
              "  <tbody>\n",
              "    <tr>\n",
              "      <th>0</th>\n",
              "      <td>The Hunger Games (The Hunger Games, #1)</td>\n",
              "      <td>4.34</td>\n",
              "      <td>4780653</td>\n",
              "      <td>155254</td>\n",
              "      <td>Suzanne Collins</td>\n",
              "    </tr>\n",
              "    <tr>\n",
              "      <th>1</th>\n",
              "      <td>Harry Potter and the Sorcerer's Stone (Harry P...</td>\n",
              "      <td>4.44</td>\n",
              "      <td>4602479</td>\n",
              "      <td>75867</td>\n",
              "      <td>J.K. Rowling</td>\n",
              "    </tr>\n",
              "    <tr>\n",
              "      <th>1</th>\n",
              "      <td>Harry Potter and the Sorcerer's Stone (Harry P...</td>\n",
              "      <td>4.44</td>\n",
              "      <td>4602479</td>\n",
              "      <td>75867</td>\n",
              "      <td>Mary GrandPré</td>\n",
              "    </tr>\n",
              "    <tr>\n",
              "      <th>2</th>\n",
              "      <td>Twilight (Twilight, #1)</td>\n",
              "      <td>3.57</td>\n",
              "      <td>3866839</td>\n",
              "      <td>95009</td>\n",
              "      <td>Stephenie Meyer</td>\n",
              "    </tr>\n",
              "    <tr>\n",
              "      <th>3</th>\n",
              "      <td>To Kill a Mockingbird</td>\n",
              "      <td>4.25</td>\n",
              "      <td>3198671</td>\n",
              "      <td>72586</td>\n",
              "      <td>Harper Lee</td>\n",
              "    </tr>\n",
              "  </tbody>\n",
              "</table>\n",
              "</div>"
            ],
            "text/plain": [
              "                                               title  ...          authors\n",
              "0            The Hunger Games (The Hunger Games, #1)  ...  Suzanne Collins\n",
              "1  Harry Potter and the Sorcerer's Stone (Harry P...  ...     J.K. Rowling\n",
              "1  Harry Potter and the Sorcerer's Stone (Harry P...  ...    Mary GrandPré\n",
              "2                            Twilight (Twilight, #1)  ...  Stephenie Meyer\n",
              "3                              To Kill a Mockingbird  ...       Harper Lee\n",
              "\n",
              "[5 rows x 5 columns]"
            ]
          },
          "metadata": {
            "tags": []
          },
          "execution_count": 150
        }
      ]
    },
    {
      "cell_type": "code",
      "metadata": {
        "id": "ngSF2mGTgTYM",
        "colab": {
          "base_uri": "https://localhost:8080/"
        },
        "outputId": "4c08e532-0039-48d3-e08e-5d61a7062aec"
      },
      "source": [
        "books.shape, df_edited_authors.shape"
      ],
      "execution_count": null,
      "outputs": [
        {
          "output_type": "execute_result",
          "data": {
            "text/plain": [
              "((7865, 23), (10514, 5))"
            ]
          },
          "metadata": {
            "tags": []
          },
          "execution_count": 151
        }
      ]
    },
    {
      "cell_type": "code",
      "metadata": {
        "id": "kP_P-AwxgTYS",
        "scrolled": true,
        "colab": {
          "base_uri": "https://localhost:8080/"
        },
        "outputId": "31ff6152-8b0a-427a-bf53-fe6e2a774f28"
      },
      "source": [
        "df_edited_authors.authors.value_counts()"
      ],
      "execution_count": null,
      "outputs": [
        {
          "output_type": "execute_result",
          "data": {
            "text/plain": [
              "Stephen King        85\n",
              "James Patterson     81\n",
              "Nora Roberts        63\n",
              "Dean Koontz         50\n",
              "Terry Pratchett     46\n",
              "                    ..\n",
              "Soumei Hoshino       1\n",
              "Per Petterson        1\n",
              "Ed Helms             1\n",
              "Michael Swanwick     1\n",
              "Jean Sasson          1\n",
              "Name: authors, Length: 4809, dtype: int64"
            ]
          },
          "metadata": {
            "tags": []
          },
          "execution_count": 152
        }
      ]
    },
    {
      "cell_type": "markdown",
      "metadata": {
        "id": "LudjTvhYgTYW"
      },
      "source": [
        "We can see now the difference as the previous largest number of books was **60** for *Stephen King*, now it's **98** for *James Patterson*."
      ]
    },
    {
      "cell_type": "code",
      "metadata": {
        "id": "6v13Km8QgTYX"
      },
      "source": [
        "def plot_authors_by(df, title, xlabel, n=15, ylabel='Author', y_size=7):\n",
        "    plt.figure(figsize=(15,y_size))\n",
        "    ax = sns.barplot(x=df.head(n).values, y=df.head(n).index)\n",
        "    plt.title(title, weight='bold')\n",
        "    plt.xlabel(xlabel)\n",
        "    plt.ylabel(ylabel)"
      ],
      "execution_count": null,
      "outputs": []
    },
    {
      "cell_type": "markdown",
      "metadata": {
        "id": "kySz4-mrgTYe"
      },
      "source": [
        "### Authors with Most Books<a id=\"20\"></a> <br>"
      ]
    },
    {
      "cell_type": "code",
      "metadata": {
        "id": "neolVhCRgTYf",
        "scrolled": true,
        "colab": {
          "base_uri": "https://localhost:8080/"
        },
        "outputId": "db21ff8e-f883-4b98-b38b-d7c92dfb949f"
      },
      "source": [
        "authors_most_with_books = df_edited_authors.authors.value_counts()\n",
        "authors_most_with_books.head(15)"
      ],
      "execution_count": null,
      "outputs": [
        {
          "output_type": "execute_result",
          "data": {
            "text/plain": [
              "Stephen King           85\n",
              "James Patterson        81\n",
              "Nora Roberts           63\n",
              "Dean Koontz            50\n",
              "Terry Pratchett        46\n",
              "Agatha Christie        42\n",
              "J.D. Robb              40\n",
              "Neil Gaiman            40\n",
              "Janet Evanovich        33\n",
              "Meg Cabot              33\n",
              "David Baldacci         31\n",
              "Anne Rice              30\n",
              "Laurell K. Hamilton    30\n",
              "John Grisham           27\n",
              "Michael Connelly       27\n",
              "Name: authors, dtype: int64"
            ]
          },
          "metadata": {
            "tags": []
          },
          "execution_count": 154
        }
      ]
    },
    {
      "cell_type": "code",
      "metadata": {
        "id": "vsbFYeb3gTYm",
        "scrolled": false,
        "colab": {
          "base_uri": "https://localhost:8080/",
          "height": 457
        },
        "outputId": "f1ce53c2-5c63-47c9-fd64-3557814a9ec0"
      },
      "source": [
        "plot_authors_by(authors_most_with_books, 'Authors with most books', 'Number of Books', 30)"
      ],
      "execution_count": null,
      "outputs": [
        {
          "output_type": "display_data",
          "data": {
            "image/png": "[encoded data removed]",
            "text/plain": [
              "<Figure size 1080x504 with 1 Axes>"
            ]
          },
          "metadata": {
            "tags": [],
            "needs_background": "light"
          }
        }
      ]
    },
    {
      "cell_type": "markdown",
      "metadata": {
        "id": "EOxBJpWWgTYu"
      },
      "source": [
        "For coming analysis we need to filter authors by their *number of books* & *total ratings count*, as for an author (with just one book and few ratings of **5**), won't be the same for a popular author with avrage-rating of maybe **4.5**."
      ]
    },
    {
      "cell_type": "code",
      "metadata": {
        "id": "57IxYBClgTYw"
      },
      "source": [
        "def at_least_books(df, n):\n",
        "    more_than_n = df_edited_authors['authors'].value_counts().values >= n\n",
        "    return df['authors'].isin(df['authors'].value_counts()[more_than_n == True].index)"
      ],
      "execution_count": null,
      "outputs": []
    },
    {
      "cell_type": "code",
      "metadata": {
        "id": "1cLHevv4gTY0"
      },
      "source": [
        "def at_least_ratings_count(df, n):\n",
        "    return df.ratings_count >= n"
      ],
      "execution_count": null,
      "outputs": []
    },
    {
      "cell_type": "code",
      "metadata": {
        "id": "WhXHqNyXgTY6",
        "colab": {
          "base_uri": "https://localhost:8080/"
        },
        "outputId": "ecbc5448-7a53-4c09-9521-71c914729413"
      },
      "source": [
        "at_least_books(df_edited_authors, 5).head()"
      ],
      "execution_count": null,
      "outputs": [
        {
          "output_type": "execute_result",
          "data": {
            "text/plain": [
              "0     True\n",
              "1     True\n",
              "1     True\n",
              "2     True\n",
              "3    False\n",
              "Name: authors, dtype: bool"
            ]
          },
          "metadata": {
            "tags": []
          },
          "execution_count": 158
        }
      ]
    },
    {
      "cell_type": "code",
      "metadata": {
        "id": "D8hclDIigTY_",
        "colab": {
          "base_uri": "https://localhost:8080/"
        },
        "outputId": "4da8be7d-0b4b-455f-b6d2-f9317b908db1"
      },
      "source": [
        "at_least_ratings_count(df_edited_authors, 10000).head()"
      ],
      "execution_count": null,
      "outputs": [
        {
          "output_type": "execute_result",
          "data": {
            "text/plain": [
              "0    True\n",
              "1    True\n",
              "1    True\n",
              "2    True\n",
              "3    True\n",
              "Name: ratings_count, dtype: bool"
            ]
          },
          "metadata": {
            "tags": []
          },
          "execution_count": 159
        }
      ]
    },
    {
      "cell_type": "markdown",
      "metadata": {
        "id": "2sKuk-gLgTZM"
      },
      "source": [
        "Here we do some analysis trying to pick up suitable parameters for functions above."
      ]
    },
    {
      "cell_type": "code",
      "metadata": {
        "id": "WT6K6UZigTZN",
        "colab": {
          "base_uri": "https://localhost:8080/"
        },
        "outputId": "34296ba7-b4dc-41ea-8f3f-91e31ba16364"
      },
      "source": [
        "df_edited_authors['authors'].value_counts().describe()"
      ],
      "execution_count": null,
      "outputs": [
        {
          "output_type": "execute_result",
          "data": {
            "text/plain": [
              "count    4809.000000\n",
              "mean        2.186317\n",
              "std         3.635168\n",
              "min         1.000000\n",
              "25%         1.000000\n",
              "50%         1.000000\n",
              "75%         2.000000\n",
              "max        85.000000\n",
              "Name: authors, dtype: float64"
            ]
          },
          "metadata": {
            "tags": []
          },
          "execution_count": 160
        }
      ]
    },
    {
      "cell_type": "code",
      "metadata": {
        "id": "pSORVSAngTZS",
        "colab": {
          "base_uri": "https://localhost:8080/",
          "height": 334
        },
        "outputId": "06680152-a85e-4697-9907-32d08a53aea4"
      },
      "source": [
        "plt.figure(figsize=(10,5))\n",
        "plt.hist(df_edited_authors.authors.value_counts().values);\n",
        "plt.xlabel('number of books');\n",
        "plt.ylabel('count');"
      ],
      "execution_count": null,
      "outputs": [
        {
          "output_type": "display_data",
          "data": {
            "image/png": "[encoded data removed]",
            "text/plain": [
              "<Figure size 720x360 with 1 Axes>"
            ]
          },
          "metadata": {
            "tags": [],
            "needs_background": "light"
          }
        }
      ]
    },
    {
      "cell_type": "code",
      "metadata": {
        "id": "O34GkDa6gTZW",
        "colab": {
          "base_uri": "https://localhost:8080/",
          "height": 171
        },
        "outputId": "9206dfb5-71a1-48a0-d0fa-1f221facbfa1"
      },
      "source": [
        "plt.figure(figsize=(17,2))\n",
        "sns.boxplot(x=df_edited_authors.authors.value_counts(), orient='h');\n",
        "plt.xlabel('number of books');"
      ],
      "execution_count": null,
      "outputs": [
        {
          "output_type": "display_data",
          "data": {
            "image/png": "[encoded data removed]",
            "text/plain": [
              "<Figure size 1224x144 with 1 Axes>"
            ]
          },
          "metadata": {
            "tags": [],
            "needs_background": "light"
          }
        }
      ]
    },
    {
      "cell_type": "code",
      "metadata": {
        "id": "fSMR5WxBgTZa",
        "colab": {
          "base_uri": "https://localhost:8080/"
        },
        "outputId": "d5bc0d21-a0fe-408d-f948-166728e64483"
      },
      "source": [
        "df_edited_authors['ratings_count'].describe()"
      ],
      "execution_count": null,
      "outputs": [
        {
          "output_type": "execute_result",
          "data": {
            "text/plain": [
              "count    1.051400e+04\n",
              "mean     6.103485e+04\n",
              "std      1.769463e+05\n",
              "min      2.773000e+03\n",
              "25%      1.398175e+04\n",
              "50%      2.222900e+04\n",
              "75%      4.519050e+04\n",
              "max      4.780653e+06\n",
              "Name: ratings_count, dtype: float64"
            ]
          },
          "metadata": {
            "tags": []
          },
          "execution_count": 163
        }
      ]
    },
    {
      "cell_type": "code",
      "metadata": {
        "id": "oH-T5BqSgTZd",
        "colab": {
          "base_uri": "https://localhost:8080/",
          "height": 334
        },
        "outputId": "eb26eb40-45b9-477e-adb5-13c0f1c742f2"
      },
      "source": [
        "plt.figure(figsize=(10,5))\n",
        "plt.hist(df_edited_authors['ratings_count']);\n",
        "plt.xlabel('number of ratings');\n",
        "plt.ylabel('count');"
      ],
      "execution_count": null,
      "outputs": [
        {
          "output_type": "display_data",
          "data": {
            "image/png": "[encoded data removed]",
            "text/plain": [
              "<Figure size 720x360 with 1 Axes>"
            ]
          },
          "metadata": {
            "tags": [],
            "needs_background": "light"
          }
        }
      ]
    },
    {
      "cell_type": "code",
      "metadata": {
        "id": "pVnYhwLpgTZh",
        "colab": {
          "base_uri": "https://localhost:8080/",
          "height": 172
        },
        "outputId": "e089c766-06ce-499d-a5b6-0d8ff19efba5"
      },
      "source": [
        "plt.figure(figsize=(17,2))\n",
        "sns.boxplot(x=df_edited_authors['ratings_count'], orient='h');"
      ],
      "execution_count": null,
      "outputs": [
        {
          "output_type": "display_data",
          "data": {
            "image/png": "[encoded data removed]",
            "text/plain": [
              "<Figure size 1224x144 with 1 Axes>"
            ]
          },
          "metadata": {
            "tags": [],
            "needs_background": "light"
          }
        }
      ]
    },
    {
      "cell_type": "markdown",
      "metadata": {
        "id": "G-kNiW98gTZk"
      },
      "source": [
        "I've chosen at least **5** books and **50k** ratings for a successful author. You can play with different values and explore the results."
      ]
    },
    {
      "cell_type": "code",
      "metadata": {
        "id": "tNuqqpjngTZk"
      },
      "source": [
        "c1 = at_least_books(df_edited_authors, 5)\n",
        "c2 = at_least_ratings_count(df_edited_authors, 50000)"
      ],
      "execution_count": null,
      "outputs": []
    },
    {
      "cell_type": "markdown",
      "metadata": {
        "id": "zxbbXusTgTZp"
      },
      "source": [
        "### Best Rating Authors<a id=\"21\"></a> <br>"
      ]
    },
    {
      "cell_type": "code",
      "metadata": {
        "id": "-d7iy4P3gTZp",
        "colab": {
          "base_uri": "https://localhost:8080/"
        },
        "outputId": "b09314c4-e7ab-498e-9757-333bd9b06329"
      },
      "source": [
        "best_rating_authors = df_edited_authors[c1 & c2].groupby('authors')['average_rating'].mean().sort_values(ascending=False)\n",
        "best_rating_authors.head(15)"
      ],
      "execution_count": null,
      "outputs": [
        {
          "output_type": "execute_result",
          "data": {
            "text/plain": [
              "authors\n",
              "Bill Watterson        4.630000\n",
              "Francine Rivers       4.600000\n",
              "Mary GrandPré         4.497143\n",
              "Sarah J. Maas         4.468750\n",
              "Clive Barker          4.440000\n",
              "Takeshi Obata         4.420000\n",
              "Tsugumi Ohba          4.420000\n",
              "Fiona Staples         4.410000\n",
              "George R.R. Martin    4.410000\n",
              "Brandon Sanderson     4.409000\n",
              "Cassandra Clare       4.366364\n",
              "Robert Kirkman        4.365000\n",
              "Bisco Hatori          4.360000\n",
              "Richelle Mead         4.350000\n",
              "A.A. Milne            4.350000\n",
              "Name: average_rating, dtype: float64"
            ]
          },
          "metadata": {
            "tags": []
          },
          "execution_count": 167
        }
      ]
    },
    {
      "cell_type": "code",
      "metadata": {
        "id": "LbJktfmIgTZt",
        "colab": {
          "base_uri": "https://localhost:8080/"
        },
        "outputId": "7914c9f2-3ba8-4267-b33d-294fc9d3aeae"
      },
      "source": [
        "print('Best Rating Authors are {} of {} authors'.format(len(best_rating_authors),len(df_edited_authors.authors.unique())))"
      ],
      "execution_count": null,
      "outputs": [
        {
          "output_type": "stream",
          "text": [
            "Best Rating Authors are 328 of 4809 authors\n"
          ],
          "name": "stdout"
        }
      ]
    },
    {
      "cell_type": "code",
      "metadata": {
        "id": "6jbX0mt7gTZx",
        "colab": {
          "base_uri": "https://localhost:8080/",
          "height": 457
        },
        "outputId": "a7f3ccf0-dc91-41fc-fb44-3e58eb33e8a7"
      },
      "source": [
        "plot_authors_by(best_rating_authors, 'Best Rating Authors', 'Rating', 30)"
      ],
      "execution_count": null,
      "outputs": [
        {
          "output_type": "display_data",
          "data": {
            "image/png": "[encoded data removed]",
            "text/plain": [
              "<Figure size 1080x504 with 1 Axes>"
            ]
          },
          "metadata": {
            "tags": [],
            "needs_background": "light"
          }
        }
      ]
    },
    {
      "cell_type": "markdown",
      "metadata": {
        "id": "p_Ow6VU2gTZ1"
      },
      "source": [
        "### Most Ratings Authors<a id=\"22\"></a> <br>"
      ]
    },
    {
      "cell_type": "code",
      "metadata": {
        "id": "J7PeYeycgTZ6",
        "colab": {
          "base_uri": "https://localhost:8080/"
        },
        "outputId": "b36f9272-382c-4ca6-8ca8-704ad02a158e"
      },
      "source": [
        "most_ratings_authors = df_edited_authors.groupby('authors')['ratings_count'].sum().sort_values(ascending=False)\n",
        "most_ratings_authors.head(15)"
      ],
      "execution_count": null,
      "outputs": [
        {
          "output_type": "execute_result",
          "data": {
            "text/plain": [
              "authors\n",
              "J.K. Rowling           16986979\n",
              "Mary GrandPré          15172370\n",
              "Suzanne Collins         8613107\n",
              "Stephenie Meyer         8240392\n",
              "Stephen King            8045593\n",
              "J.R.R. Tolkien          5700179\n",
              "Rick Riordan            5127987\n",
              "Dan Brown               4984049\n",
              "William Shakespeare     4393865\n",
              "Cassandra Clare         4294099\n",
              "Nicholas Sparks         4274745\n",
              "John Green              4198002\n",
              "Jane Austen             4151071\n",
              "George Orwell           4035503\n",
              "C.S. Lewis              3943519\n",
              "Name: ratings_count, dtype: int64"
            ]
          },
          "metadata": {
            "tags": []
          },
          "execution_count": 170
        }
      ]
    },
    {
      "cell_type": "code",
      "metadata": {
        "id": "Gn9EH2lugTZ_",
        "scrolled": false,
        "colab": {
          "base_uri": "https://localhost:8080/",
          "height": 457
        },
        "outputId": "b0d35df0-fc9d-4d4f-d18a-8aadb18740d2"
      },
      "source": [
        "plot_authors_by(most_ratings_authors, 'Most Ratings Authors', 'Total Ratings', 30)"
      ],
      "execution_count": null,
      "outputs": [
        {
          "output_type": "display_data",
          "data": {
            "image/png": "[encoded data removed]",
            "text/plain": [
              "<Figure size 1080x504 with 1 Axes>"
            ]
          },
          "metadata": {
            "tags": [],
            "needs_background": "light"
          }
        }
      ]
    },
    {
      "cell_type": "markdown",
      "metadata": {
        "id": "UknX3vgWgTaB"
      },
      "source": [
        "We notice here that **Mary GrandPré** achieved the 2nd place, although that she isn't an author, but the illustrator of the *Harry Potter* books in their U.S. editions."
      ]
    },
    {
      "cell_type": "markdown",
      "metadata": {
        "id": "vimVSHxtgTaC"
      },
      "source": [
        "### Best Authors<a id=\"23\"></a> <br>"
      ]
    },
    {
      "cell_type": "markdown",
      "metadata": {
        "id": "irWMfhuvgTaC"
      },
      "source": [
        "We will do some *feature-engineering* (as before with books) to create a new scorer for authors."
      ]
    },
    {
      "cell_type": "code",
      "metadata": {
        "id": "NwPFCp_SgTaD"
      },
      "source": [
        "from sklearn.preprocessing import MinMaxScaler\n",
        "scaler = MinMaxScaler()"
      ],
      "execution_count": null,
      "outputs": []
    },
    {
      "cell_type": "code",
      "metadata": {
        "id": "1a4RvqmwgTaG",
        "colab": {
          "base_uri": "https://localhost:8080/",
          "height": 227
        },
        "outputId": "c268f3c3-c7cf-424d-9c27-e7eb7885f470"
      },
      "source": [
        "best_rating_authors_normalized = pd.DataFrame(best_rating_authors.values, index=best_rating_authors.index, columns=['rating'])\n",
        "best_rating_authors_normalized['rating'] = scaler.fit_transform(best_rating_authors_normalized)\n",
        "best_rating_authors_normalized.head()"
      ],
      "execution_count": null,
      "outputs": [
        {
          "output_type": "execute_result",
          "data": {
            "text/html": [
              "<div>\n",
              "<style scoped>\n",
              "    .dataframe tbody tr th:only-of-type {\n",
              "        vertical-align: middle;\n",
              "    }\n",
              "\n",
              "    .dataframe tbody tr th {\n",
              "        vertical-align: top;\n",
              "    }\n",
              "\n",
              "    .dataframe thead th {\n",
              "        text-align: right;\n",
              "    }\n",
              "</style>\n",
              "<table border=\"1\" class=\"dataframe\">\n",
              "  <thead>\n",
              "    <tr style=\"text-align: right;\">\n",
              "      <th></th>\n",
              "      <th>rating</th>\n",
              "    </tr>\n",
              "    <tr>\n",
              "      <th>authors</th>\n",
              "      <th></th>\n",
              "    </tr>\n",
              "  </thead>\n",
              "  <tbody>\n",
              "    <tr>\n",
              "      <th>Bill Watterson</th>\n",
              "      <td>1.000000</td>\n",
              "    </tr>\n",
              "    <tr>\n",
              "      <th>Francine Rivers</th>\n",
              "      <td>0.978873</td>\n",
              "    </tr>\n",
              "    <tr>\n",
              "      <th>Mary GrandPré</th>\n",
              "      <td>0.906439</td>\n",
              "    </tr>\n",
              "    <tr>\n",
              "      <th>Sarah J. Maas</th>\n",
              "      <td>0.886444</td>\n",
              "    </tr>\n",
              "    <tr>\n",
              "      <th>Clive Barker</th>\n",
              "      <td>0.866197</td>\n",
              "    </tr>\n",
              "  </tbody>\n",
              "</table>\n",
              "</div>"
            ],
            "text/plain": [
              "                   rating\n",
              "authors                  \n",
              "Bill Watterson   1.000000\n",
              "Francine Rivers  0.978873\n",
              "Mary GrandPré    0.906439\n",
              "Sarah J. Maas    0.886444\n",
              "Clive Barker     0.866197"
            ]
          },
          "metadata": {
            "tags": []
          },
          "execution_count": 173
        }
      ]
    },
    {
      "cell_type": "code",
      "metadata": {
        "id": "8Us29TTKgTaL",
        "colab": {
          "base_uri": "https://localhost:8080/"
        },
        "outputId": "058649f7-c7e0-4b02-c4c4-e6beb3f9019e"
      },
      "source": [
        "authors_rating_score = df_edited_authors['authors'].apply(lambda x: best_rating_authors_normalized.loc[x].rating if x in best_rating_authors_normalized.index else 0.0)\n",
        "authors_rating_score.head()"
      ],
      "execution_count": null,
      "outputs": [
        {
          "output_type": "execute_result",
          "data": {
            "text/plain": [
              "0    0.718310\n",
              "1    0.696303\n",
              "1    0.906439\n",
              "2    0.301643\n",
              "3    0.000000\n",
              "Name: authors, dtype: float64"
            ]
          },
          "metadata": {
            "tags": []
          },
          "execution_count": 174
        }
      ]
    },
    {
      "cell_type": "code",
      "metadata": {
        "id": "zXk9fXnXgTaO",
        "colab": {
          "base_uri": "https://localhost:8080/",
          "height": 227
        },
        "outputId": "a98a5b90-5c0b-4d5c-f64d-6652dc24932b"
      },
      "source": [
        "most_ratings_authors_normalized = pd.DataFrame(most_ratings_authors.values, index=most_ratings_authors.index, columns=['total_rating'])\n",
        "most_ratings_authors_normalized['total_rating'] = scaler.fit_transform(most_ratings_authors_normalized)\n",
        "most_ratings_authors_normalized.head()"
      ],
      "execution_count": null,
      "outputs": [
        {
          "output_type": "execute_result",
          "data": {
            "text/html": [
              "<div>\n",
              "<style scoped>\n",
              "    .dataframe tbody tr th:only-of-type {\n",
              "        vertical-align: middle;\n",
              "    }\n",
              "\n",
              "    .dataframe tbody tr th {\n",
              "        vertical-align: top;\n",
              "    }\n",
              "\n",
              "    .dataframe thead th {\n",
              "        text-align: right;\n",
              "    }\n",
              "</style>\n",
              "<table border=\"1\" class=\"dataframe\">\n",
              "  <thead>\n",
              "    <tr style=\"text-align: right;\">\n",
              "      <th></th>\n",
              "      <th>total_rating</th>\n",
              "    </tr>\n",
              "    <tr>\n",
              "      <th>authors</th>\n",
              "      <th></th>\n",
              "    </tr>\n",
              "  </thead>\n",
              "  <tbody>\n",
              "    <tr>\n",
              "      <th>J.K. Rowling</th>\n",
              "      <td>1.000000</td>\n",
              "    </tr>\n",
              "    <tr>\n",
              "      <th>Mary GrandPré</th>\n",
              "      <td>0.893159</td>\n",
              "    </tr>\n",
              "    <tr>\n",
              "      <th>Suzanne Collins</th>\n",
              "      <td>0.506961</td>\n",
              "    </tr>\n",
              "    <tr>\n",
              "      <th>Stephenie Meyer</th>\n",
              "      <td>0.485016</td>\n",
              "    </tr>\n",
              "    <tr>\n",
              "      <th>Stephen King</th>\n",
              "      <td>0.473547</td>\n",
              "    </tr>\n",
              "  </tbody>\n",
              "</table>\n",
              "</div>"
            ],
            "text/plain": [
              "                 total_rating\n",
              "authors                      \n",
              "J.K. Rowling         1.000000\n",
              "Mary GrandPré        0.893159\n",
              "Suzanne Collins      0.506961\n",
              "Stephenie Meyer      0.485016\n",
              "Stephen King         0.473547"
            ]
          },
          "metadata": {
            "tags": []
          },
          "execution_count": 175
        }
      ]
    },
    {
      "cell_type": "code",
      "metadata": {
        "id": "p7T-0iNUgTaS",
        "colab": {
          "base_uri": "https://localhost:8080/"
        },
        "outputId": "774190ea-f6a7-47ae-d609-3708103ef0d4"
      },
      "source": [
        "authors_ratings_count_score = df_edited_authors['authors'].apply(lambda x: most_ratings_authors_normalized.loc[x].total_rating)\n",
        "authors_ratings_count_score.head()"
      ],
      "execution_count": null,
      "outputs": [
        {
          "output_type": "execute_result",
          "data": {
            "text/plain": [
              "0    0.506961\n",
              "1    1.000000\n",
              "1    0.893159\n",
              "2    0.485016\n",
              "3    0.196333\n",
              "Name: authors, dtype: float64"
            ]
          },
          "metadata": {
            "tags": []
          },
          "execution_count": 176
        }
      ]
    },
    {
      "cell_type": "code",
      "metadata": {
        "id": "TeGwS7-7gTaU",
        "colab": {
          "base_uri": "https://localhost:8080/"
        },
        "outputId": "d79be540-5676-42d0-e011-4dd53dc8eefb"
      },
      "source": [
        "df_edited_authors['author_score'] = 0.5 * authors_rating_score + 0.5 * authors_ratings_count_score\n",
        "df_edited_authors['author_score'].head()"
      ],
      "execution_count": null,
      "outputs": [
        {
          "output_type": "execute_result",
          "data": {
            "text/plain": [
              "0    0.612636\n",
              "1    0.848151\n",
              "1    0.899799\n",
              "2    0.393330\n",
              "3    0.098167\n",
              "Name: author_score, dtype: float64"
            ]
          },
          "metadata": {
            "tags": []
          },
          "execution_count": 177
        }
      ]
    },
    {
      "cell_type": "code",
      "metadata": {
        "id": "XuZ9OZrHgTaX",
        "colab": {
          "base_uri": "https://localhost:8080/"
        },
        "outputId": "9cf29beb-3bd5-4804-8036-42824c57ebb3"
      },
      "source": [
        "best_authors = df_edited_authors.groupby('authors')['author_score'].mean().sort_values(ascending=False)\n",
        "best_authors.head(15)"
      ],
      "execution_count": null,
      "outputs": [
        {
          "output_type": "execute_result",
          "data": {
            "text/plain": [
              "authors\n",
              "Mary GrandPré         0.899799\n",
              "J.K. Rowling          0.848151\n",
              "Suzanne Collins       0.612636\n",
              "J.R.R. Tolkien        0.553094\n",
              "Rick Riordan          0.535154\n",
              "Cassandra Clare       0.533503\n",
              "Bill Watterson        0.512265\n",
              "George R.R. Martin    0.509980\n",
              "Stephen King          0.503848\n",
              "Francine Rivers       0.496360\n",
              "Sarah J. Maas         0.472515\n",
              "Brandon Sanderson     0.460014\n",
              "Shel Silverstein      0.458983\n",
              "Richelle Mead         0.453545\n",
              "Clive Barker          0.441439\n",
              "Name: author_score, dtype: float64"
            ]
          },
          "metadata": {
            "tags": []
          },
          "execution_count": 178
        }
      ]
    },
    {
      "cell_type": "code",
      "metadata": {
        "id": "LqdHJfsSgTab",
        "scrolled": false,
        "colab": {
          "base_uri": "https://localhost:8080/",
          "height": 457
        },
        "outputId": "6e75ca8a-54a7-4a7f-a74c-7c61a1041dc5"
      },
      "source": [
        "plot_authors_by(best_authors, 'Best Authors', 'Score', 30)"
      ],
      "execution_count": null,
      "outputs": [
        {
          "output_type": "display_data",
          "data": {
            "image/png": "[encoded data removed]",
            "text/plain": [
              "<Figure size 1080x504 with 1 Axes>"
            ]
          },
          "metadata": {
            "tags": [],
            "needs_background": "light"
          }
        }
      ]
    },
    {
      "cell_type": "markdown",
      "metadata": {
        "id": "1JX3Tj_DgTae"
      },
      "source": [
        "As we know that **Mary GrandPré** is an illustrator, so we can consider that **J.K. Rowling** is the best author for her fantastic *Harry Potter* Series (that also achieved the best scored books above). "
      ]
    },
    {
      "cell_type": "markdown",
      "metadata": {
        "id": "GQhdANq0gTbY"
      },
      "source": [
        "## *Ratings*<a id=\"24\"></a> <br>"
      ]
    },
    {
      "cell_type": "code",
      "metadata": {
        "id": "1hyh4Hs1gTbZ",
        "colab": {
          "base_uri": "https://localhost:8080/",
          "height": 197
        },
        "outputId": "470ce518-0339-4289-b7e9-a1ec24caabb3"
      },
      "source": [
        "ratings.head()"
      ],
      "execution_count": null,
      "outputs": [
        {
          "output_type": "execute_result",
          "data": {
            "text/html": [
              "<div>\n",
              "<style scoped>\n",
              "    .dataframe tbody tr th:only-of-type {\n",
              "        vertical-align: middle;\n",
              "    }\n",
              "\n",
              "    .dataframe tbody tr th {\n",
              "        vertical-align: top;\n",
              "    }\n",
              "\n",
              "    .dataframe thead th {\n",
              "        text-align: right;\n",
              "    }\n",
              "</style>\n",
              "<table border=\"1\" class=\"dataframe\">\n",
              "  <thead>\n",
              "    <tr style=\"text-align: right;\">\n",
              "      <th></th>\n",
              "      <th>book_id</th>\n",
              "      <th>user_id</th>\n",
              "      <th>rating</th>\n",
              "    </tr>\n",
              "  </thead>\n",
              "  <tbody>\n",
              "    <tr>\n",
              "      <th>0</th>\n",
              "      <td>1</td>\n",
              "      <td>314</td>\n",
              "      <td>5</td>\n",
              "    </tr>\n",
              "    <tr>\n",
              "      <th>1</th>\n",
              "      <td>1</td>\n",
              "      <td>439</td>\n",
              "      <td>3</td>\n",
              "    </tr>\n",
              "    <tr>\n",
              "      <th>2</th>\n",
              "      <td>1</td>\n",
              "      <td>588</td>\n",
              "      <td>5</td>\n",
              "    </tr>\n",
              "    <tr>\n",
              "      <th>3</th>\n",
              "      <td>1</td>\n",
              "      <td>1169</td>\n",
              "      <td>4</td>\n",
              "    </tr>\n",
              "    <tr>\n",
              "      <th>4</th>\n",
              "      <td>1</td>\n",
              "      <td>1185</td>\n",
              "      <td>4</td>\n",
              "    </tr>\n",
              "  </tbody>\n",
              "</table>\n",
              "</div>"
            ],
            "text/plain": [
              "   book_id  user_id  rating\n",
              "0        1      314       5\n",
              "1        1      439       3\n",
              "2        1      588       5\n",
              "3        1     1169       4\n",
              "4        1     1185       4"
            ]
          },
          "metadata": {
            "tags": []
          },
          "execution_count": 180
        }
      ]
    },
    {
      "cell_type": "code",
      "metadata": {
        "id": "7EviK6cQgTbd",
        "colab": {
          "base_uri": "https://localhost:8080/"
        },
        "outputId": "e258be09-7abe-4e0f-e762-dfbb9055e0e2"
      },
      "source": [
        "print('There are {} ratings.'.format(ratings.shape[0]))"
      ],
      "execution_count": null,
      "outputs": [
        {
          "output_type": "stream",
          "text": [
            "There are 981756 ratings.\n"
          ],
          "name": "stdout"
        }
      ]
    },
    {
      "cell_type": "code",
      "metadata": {
        "id": "dpmH_dDSgTbg",
        "colab": {
          "base_uri": "https://localhost:8080/"
        },
        "outputId": "55f76d5a-af55-4435-f3c4-023673c1542e"
      },
      "source": [
        "print('Number of users is {}'.format(len(ratings.user_id.unique())))"
      ],
      "execution_count": null,
      "outputs": [
        {
          "output_type": "stream",
          "text": [
            "Number of users is 53424\n"
          ],
          "name": "stdout"
        }
      ]
    },
    {
      "cell_type": "markdown",
      "metadata": {
        "id": "hs4Qoe7BgTbj"
      },
      "source": [
        "### Remove Duplicates Ratings<a id=\"25\"></a> <br>"
      ]
    },
    {
      "cell_type": "code",
      "metadata": {
        "id": "ujGUiEJSgTbk",
        "colab": {
          "base_uri": "https://localhost:8080/",
          "height": 406
        },
        "outputId": "6851e915-cd88-409e-c289-8a1a9c7c2c2c"
      },
      "source": [
        "ratings[ratings.duplicated()==True]"
      ],
      "execution_count": null,
      "outputs": [
        {
          "output_type": "execute_result",
          "data": {
            "text/html": [
              "<div>\n",
              "<style scoped>\n",
              "    .dataframe tbody tr th:only-of-type {\n",
              "        vertical-align: middle;\n",
              "    }\n",
              "\n",
              "    .dataframe tbody tr th {\n",
              "        vertical-align: top;\n",
              "    }\n",
              "\n",
              "    .dataframe thead th {\n",
              "        text-align: right;\n",
              "    }\n",
              "</style>\n",
              "<table border=\"1\" class=\"dataframe\">\n",
              "  <thead>\n",
              "    <tr style=\"text-align: right;\">\n",
              "      <th></th>\n",
              "      <th>book_id</th>\n",
              "      <th>user_id</th>\n",
              "      <th>rating</th>\n",
              "    </tr>\n",
              "  </thead>\n",
              "  <tbody>\n",
              "    <tr>\n",
              "      <th>1171</th>\n",
              "      <td>12</td>\n",
              "      <td>40251</td>\n",
              "      <td>4</td>\n",
              "    </tr>\n",
              "    <tr>\n",
              "      <th>2474</th>\n",
              "      <td>25</td>\n",
              "      <td>32635</td>\n",
              "      <td>5</td>\n",
              "    </tr>\n",
              "    <tr>\n",
              "      <th>2959</th>\n",
              "      <td>30</td>\n",
              "      <td>31760</td>\n",
              "      <td>4</td>\n",
              "    </tr>\n",
              "    <tr>\n",
              "      <th>3020</th>\n",
              "      <td>31</td>\n",
              "      <td>8669</td>\n",
              "      <td>5</td>\n",
              "    </tr>\n",
              "    <tr>\n",
              "      <th>3334</th>\n",
              "      <td>34</td>\n",
              "      <td>26097</td>\n",
              "      <td>1</td>\n",
              "    </tr>\n",
              "    <tr>\n",
              "      <th>...</th>\n",
              "      <td>...</td>\n",
              "      <td>...</td>\n",
              "      <td>...</td>\n",
              "    </tr>\n",
              "    <tr>\n",
              "      <th>979373</th>\n",
              "      <td>9975</td>\n",
              "      <td>3133</td>\n",
              "      <td>3</td>\n",
              "    </tr>\n",
              "    <tr>\n",
              "      <th>980520</th>\n",
              "      <td>9988</td>\n",
              "      <td>907</td>\n",
              "      <td>4</td>\n",
              "    </tr>\n",
              "    <tr>\n",
              "      <th>981044</th>\n",
              "      <td>9993</td>\n",
              "      <td>33994</td>\n",
              "      <td>4</td>\n",
              "    </tr>\n",
              "    <tr>\n",
              "      <th>981257</th>\n",
              "      <td>9995</td>\n",
              "      <td>28898</td>\n",
              "      <td>2</td>\n",
              "    </tr>\n",
              "    <tr>\n",
              "      <th>981369</th>\n",
              "      <td>9996</td>\n",
              "      <td>48576</td>\n",
              "      <td>5</td>\n",
              "    </tr>\n",
              "  </tbody>\n",
              "</table>\n",
              "<p>1644 rows × 3 columns</p>\n",
              "</div>"
            ],
            "text/plain": [
              "        book_id  user_id  rating\n",
              "1171         12    40251       4\n",
              "2474         25    32635       5\n",
              "2959         30    31760       4\n",
              "3020         31     8669       5\n",
              "3334         34    26097       1\n",
              "...         ...      ...     ...\n",
              "979373     9975     3133       3\n",
              "980520     9988      907       4\n",
              "981044     9993    33994       4\n",
              "981257     9995    28898       2\n",
              "981369     9996    48576       5\n",
              "\n",
              "[1644 rows x 3 columns]"
            ]
          },
          "metadata": {
            "tags": []
          },
          "execution_count": 183
        }
      ]
    },
    {
      "cell_type": "code",
      "metadata": {
        "id": "NFKKOncXgTbn",
        "colab": {
          "base_uri": "https://localhost:8080/",
          "height": 227
        },
        "outputId": "bf9b1940-1ced-473a-f945-3e42fb5bbcfe"
      },
      "source": [
        "ratings[ratings.duplicated(keep=False)==True].head(6)"
      ],
      "execution_count": null,
      "outputs": [
        {
          "output_type": "execute_result",
          "data": {
            "text/html": [
              "<div>\n",
              "<style scoped>\n",
              "    .dataframe tbody tr th:only-of-type {\n",
              "        vertical-align: middle;\n",
              "    }\n",
              "\n",
              "    .dataframe tbody tr th {\n",
              "        vertical-align: top;\n",
              "    }\n",
              "\n",
              "    .dataframe thead th {\n",
              "        text-align: right;\n",
              "    }\n",
              "</style>\n",
              "<table border=\"1\" class=\"dataframe\">\n",
              "  <thead>\n",
              "    <tr style=\"text-align: right;\">\n",
              "      <th></th>\n",
              "      <th>book_id</th>\n",
              "      <th>user_id</th>\n",
              "      <th>rating</th>\n",
              "    </tr>\n",
              "  </thead>\n",
              "  <tbody>\n",
              "    <tr>\n",
              "      <th>1170</th>\n",
              "      <td>12</td>\n",
              "      <td>40251</td>\n",
              "      <td>4</td>\n",
              "    </tr>\n",
              "    <tr>\n",
              "      <th>1171</th>\n",
              "      <td>12</td>\n",
              "      <td>40251</td>\n",
              "      <td>4</td>\n",
              "    </tr>\n",
              "    <tr>\n",
              "      <th>2473</th>\n",
              "      <td>25</td>\n",
              "      <td>32635</td>\n",
              "      <td>5</td>\n",
              "    </tr>\n",
              "    <tr>\n",
              "      <th>2474</th>\n",
              "      <td>25</td>\n",
              "      <td>32635</td>\n",
              "      <td>5</td>\n",
              "    </tr>\n",
              "    <tr>\n",
              "      <th>2958</th>\n",
              "      <td>30</td>\n",
              "      <td>31760</td>\n",
              "      <td>4</td>\n",
              "    </tr>\n",
              "    <tr>\n",
              "      <th>2959</th>\n",
              "      <td>30</td>\n",
              "      <td>31760</td>\n",
              "      <td>4</td>\n",
              "    </tr>\n",
              "  </tbody>\n",
              "</table>\n",
              "</div>"
            ],
            "text/plain": [
              "      book_id  user_id  rating\n",
              "1170       12    40251       4\n",
              "1171       12    40251       4\n",
              "2473       25    32635       5\n",
              "2474       25    32635       5\n",
              "2958       30    31760       4\n",
              "2959       30    31760       4"
            ]
          },
          "metadata": {
            "tags": []
          },
          "execution_count": 184
        }
      ]
    },
    {
      "cell_type": "code",
      "metadata": {
        "id": "GfiojX_VgTbq",
        "colab": {
          "base_uri": "https://localhost:8080/"
        },
        "outputId": "840b5574-c4f2-4df6-e410-bd643565974a"
      },
      "source": [
        "ratings_rmv_duplicates = ratings.drop_duplicates()\n",
        "ratings_rmv_duplicates.shape"
      ],
      "execution_count": null,
      "outputs": [
        {
          "output_type": "execute_result",
          "data": {
            "text/plain": [
              "(980112, 3)"
            ]
          },
          "metadata": {
            "tags": []
          },
          "execution_count": 185
        }
      ]
    },
    {
      "cell_type": "markdown",
      "metadata": {
        "id": "91KmKqxMoOek"
      },
      "source": [
        "To reduce calculation times, I select only a subset of users. (e.g., 20%)"
      ]
    },
    {
      "cell_type": "code",
      "metadata": {
        "id": "wnocrCCygTbv",
        "colab": {
          "base_uri": "https://localhost:8080/"
        },
        "outputId": "e954ae68-554e-4ed6-cf5d-f067431e68bf"
      },
      "source": [
        "ratings_sample = ratings_rmv_duplicates.sample(frac=0.2)\n",
        "ratings_sample.shape"
      ],
      "execution_count": null,
      "outputs": [
        {
          "output_type": "execute_result",
          "data": {
            "text/plain": [
              "(196022, 3)"
            ]
          },
          "metadata": {
            "tags": []
          },
          "execution_count": 186
        }
      ]
    },
    {
      "cell_type": "markdown",
      "metadata": {
        "id": "GBXaYiH4gTbx"
      },
      "source": [
        "### - What is the distribution of the ratings?<a id=\"26\"></a> <br>"
      ]
    },
    {
      "cell_type": "code",
      "metadata": {
        "id": "Jg_41nsZgTbz",
        "colab": {
          "base_uri": "https://localhost:8080/",
          "height": 496
        },
        "outputId": "52fea91c-5a64-4dd1-e703-553aff40d7bf"
      },
      "source": [
        "plt.figure(figsize=(12,8))\n",
        "sns.countplot(x='rating', data=ratings_sample);"
      ],
      "execution_count": null,
      "outputs": [
        {
          "output_type": "display_data",
          "data": {
            "image/png": "[encoded data removed]",
            "text/plain": [
              "<Figure size 864x576 with 1 Axes>"
            ]
          },
          "metadata": {
            "tags": [],
            "needs_background": "light"
          }
        }
      ]
    },
    {
      "cell_type": "markdown",
      "metadata": {
        "id": "r43xjhpXnFtl"
      },
      "source": [
        "We see that people tend to give quite positive ratings to books. Most of the ratings are in the 3-5 range, while very few ratings are in the 1-2 range."
      ]
    },
    {
      "cell_type": "markdown",
      "metadata": {
        "id": "me8NoIKDgTb2"
      },
      "source": [
        "### - Number of ratings per user<a id=\"27\"></a> <br>"
      ]
    },
    {
      "cell_type": "code",
      "metadata": {
        "id": "Re4SVd2dgTb2",
        "colab": {
          "base_uri": "https://localhost:8080/"
        },
        "outputId": "7631b2d4-1386-48f9-eb59-245ce5a2bd41"
      },
      "source": [
        "ratings_per_user = ratings_sample.groupby('user_id')['user_id'].count()\n",
        "ratings_per_user"
      ],
      "execution_count": null,
      "outputs": [
        {
          "output_type": "execute_result",
          "data": {
            "text/plain": [
              "user_id\n",
              "3         1\n",
              "5         1\n",
              "6         1\n",
              "7        14\n",
              "9         3\n",
              "         ..\n",
              "53419     1\n",
              "53420     2\n",
              "53421     2\n",
              "53422     4\n",
              "53424     1\n",
              "Name: user_id, Length: 40373, dtype: int64"
            ]
          },
          "metadata": {
            "tags": []
          },
          "execution_count": 188
        }
      ]
    },
    {
      "cell_type": "code",
      "metadata": {
        "id": "snoK5I6cgTb5",
        "colab": {
          "base_uri": "https://localhost:8080/",
          "height": 496
        },
        "outputId": "acfc0b88-edac-44e5-a67a-b0317e211cd7"
      },
      "source": [
        "plt.figure(figsize=(12,8))\n",
        "plt.hist(ratings_per_user ,bins='auto');\n",
        "plt.grid(axis='y', alpha=0.75)\n",
        "plt.xlabel('number of ratings per user')\n",
        "plt.ylabel('count');"
      ],
      "execution_count": null,
      "outputs": [
        {
          "output_type": "display_data",
          "data": {
            "image/png": "[encoded data removed]",
            "text/plain": [
              "<Figure size 864x576 with 1 Axes>"
            ]
          },
          "metadata": {
            "tags": [],
            "needs_background": "light"
          }
        }
      ]
    },
    {
      "cell_type": "markdown",
      "metadata": {
        "id": "o6Zbcl1WnboL"
      },
      "source": [
        "We can see that there are some users with many ratings. This is interesting, because we can later examine whether frequent raters rate books differently from less frequent raters. We will come back to this later."
      ]
    },
    {
      "cell_type": "markdown",
      "metadata": {
        "id": "xvpO2EnWgTb9"
      },
      "source": [
        "### - Distribution of mean user rating<a id=\"28\"></a> <br>"
      ]
    },
    {
      "cell_type": "code",
      "metadata": {
        "id": "IxStMYFPgTb-",
        "colab": {
          "base_uri": "https://localhost:8080/"
        },
        "outputId": "e505a20c-c0f4-4d01-c62c-4a4b4559ae42"
      },
      "source": [
        "mean_rating_per_user = ratings_sample.groupby('user_id')['rating'].mean()\n",
        "mean_rating_per_user"
      ],
      "execution_count": null,
      "outputs": [
        {
          "output_type": "execute_result",
          "data": {
            "text/plain": [
              "user_id\n",
              "3        1.000000\n",
              "5        4.000000\n",
              "6        4.000000\n",
              "7        3.500000\n",
              "9        3.333333\n",
              "           ...   \n",
              "53419    4.000000\n",
              "53420    4.000000\n",
              "53421    5.000000\n",
              "53422    4.250000\n",
              "53424    4.000000\n",
              "Name: rating, Length: 40373, dtype: float64"
            ]
          },
          "metadata": {
            "tags": []
          },
          "execution_count": 190
        }
      ]
    },
    {
      "cell_type": "code",
      "metadata": {
        "id": "MUhLbVS5gTcB",
        "colab": {
          "base_uri": "https://localhost:8080/",
          "height": 496
        },
        "outputId": "a89a8995-3b93-4138-ee24-2cc03df4d590"
      },
      "source": [
        "plt.figure(figsize=(12,8))\n",
        "plt.hist(mean_rating_per_user, bins='auto');\n",
        "plt.grid(axis='y', alpha=0.75)\n",
        "plt.xlabel('mean user rating')\n",
        "plt.ylabel('count');"
      ],
      "execution_count": null,
      "outputs": [
        {
          "output_type": "display_data",
          "data": {
            "image/png": "[encoded data removed]",
            "text/plain": [
              "<Figure size 864x576 with 1 Axes>"
            ]
          },
          "metadata": {
            "tags": [],
            "needs_background": "light"
          }
        }
      ]
    },
    {
      "cell_type": "markdown",
      "metadata": {
        "id": "hR9GvNCqnynz"
      },
      "source": [
        "People have different tendencies to rate books. Some already give 5 stars to a mediocre book, while others do not give 5 stars unless it is the perfect book for them. Such tendencies can be seen in the figure above. On the right side there is a bump from users with a mean rating of 5, indicating that they really liked all books (or they only rated books they really like…). We can also see that there are nearly no notoriuous downvoters rating all books with a 1. Such tendencies are going to be important for collaborative filtering later, and are typically dealt with by subtracting the user’s mean rating from their ratings."
      ]
    },
    {
      "cell_type": "markdown",
      "metadata": {
        "id": "V4wsduYogTcF"
      },
      "source": [
        "### - Number of ratings per book<a id=\"29\"></a> <br>"
      ]
    },
    {
      "cell_type": "code",
      "metadata": {
        "id": "TBW2Q8M-gTcG",
        "colab": {
          "base_uri": "https://localhost:8080/"
        },
        "outputId": "a2d67ec9-b5cf-4088-d187-1a8c84862fe6"
      },
      "source": [
        "ratings_per_book = ratings_sample.groupby('book_id')['book_id'].count()\n",
        "ratings_per_book"
      ],
      "execution_count": null,
      "outputs": [
        {
          "output_type": "execute_result",
          "data": {
            "text/plain": [
              "book_id\n",
              "1        20\n",
              "2        23\n",
              "3        20\n",
              "4        23\n",
              "5        25\n",
              "         ..\n",
              "9996     15\n",
              "9997     20\n",
              "9998     22\n",
              "9999     20\n",
              "10000    21\n",
              "Name: book_id, Length: 9999, dtype: int64"
            ]
          },
          "metadata": {
            "tags": []
          },
          "execution_count": 192
        }
      ]
    },
    {
      "cell_type": "code",
      "metadata": {
        "id": "ihn_qnqqgTcN",
        "colab": {
          "base_uri": "https://localhost:8080/",
          "height": 496
        },
        "outputId": "166ebedc-3533-462e-ffb9-ddf4866c69bd"
      },
      "source": [
        "plt.figure(figsize=(12,8))\n",
        "plt.hist(ratings_per_book ,bins='auto');\n",
        "plt.grid(axis='y', alpha=0.75)\n",
        "plt.xlabel('number of ratings per book')\n",
        "plt.ylabel('count');"
      ],
      "execution_count": null,
      "outputs": [
        {
          "output_type": "display_data",
          "data": {
            "image/png": "[encoded data removed]",
            "text/plain": [
              "<Figure size 864x576 with 1 Axes>"
            ]
          },
          "metadata": {
            "tags": [],
            "needs_background": "light"
          }
        }
      ]
    },
    {
      "cell_type": "markdown",
      "metadata": {
        "id": "CXuBo34Kn-fp"
      },
      "source": [
        "We can see that in the subsetted dataset most books have around 18-20 ratings."
      ]
    },
    {
      "cell_type": "markdown",
      "metadata": {
        "id": "vKn9bFDegTcQ"
      },
      "source": [
        "### - Distribution of mean book ratings<a id=\"30\"></a> <br>"
      ]
    },
    {
      "cell_type": "code",
      "metadata": {
        "id": "bPxLT_0NgTcQ",
        "colab": {
          "base_uri": "https://localhost:8080/"
        },
        "outputId": "f5fdfc23-ffc8-40a9-ef63-d3805ea40ecd"
      },
      "source": [
        "mean_rating_per_book = ratings_sample.groupby('book_id')['rating'].mean()\n",
        "mean_rating_per_book"
      ],
      "execution_count": null,
      "outputs": [
        {
          "output_type": "execute_result",
          "data": {
            "text/plain": [
              "book_id\n",
              "1        4.100000\n",
              "2        4.260870\n",
              "3        3.100000\n",
              "4        4.521739\n",
              "5        3.880000\n",
              "           ...   \n",
              "9996     3.933333\n",
              "9997     4.500000\n",
              "9998     4.500000\n",
              "9999     3.950000\n",
              "10000    4.285714\n",
              "Name: rating, Length: 9999, dtype: float64"
            ]
          },
          "metadata": {
            "tags": []
          },
          "execution_count": 194
        }
      ]
    },
    {
      "cell_type": "code",
      "metadata": {
        "id": "fwZwXeKFgTcT",
        "colab": {
          "base_uri": "https://localhost:8080/"
        },
        "outputId": "39fed78e-b1db-45e6-d201-e315d373c2e8"
      },
      "source": [
        "plt.figure(figsize=(12,8))\n",
        "plt.hist(mean_rating_per_book, bins='auto');\n",
        "plt.grid(axis='y', alpha=0.75)\n",
        "plt.xlabel('mean book rating')\n",
        "plt.ylabel('count');"
      ],
      "execution_count": null,
      "outputs": [
        {
          "output_type": "display_data",
          "data": {
            "image/png": "[encoded data removed]",
            "text/plain": [
              "<Figure size 864x576 with 1 Axes>"
            ]
          },
          "metadata": {
            "tags": [],
            "needs_background": "light"
          }
        }
      ]
    },
    {
      "cell_type": "markdown",
      "metadata": {
        "id": "rdCKOYfzofjg"
      },
      "source": [
        "Mean book ratings don’t reveal any peculiarities."
      ]
    },
    {
      "cell_type": "markdown",
      "metadata": {
        "id": "cDDlvqFzhrzC"
      },
      "source": [
        "---"
      ]
    },
    {
      "cell_type": "markdown",
      "metadata": {
        "id": "aIsnhkoGgTcW"
      },
      "source": [
        "## *Tags*<a id=\"31\"></a> <br>\n"
      ]
    },
    {
      "cell_type": "code",
      "metadata": {
        "id": "8WYtSGhcgTcY",
        "colab": {
          "base_uri": "https://localhost:8080/",
          "height": 197
        },
        "outputId": "815685ee-ecce-438e-b169-f185edd8f094"
      },
      "source": [
        "tags.head()"
      ],
      "execution_count": null,
      "outputs": [
        {
          "output_type": "execute_result",
          "data": {
            "text/html": [
              "<div>\n",
              "<style scoped>\n",
              "    .dataframe tbody tr th:only-of-type {\n",
              "        vertical-align: middle;\n",
              "    }\n",
              "\n",
              "    .dataframe tbody tr th {\n",
              "        vertical-align: top;\n",
              "    }\n",
              "\n",
              "    .dataframe thead th {\n",
              "        text-align: right;\n",
              "    }\n",
              "</style>\n",
              "<table border=\"1\" class=\"dataframe\">\n",
              "  <thead>\n",
              "    <tr style=\"text-align: right;\">\n",
              "      <th></th>\n",
              "      <th>tag_id</th>\n",
              "      <th>tag_name</th>\n",
              "    </tr>\n",
              "  </thead>\n",
              "  <tbody>\n",
              "    <tr>\n",
              "      <th>0</th>\n",
              "      <td>0</td>\n",
              "      <td>-</td>\n",
              "    </tr>\n",
              "    <tr>\n",
              "      <th>1</th>\n",
              "      <td>1</td>\n",
              "      <td>--1-</td>\n",
              "    </tr>\n",
              "    <tr>\n",
              "      <th>2</th>\n",
              "      <td>2</td>\n",
              "      <td>--10-</td>\n",
              "    </tr>\n",
              "    <tr>\n",
              "      <th>3</th>\n",
              "      <td>3</td>\n",
              "      <td>--12-</td>\n",
              "    </tr>\n",
              "    <tr>\n",
              "      <th>4</th>\n",
              "      <td>4</td>\n",
              "      <td>--122-</td>\n",
              "    </tr>\n",
              "  </tbody>\n",
              "</table>\n",
              "</div>"
            ],
            "text/plain": [
              "   tag_id tag_name\n",
              "0       0        -\n",
              "1       1     --1-\n",
              "2       2    --10-\n",
              "3       3    --12-\n",
              "4       4   --122-"
            ]
          },
          "metadata": {
            "tags": []
          },
          "execution_count": 196
        }
      ]
    },
    {
      "cell_type": "code",
      "metadata": {
        "id": "IrCsVbTbgTcb",
        "colab": {
          "base_uri": "https://localhost:8080/"
        },
        "outputId": "1023cc0a-69c6-4ebb-cbcf-aed77d57a20c"
      },
      "source": [
        "tags.shape"
      ],
      "execution_count": null,
      "outputs": [
        {
          "output_type": "execute_result",
          "data": {
            "text/plain": [
              "(34252, 2)"
            ]
          },
          "metadata": {
            "tags": []
          },
          "execution_count": 197
        }
      ]
    },
    {
      "cell_type": "code",
      "metadata": {
        "id": "96P9x1SzgTcf",
        "colab": {
          "base_uri": "https://localhost:8080/",
          "height": 197
        },
        "outputId": "612efb4d-01b1-4ae3-c879-fb3684afc0c3"
      },
      "source": [
        "book_tags.head()"
      ],
      "execution_count": null,
      "outputs": [
        {
          "output_type": "execute_result",
          "data": {
            "text/html": [
              "<div>\n",
              "<style scoped>\n",
              "    .dataframe tbody tr th:only-of-type {\n",
              "        vertical-align: middle;\n",
              "    }\n",
              "\n",
              "    .dataframe tbody tr th {\n",
              "        vertical-align: top;\n",
              "    }\n",
              "\n",
              "    .dataframe thead th {\n",
              "        text-align: right;\n",
              "    }\n",
              "</style>\n",
              "<table border=\"1\" class=\"dataframe\">\n",
              "  <thead>\n",
              "    <tr style=\"text-align: right;\">\n",
              "      <th></th>\n",
              "      <th>goodreads_book_id</th>\n",
              "      <th>tag_id</th>\n",
              "      <th>count</th>\n",
              "    </tr>\n",
              "  </thead>\n",
              "  <tbody>\n",
              "    <tr>\n",
              "      <th>0</th>\n",
              "      <td>1</td>\n",
              "      <td>30574</td>\n",
              "      <td>167697</td>\n",
              "    </tr>\n",
              "    <tr>\n",
              "      <th>1</th>\n",
              "      <td>1</td>\n",
              "      <td>11305</td>\n",
              "      <td>37174</td>\n",
              "    </tr>\n",
              "    <tr>\n",
              "      <th>2</th>\n",
              "      <td>1</td>\n",
              "      <td>11557</td>\n",
              "      <td>34173</td>\n",
              "    </tr>\n",
              "    <tr>\n",
              "      <th>3</th>\n",
              "      <td>1</td>\n",
              "      <td>8717</td>\n",
              "      <td>12986</td>\n",
              "    </tr>\n",
              "    <tr>\n",
              "      <th>4</th>\n",
              "      <td>1</td>\n",
              "      <td>33114</td>\n",
              "      <td>12716</td>\n",
              "    </tr>\n",
              "  </tbody>\n",
              "</table>\n",
              "</div>"
            ],
            "text/plain": [
              "   goodreads_book_id  tag_id   count\n",
              "0                  1   30574  167697\n",
              "1                  1   11305   37174\n",
              "2                  1   11557   34173\n",
              "3                  1    8717   12986\n",
              "4                  1   33114   12716"
            ]
          },
          "metadata": {
            "tags": []
          },
          "execution_count": 198
        }
      ]
    },
    {
      "cell_type": "code",
      "metadata": {
        "id": "yPsvdcu7gTci",
        "colab": {
          "base_uri": "https://localhost:8080/"
        },
        "outputId": "07cfd391-b86a-4d18-ed9b-77db15243aea"
      },
      "source": [
        "book_tags.shape"
      ],
      "execution_count": null,
      "outputs": [
        {
          "output_type": "execute_result",
          "data": {
            "text/plain": [
              "(999912, 3)"
            ]
          },
          "metadata": {
            "tags": []
          },
          "execution_count": 199
        }
      ]
    },
    {
      "cell_type": "code",
      "metadata": {
        "id": "YUTgPWB1gTcl"
      },
      "source": [
        "genres = [\"Art\", \"Biography\", \"Business\", \"Chick Lit\", \"Children's\", \"Christian\", \"Classics\",\n",
        "          \"Comics\", \"Contemporary\", \"Cookbooks\", \"Crime\", \"Ebooks\", \"Fantasy\", \"Fiction\",\n",
        "          \"Gay and Lesbian\", \"Graphic Novels\", \"Historical Fiction\", \"History\", \"Horror\",\n",
        "          \"Humor and Comedy\", \"Manga\", \"Memoir\", \"Music\", \"Mystery\", \"Nonfiction\", \"Paranormal\",\n",
        "          \"Philosophy\", \"Poetry\", \"Psychology\", \"Religion\", \"Romance\", \"Science\", \"Science Fiction\", \n",
        "          \"Self Help\", \"Suspense\", \"Spirituality\", \"Sports\", \"Thriller\", \"Travel\", \"Young Adult\"]"
      ],
      "execution_count": null,
      "outputs": []
    },
    {
      "cell_type": "code",
      "metadata": {
        "id": "zPmP-pGJgTcp",
        "colab": {
          "base_uri": "https://localhost:8080/"
        },
        "outputId": "767db1d0-a011-4de5-d708-1edd9dcd2e66"
      },
      "source": [
        "genres = list(map(str.lower, genres))\n",
        "genres[:4]"
      ],
      "execution_count": null,
      "outputs": [
        {
          "output_type": "execute_result",
          "data": {
            "text/plain": [
              "['art', 'biography', 'business', 'chick lit']"
            ]
          },
          "metadata": {
            "tags": []
          },
          "execution_count": 201
        }
      ]
    },
    {
      "cell_type": "code",
      "metadata": {
        "id": "OUvQc3-wgTcs"
      },
      "source": [
        "available_genres = tags.loc[tags.tag_name.str.lower().isin(genres)]"
      ],
      "execution_count": null,
      "outputs": []
    },
    {
      "cell_type": "code",
      "metadata": {
        "id": "byfb09NEgTcv",
        "colab": {
          "base_uri": "https://localhost:8080/"
        },
        "outputId": "caffb06c-456a-4d86-8449-b79e36fd1f23"
      },
      "source": [
        "print('Number of available tags is {} out of the {} tags in genres list'.format(available_genres.shape[0], len(genres)))"
      ],
      "execution_count": null,
      "outputs": [
        {
          "output_type": "stream",
          "text": [
            "Number of available tags is 31 out of the 40 tags in genres list\n"
          ],
          "name": "stdout"
        }
      ]
    },
    {
      "cell_type": "code",
      "metadata": {
        "id": "3jD6MQcTgTdF",
        "colab": {
          "base_uri": "https://localhost:8080/"
        },
        "outputId": "a791cc8a-3c1a-4494-b595-bd256d6c9ff2"
      },
      "source": [
        "available_books_with_genres = book_tags[book_tags.tag_id.isin(available_genres.tag_id)]\n",
        "available_books_with_genres.shape"
      ],
      "execution_count": null,
      "outputs": [
        {
          "output_type": "execute_result",
          "data": {
            "text/plain": [
              "(60573, 3)"
            ]
          },
          "metadata": {
            "tags": []
          },
          "execution_count": 204
        }
      ]
    },
    {
      "cell_type": "code",
      "metadata": {
        "id": "COic9EdygTdH",
        "colab": {
          "base_uri": "https://localhost:8080/",
          "height": 227
        },
        "outputId": "b993f714-4f0e-40f2-9261-0d05df5af258"
      },
      "source": [
        "tag_counts = pd.DataFrame(available_books_with_genres.groupby('tag_id')['count'].sum())\n",
        "tag_counts.head()"
      ],
      "execution_count": null,
      "outputs": [
        {
          "output_type": "execute_result",
          "data": {
            "text/html": [
              "<div>\n",
              "<style scoped>\n",
              "    .dataframe tbody tr th:only-of-type {\n",
              "        vertical-align: middle;\n",
              "    }\n",
              "\n",
              "    .dataframe tbody tr th {\n",
              "        vertical-align: top;\n",
              "    }\n",
              "\n",
              "    .dataframe thead th {\n",
              "        text-align: right;\n",
              "    }\n",
              "</style>\n",
              "<table border=\"1\" class=\"dataframe\">\n",
              "  <thead>\n",
              "    <tr style=\"text-align: right;\">\n",
              "      <th></th>\n",
              "      <th>count</th>\n",
              "    </tr>\n",
              "    <tr>\n",
              "      <th>tag_id</th>\n",
              "      <th></th>\n",
              "    </tr>\n",
              "  </thead>\n",
              "  <tbody>\n",
              "    <tr>\n",
              "      <th>2938</th>\n",
              "      <td>30262</td>\n",
              "    </tr>\n",
              "    <tr>\n",
              "      <th>4605</th>\n",
              "      <td>172444</td>\n",
              "    </tr>\n",
              "    <tr>\n",
              "      <th>5951</th>\n",
              "      <td>73249</td>\n",
              "    </tr>\n",
              "    <tr>\n",
              "      <th>7077</th>\n",
              "      <td>53864</td>\n",
              "    </tr>\n",
              "    <tr>\n",
              "      <th>7457</th>\n",
              "      <td>1756920</td>\n",
              "    </tr>\n",
              "  </tbody>\n",
              "</table>\n",
              "</div>"
            ],
            "text/plain": [
              "          count\n",
              "tag_id         \n",
              "2938      30262\n",
              "4605     172444\n",
              "5951      73249\n",
              "7077      53864\n",
              "7457    1756920"
            ]
          },
          "metadata": {
            "tags": []
          },
          "execution_count": 205
        }
      ]
    },
    {
      "cell_type": "code",
      "metadata": {
        "id": "0am9cKMfgTdJ",
        "colab": {
          "base_uri": "https://localhost:8080/",
          "height": 227
        },
        "outputId": "267a2ad8-7e9e-43e9-db45-44631ca826b1"
      },
      "source": [
        "tag_counts.set_index(available_genres.tag_name, inplace=True)\n",
        "tag_counts.head()"
      ],
      "execution_count": null,
      "outputs": [
        {
          "output_type": "execute_result",
          "data": {
            "text/html": [
              "<div>\n",
              "<style scoped>\n",
              "    .dataframe tbody tr th:only-of-type {\n",
              "        vertical-align: middle;\n",
              "    }\n",
              "\n",
              "    .dataframe tbody tr th {\n",
              "        vertical-align: top;\n",
              "    }\n",
              "\n",
              "    .dataframe thead th {\n",
              "        text-align: right;\n",
              "    }\n",
              "</style>\n",
              "<table border=\"1\" class=\"dataframe\">\n",
              "  <thead>\n",
              "    <tr style=\"text-align: right;\">\n",
              "      <th></th>\n",
              "      <th>count</th>\n",
              "    </tr>\n",
              "    <tr>\n",
              "      <th>tag_name</th>\n",
              "      <th></th>\n",
              "    </tr>\n",
              "  </thead>\n",
              "  <tbody>\n",
              "    <tr>\n",
              "      <th>art</th>\n",
              "      <td>30262</td>\n",
              "    </tr>\n",
              "    <tr>\n",
              "      <th>biography</th>\n",
              "      <td>172444</td>\n",
              "    </tr>\n",
              "    <tr>\n",
              "      <th>business</th>\n",
              "      <td>73249</td>\n",
              "    </tr>\n",
              "    <tr>\n",
              "      <th>christian</th>\n",
              "      <td>53864</td>\n",
              "    </tr>\n",
              "    <tr>\n",
              "      <th>classics</th>\n",
              "      <td>1756920</td>\n",
              "    </tr>\n",
              "  </tbody>\n",
              "</table>\n",
              "</div>"
            ],
            "text/plain": [
              "             count\n",
              "tag_name          \n",
              "art          30262\n",
              "biography   172444\n",
              "business     73249\n",
              "christian    53864\n",
              "classics   1756920"
            ]
          },
          "metadata": {
            "tags": []
          },
          "execution_count": 206
        }
      ]
    },
    {
      "cell_type": "code",
      "metadata": {
        "id": "q-1eJaf2gTdM",
        "colab": {
          "base_uri": "https://localhost:8080/",
          "height": 227
        },
        "outputId": "e3eed630-ca80-45e9-91c4-d3c6fb7b1cb6"
      },
      "source": [
        "tag_counts.sort_values('count', ascending=False, inplace=True)\n",
        "tag_counts.head()"
      ],
      "execution_count": null,
      "outputs": [
        {
          "output_type": "execute_result",
          "data": {
            "text/html": [
              "<div>\n",
              "<style scoped>\n",
              "    .dataframe tbody tr th:only-of-type {\n",
              "        vertical-align: middle;\n",
              "    }\n",
              "\n",
              "    .dataframe tbody tr th {\n",
              "        vertical-align: top;\n",
              "    }\n",
              "\n",
              "    .dataframe thead th {\n",
              "        text-align: right;\n",
              "    }\n",
              "</style>\n",
              "<table border=\"1\" class=\"dataframe\">\n",
              "  <thead>\n",
              "    <tr style=\"text-align: right;\">\n",
              "      <th></th>\n",
              "      <th>count</th>\n",
              "    </tr>\n",
              "    <tr>\n",
              "      <th>tag_name</th>\n",
              "      <th></th>\n",
              "    </tr>\n",
              "  </thead>\n",
              "  <tbody>\n",
              "    <tr>\n",
              "      <th>fiction</th>\n",
              "      <td>3688819</td>\n",
              "    </tr>\n",
              "    <tr>\n",
              "      <th>fantasy</th>\n",
              "      <td>3548157</td>\n",
              "    </tr>\n",
              "    <tr>\n",
              "      <th>classics</th>\n",
              "      <td>1756920</td>\n",
              "    </tr>\n",
              "    <tr>\n",
              "      <th>romance</th>\n",
              "      <td>1231926</td>\n",
              "    </tr>\n",
              "    <tr>\n",
              "      <th>mystery</th>\n",
              "      <td>872282</td>\n",
              "    </tr>\n",
              "  </tbody>\n",
              "</table>\n",
              "</div>"
            ],
            "text/plain": [
              "            count\n",
              "tag_name         \n",
              "fiction   3688819\n",
              "fantasy   3548157\n",
              "classics  1756920\n",
              "romance   1231926\n",
              "mystery    872282"
            ]
          },
          "metadata": {
            "tags": []
          },
          "execution_count": 207
        }
      ]
    },
    {
      "cell_type": "code",
      "metadata": {
        "id": "X872SoZAgTdP",
        "colab": {
          "base_uri": "https://localhost:8080/",
          "height": 496
        },
        "outputId": "04961fe1-5b8a-48e7-ad3f-c778fd6c66f7"
      },
      "source": [
        "plt.figure(figsize=(12,8))\n",
        "sns.barplot(x='count', y=tag_counts.index, data=tag_counts, orient='h');"
      ],
      "execution_count": null,
      "outputs": [
        {
          "output_type": "display_data",
          "data": {
            "image/png": "[encoded data removed]",
            "text/plain": [
              "<Figure size 864x576 with 1 Axes>"
            ]
          },
          "metadata": {
            "tags": [],
            "needs_background": "light"
          }
        }
      ]
    },
    {
      "cell_type": "markdown",
      "metadata": {
        "id": "cvIOQpHBo6-Q"
      },
      "source": [
        "We see that most books are “Fantasy”, “Romance”, or “Mistery” books, while there are not very many “Cookbooks” in the database."
      ]
    },
    {
      "cell_type": "markdown",
      "metadata": {
        "id": "iNVwq6OogTdS"
      },
      "source": [
        "### What influences a book’s rating?<a id=\"32\"></a> <br>"
      ]
    },
    {
      "cell_type": "markdown",
      "metadata": {
        "id": "LdASAUNWgTdT"
      },
      "source": [
        "#### Correlation"
      ]
    },
    {
      "cell_type": "code",
      "metadata": {
        "id": "Px2JWMwggTdT"
      },
      "source": [
        "cols = ['books_count','original_publication_year','average_rating','ratings_count','work_ratings_count','work_text_reviews_count']"
      ],
      "execution_count": null,
      "outputs": []
    },
    {
      "cell_type": "code",
      "metadata": {
        "id": "8uaFBKgigTdV",
        "colab": {
          "base_uri": "https://localhost:8080/",
          "height": 227
        },
        "outputId": "a781deea-a163-4bfd-ea16-a173addadbd4"
      },
      "source": [
        "corr = books[cols].corr()\n",
        "corr"
      ],
      "execution_count": null,
      "outputs": [
        {
          "output_type": "execute_result",
          "data": {
            "text/html": [
              "<div>\n",
              "<style scoped>\n",
              "    .dataframe tbody tr th:only-of-type {\n",
              "        vertical-align: middle;\n",
              "    }\n",
              "\n",
              "    .dataframe tbody tr th {\n",
              "        vertical-align: top;\n",
              "    }\n",
              "\n",
              "    .dataframe thead th {\n",
              "        text-align: right;\n",
              "    }\n",
              "</style>\n",
              "<table border=\"1\" class=\"dataframe\">\n",
              "  <thead>\n",
              "    <tr style=\"text-align: right;\">\n",
              "      <th></th>\n",
              "      <th>books_count</th>\n",
              "      <th>original_publication_year</th>\n",
              "      <th>average_rating</th>\n",
              "      <th>ratings_count</th>\n",
              "      <th>work_ratings_count</th>\n",
              "      <th>work_text_reviews_count</th>\n",
              "    </tr>\n",
              "  </thead>\n",
              "  <tbody>\n",
              "    <tr>\n",
              "      <th>books_count</th>\n",
              "      <td>1.000000</td>\n",
              "      <td>-0.319824</td>\n",
              "      <td>-0.070328</td>\n",
              "      <td>0.332126</td>\n",
              "      <td>0.340896</td>\n",
              "      <td>0.200937</td>\n",
              "    </tr>\n",
              "    <tr>\n",
              "      <th>original_publication_year</th>\n",
              "      <td>-0.319824</td>\n",
              "      <td>1.000000</td>\n",
              "      <td>0.019832</td>\n",
              "      <td>-0.023279</td>\n",
              "      <td>-0.024258</td>\n",
              "      <td>0.028372</td>\n",
              "    </tr>\n",
              "    <tr>\n",
              "      <th>average_rating</th>\n",
              "      <td>-0.070328</td>\n",
              "      <td>0.019832</td>\n",
              "      <td>1.000000</td>\n",
              "      <td>0.053536</td>\n",
              "      <td>0.053795</td>\n",
              "      <td>0.013040</td>\n",
              "    </tr>\n",
              "    <tr>\n",
              "      <th>ratings_count</th>\n",
              "      <td>0.332126</td>\n",
              "      <td>-0.023279</td>\n",
              "      <td>0.053536</td>\n",
              "      <td>1.000000</td>\n",
              "      <td>0.995099</td>\n",
              "      <td>0.783875</td>\n",
              "    </tr>\n",
              "    <tr>\n",
              "      <th>work_ratings_count</th>\n",
              "      <td>0.340896</td>\n",
              "      <td>-0.024258</td>\n",
              "      <td>0.053795</td>\n",
              "      <td>0.995099</td>\n",
              "      <td>1.000000</td>\n",
              "      <td>0.810950</td>\n",
              "    </tr>\n",
              "    <tr>\n",
              "      <th>work_text_reviews_count</th>\n",
              "      <td>0.200937</td>\n",
              "      <td>0.028372</td>\n",
              "      <td>0.013040</td>\n",
              "      <td>0.783875</td>\n",
              "      <td>0.810950</td>\n",
              "      <td>1.000000</td>\n",
              "    </tr>\n",
              "  </tbody>\n",
              "</table>\n",
              "</div>"
            ],
            "text/plain": [
              "                           books_count  ...  work_text_reviews_count\n",
              "books_count                   1.000000  ...                 0.200937\n",
              "original_publication_year    -0.319824  ...                 0.028372\n",
              "average_rating               -0.070328  ...                 0.013040\n",
              "ratings_count                 0.332126  ...                 0.783875\n",
              "work_ratings_count            0.340896  ...                 0.810950\n",
              "work_text_reviews_count       0.200937  ...                 1.000000\n",
              "\n",
              "[6 rows x 6 columns]"
            ]
          },
          "metadata": {
            "tags": []
          },
          "execution_count": 210
        }
      ]
    },
    {
      "cell_type": "code",
      "metadata": {
        "id": "Vpbg9rzagTdZ",
        "colab": {
          "base_uri": "https://localhost:8080/",
          "height": 602
        },
        "outputId": "dc15c18b-7dc1-4cc2-825d-5ff54a4f1297"
      },
      "source": [
        "plt.figure(figsize=(13,8))\n",
        "sns.heatmap(corr, vmin = -1, vmax = 1, center = 0, cmap = 'coolwarm', annot=True);"
      ],
      "execution_count": null,
      "outputs": [
        {
          "output_type": "display_data",
          "data": {
            "image/png": "[encoded data removed]",
            "text/plain": [
              "<Figure size 936x576 with 2 Axes>"
            ]
          },
          "metadata": {
            "tags": [],
            "needs_background": "light"
          }
        }
      ]
    },
    {
      "cell_type": "markdown",
      "metadata": {
        "id": "BmV314-IgTdc"
      },
      "source": [
        "#### Removing the Duplicate Top-Half"
      ]
    },
    {
      "cell_type": "code",
      "metadata": {
        "id": "1uDEIxUHgTdc",
        "colab": {
          "base_uri": "https://localhost:8080/",
          "height": 602
        },
        "outputId": "b0f2a5c6-258b-4e10-d216-c1c5614c9d8b"
      },
      "source": [
        "mask = np.zeros(corr.shape, dtype=bool)\n",
        "mask[np.triu_indices(len(mask))] = True\n",
        "\n",
        "plt.figure(figsize=(13,8))\n",
        "sns.heatmap(corr, vmin = -1, vmax = 1, center = 0, cmap = 'coolwarm', annot = True, mask = mask);"
      ],
      "execution_count": null,
      "outputs": [
        {
          "output_type": "display_data",
          "data": {
            "image/png": "[encoded data removed]",
            "text/plain": [
              "<Figure size 936x576 with 2 Axes>"
            ]
          },
          "metadata": {
            "tags": [],
            "needs_background": "light"
          }
        }
      ]
    },
    {
      "cell_type": "markdown",
      "metadata": {
        "id": "yJWGS0vEgTde"
      },
      "source": [
        "### - Is there a relationship between the number of ratings and the average rating?<a id=\"33\"></a> <br>"
      ]
    },
    {
      "cell_type": "code",
      "metadata": {
        "id": "GkLtWoZXgTdf",
        "colab": {
          "base_uri": "https://localhost:8080/",
          "height": 610
        },
        "outputId": "a9a85cc4-7c23-4dfd-d432-033694ddee7d"
      },
      "source": [
        "jp = sns.jointplot(x='ratings_count', y='average_rating', kind='reg', line_kws={'color':'cyan'}, data=books)\n",
        "jp.annotate(stats.pearsonr, fontsize=12);"
      ],
      "execution_count": null,
      "outputs": [
        {
          "output_type": "error",
          "ename": "AttributeError",
          "evalue": "ignored",
          "traceback": [
            "\u001b[0;31m---------------------------------------------------------------------------\u001b[0m",
            "\u001b[0;31mAttributeError\u001b[0m                            Traceback (most recent call last)",
            "\u001b[0;32m<ipython-input-213-2848781cc71e>\u001b[0m in \u001b[0;36m<module>\u001b[0;34m()\u001b[0m\n\u001b[1;32m      1\u001b[0m \u001b[0mjp\u001b[0m \u001b[0;34m=\u001b[0m \u001b[0msns\u001b[0m\u001b[0;34m.\u001b[0m\u001b[0mjointplot\u001b[0m\u001b[0;34m(\u001b[0m\u001b[0mx\u001b[0m\u001b[0;34m=\u001b[0m\u001b[0;34m'ratings_count'\u001b[0m\u001b[0;34m,\u001b[0m \u001b[0my\u001b[0m\u001b[0;34m=\u001b[0m\u001b[0;34m'average_rating'\u001b[0m\u001b[0;34m,\u001b[0m \u001b[0mkind\u001b[0m\u001b[0;34m=\u001b[0m\u001b[0;34m'reg'\u001b[0m\u001b[0;34m,\u001b[0m \u001b[0mline_kws\u001b[0m\u001b[0;34m=\u001b[0m\u001b[0;34m{\u001b[0m\u001b[0;34m'color'\u001b[0m\u001b[0;34m:\u001b[0m\u001b[0;34m'cyan'\u001b[0m\u001b[0;34m}\u001b[0m\u001b[0;34m,\u001b[0m \u001b[0mdata\u001b[0m\u001b[0;34m=\u001b[0m\u001b[0mbooks\u001b[0m\u001b[0;34m)\u001b[0m\u001b[0;34m\u001b[0m\u001b[0;34m\u001b[0m\u001b[0m\n\u001b[0;32m----> 2\u001b[0;31m \u001b[0mjp\u001b[0m\u001b[0;34m.\u001b[0m\u001b[0mannotate\u001b[0m\u001b[0;34m(\u001b[0m\u001b[0mstats\u001b[0m\u001b[0;34m.\u001b[0m\u001b[0mpearsonr\u001b[0m\u001b[0;34m,\u001b[0m \u001b[0mfontsize\u001b[0m\u001b[0;34m=\u001b[0m\u001b[0;36m12\u001b[0m\u001b[0;34m)\u001b[0m\u001b[0;34m;\u001b[0m\u001b[0;34m\u001b[0m\u001b[0;34m\u001b[0m\u001b[0m\n\u001b[0m",
            "\u001b[0;31mAttributeError\u001b[0m: 'JointGrid' object has no attribute 'annotate'"
          ]
        },
        {
          "output_type": "display_data",
          "data": {
            "image/png": "[encoded data removed]",
            "text/plain": [
              "<Figure size 432x432 with 3 Axes>"
            ]
          },
          "metadata": {
            "tags": [],
            "needs_background": "light"
          }
        }
      ]
    },
    {
      "cell_type": "markdown",
      "metadata": {
        "id": "mMSg5phnpWgO"
      },
      "source": [
        "Theoretically, it might be that the popularity of a book (in terms of the number of ratings it receives) is associated with the average rating it receives, such that once a book is becoming popular it gets better ratings. However, our data shows that this is true only to a very small extent. The correlation between these variables is only 0.045."
      ]
    },
    {
      "cell_type": "markdown",
      "metadata": {
        "id": "1rl5yBI0gTdi"
      },
      "source": [
        "### - Multiple editions of each book<a id=\"34\"></a> <br>"
      ]
    },
    {
      "cell_type": "code",
      "metadata": {
        "id": "_7PBZ4qVgTdj"
      },
      "source": [
        "jp = sns.jointplot(x='books_count', y='average_rating', kind='reg', line_kws={'color':'cyan'}, data=books)\n",
        "jp.annotate(stats.pearsonr, fontsize=12);"
      ],
      "execution_count": null,
      "outputs": []
    },
    {
      "cell_type": "markdown",
      "metadata": {
        "id": "N0x_NacagTdl"
      },
      "source": [
        "### - Do frequent raters rate differently?<a id=\"35\"></a> <br>"
      ]
    },
    {
      "cell_type": "code",
      "metadata": {
        "id": "W6ZSxlsdgTdm"
      },
      "source": [
        "jp = sns.jointplot(x=ratings.groupby('user_id')['user_id'].count(),\n",
        "                   y=ratings.groupby('user_id')['rating'].mean(),\n",
        "                   kind='reg', line_kws={'color':'cyan'})\n",
        "jp.annotate(stats.pearsonr, fontsize=12);\n",
        "plt.xlabel('number_of_rated_books');\n",
        "plt.ylabel('mean_rating');"
      ],
      "execution_count": null,
      "outputs": []
    },
    {
      "cell_type": "markdown",
      "metadata": {
        "id": "PiE-UfRLpvhV"
      },
      "source": [
        "It is possible, that users that rate more books (frequent raters) rate books differently from less frequent raters. The figure above explores this possibility. It seems like frequent raters tend to give lower ratings to books, maybe they are/become more critical the more they read and rate. That’s interesting."
      ]
    },
    {
      "cell_type": "markdown",
      "metadata": {
        "id": "UqJVo_spgTdo"
      },
      "source": [
        "### - Series of Books<a id=\"36\"></a> <br>"
      ]
    },
    {
      "cell_type": "markdown",
      "metadata": {
        "id": "P5okG3irqKR_"
      },
      "source": [
        "The data contains information in the title column about whether a certain book is part of a series (e.g. the Lord of the Rings trilogy)."
      ]
    },
    {
      "cell_type": "code",
      "metadata": {
        "id": "Nh6vsdVqgTdo"
      },
      "source": [
        "subtitle = 'the lord of the rings'\n",
        "books[books.title.str.lower().str.find(subtitle) > -1][['title']].values"
      ],
      "execution_count": null,
      "outputs": []
    },
    {
      "cell_type": "markdown",
      "metadata": {
        "id": "DtiZCR72gTdt"
      },
      "source": [
        "With some exploration through the data I have found some **patterns** in *titles* :\n",
        "\n",
        "```\n",
        "(Private, #1)\n",
        "(Ex-Heroes, #1)\n",
        "(Forgotten Realms: The Dark Elf Trilogy, #1; Legend of Drizzt, #1)\n",
        "(The Mortal Instruments #1-4)\n",
        "(New Tales of the Vampires)\n",
        "```"
      ]
    },
    {
      "cell_type": "markdown",
      "metadata": {
        "id": "ykKLiM-8qSfT"
      },
      "source": [
        "Below, I examine whether books which are part of a larger series receive a higher rating. In fact the more volumes are in a series, the higher the average rating is."
      ]
    },
    {
      "cell_type": "code",
      "metadata": {
        "id": "2p07BkZegTdu"
      },
      "source": [
        "book_series = books[books.title.str.contains('\\(.*[,:]') == True][['title', 'average_rating']]"
      ],
      "execution_count": null,
      "outputs": []
    },
    {
      "cell_type": "code",
      "metadata": {
        "id": "pR1Ja0DTgTdx"
      },
      "source": [
        "print('There are {} books that are in series'.format(book_series.shape[0]))"
      ],
      "execution_count": null,
      "outputs": []
    },
    {
      "cell_type": "code",
      "metadata": {
        "id": "WblpM5slgTd0"
      },
      "source": [
        "book_series.head()"
      ],
      "execution_count": null,
      "outputs": []
    },
    {
      "cell_type": "code",
      "metadata": {
        "id": "7lQij1ligTd2"
      },
      "source": [
        "series = book_series.copy()\n",
        "series['title'] = series['title'].str.findall('\\(.*[,:]').apply(lambda x: x.pop()[1:-1])"
      ],
      "execution_count": null,
      "outputs": []
    },
    {
      "cell_type": "code",
      "metadata": {
        "id": "sY47jsEvgTd4"
      },
      "source": [
        "series.head()"
      ],
      "execution_count": null,
      "outputs": []
    },
    {
      "cell_type": "code",
      "metadata": {
        "id": "XbP5gaSsgTd6"
      },
      "source": [
        "jp = sns.jointplot(x=series.groupby('title')['title'].count(),\n",
        "                   y=series.groupby('title')['average_rating'].mean(),\n",
        "                   kind='reg', line_kws={'color':'cyan'})\n",
        "jp.annotate(stats.pearsonr, fontsize=12);\n",
        "plt.xlabel('number_of_volumes_in_series');\n",
        "plt.ylabel('mean_rating');"
      ],
      "execution_count": null,
      "outputs": []
    },
    {
      "cell_type": "markdown",
      "metadata": {
        "id": "2Q1sIhI2gTd9"
      },
      "source": [
        "### - How long should a title be?<a id=\"37\"></a> <br>"
      ]
    },
    {
      "cell_type": "markdown",
      "metadata": {
        "id": "vLfcOlnFrlnU"
      },
      "source": [
        "If you are an author, one of the most important choices is the title of a book. Of course the content of the title is important. However, it might also matter how long the title is. Below I therefore plot the average rating as a function of the length of the title (in words). We can see that there is in fact some variation in average rating depending on title length. Titles with 5 or 10 words seem to have slightly higher ratings."
      ]
    },
    {
      "cell_type": "code",
      "metadata": {
        "id": "WxXwSPKigTd9"
      },
      "source": [
        "title_length = books[['title', 'average_rating']]\n",
        "title_length['length'] = title_length['title'].str.findall('\\s').apply(lambda x: len(x)+1)"
      ],
      "execution_count": null,
      "outputs": []
    },
    {
      "cell_type": "code",
      "metadata": {
        "id": "zrUmuOHxgTeA"
      },
      "source": [
        "title_length.head()"
      ],
      "execution_count": null,
      "outputs": []
    },
    {
      "cell_type": "code",
      "metadata": {
        "id": "1JukdOhPgTeD"
      },
      "source": [
        "plt.figure(figsize=(12,8))\n",
        "sns.boxplot(x='length', y='average_rating', data=title_length);\n",
        "plt.xlabel('title_length');\n",
        "plt.grid()"
      ],
      "execution_count": null,
      "outputs": []
    },
    {
      "cell_type": "markdown",
      "metadata": {
        "id": "98G2uJjggTeG"
      },
      "source": [
        "### - Does having a subtitle improve the book’s rating?<a id=\"38\"></a> <br>"
      ]
    },
    {
      "cell_type": "code",
      "metadata": {
        "id": "Tc4XwH_hgTeH"
      },
      "source": [
        "has_subtitle = books[['title', 'average_rating']]\n",
        "has_subtitle['has_subtitle'] = title_length['title'].str.contains(':', regex=False)"
      ],
      "execution_count": null,
      "outputs": []
    },
    {
      "cell_type": "code",
      "metadata": {
        "id": "-lCeUwSngTeK"
      },
      "source": [
        "has_subtitle.head()"
      ],
      "execution_count": null,
      "outputs": []
    },
    {
      "cell_type": "code",
      "metadata": {
        "id": "UA_h_CaUgTeN"
      },
      "source": [
        "plt.figure(figsize=(6,8))\n",
        "sns.boxplot(x='has_subtitle', y='average_rating', data=has_subtitle);\n",
        "plt.grid()"
      ],
      "execution_count": null,
      "outputs": []
    },
    {
      "cell_type": "markdown",
      "metadata": {
        "id": "A5_6ASsjr8ph"
      },
      "source": [
        "We see that books that have a subtitle get rated slightly higher than books without a subtitle."
      ]
    },
    {
      "cell_type": "markdown",
      "metadata": {
        "id": "0OjEb1hRgTeQ"
      },
      "source": [
        "### - Does the number of authors matter?<a id=\"39\"></a> <br>"
      ]
    },
    {
      "cell_type": "code",
      "metadata": {
        "id": "OVpiME4JgTeS"
      },
      "source": [
        "n_of_authors = books.authors.apply(lambda x: len(x.split(',')))"
      ],
      "execution_count": null,
      "outputs": []
    },
    {
      "cell_type": "code",
      "metadata": {
        "id": "N5ukkP0AgTeZ"
      },
      "source": [
        "plt.figure(figsize=(8,7))\n",
        "jp = sns.regplot(x=n_of_authors, y=books['average_rating'], line_kws={'color':'cyan'})\n",
        "jp.annotate('r =' + str(round(stats.pearsonr(n_of_authors,books['average_rating'])[0], 3)),\n",
        "            xy=(20,3), fontsize=15);\n",
        "plt.xlabel('number_of_authors');\n"
      ],
      "execution_count": null,
      "outputs": []
    },
    {
      "cell_type": "markdown",
      "metadata": {
        "id": "nyz9vwb6sETF"
      },
      "source": [
        "We all know the saying: “too many cooks spoil the broth.” Is this also true for books? Looking at the plot above it seems to be exactly the opposite: The more authors a book has the higher is its average rating."
      ]
    },
    {
      "cell_type": "code",
      "metadata": {
        "id": "N_hbN-5tlGdL"
      },
      "source": [
        ""
      ],
      "execution_count": null,
      "outputs": []
    }
  ]
}