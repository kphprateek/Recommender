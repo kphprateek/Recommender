{
  "nbformat": 4,
  "nbformat_minor": 0,
  "metadata": {
    "kernelspec": {
      "display_name": "Python 3",
      "language": "python",
      "name": "python3"
    },
    "language_info": {
      "codemirror_mode": {
        "name": "ipython",
        "version": 3
      },
      "file_extension": ".py",
      "mimetype": "text/x-python",
      "name": "python",
      "nbconvert_exporter": "python",
      "pygments_lexer": "ipython3",
      "version": "3.7.6"
    },
    "colab": {
      "name": "Book-Recommender-System.ipynb",
      "provenance": []
    }
  },
  "cells": [
    {
      "cell_type": "markdown",
      "metadata": {
        "id": "K7yIlN7E4dqE"
      },
      "source": [
        "# Books Recommender System"
      ]
    },
    {
      "cell_type": "markdown",
      "metadata": {
        "id": "j6g2asaFK6D7"
      },
      "source": [
        "# Importing Libraries and Loading Our Data <a id=\"1\"></a> <br>"
      ]
    },
    {
      "cell_type": "code",
      "metadata": {
        "colab": {
          "base_uri": "https://localhost:8080/"
        },
        "id": "aaFceZNfO0lV",
        "outputId": "f809b93b-e7ca-41ee-dd84-343e766ffddd"
      },
      "source": [
        "from google.colab import drive\n",
        "drive.mount('/content/gdrive')\n"
      ],
      "execution_count": null,
      "outputs": [
        {
          "output_type": "stream",
          "text": [
            "Mounted at /content/gdrive\n"
          ],
          "name": "stdout"
        }
      ]
    },
    {
      "cell_type": "code",
      "metadata": {
        "id": "eMBXg5P5UKP8"
      },
      "source": [
        "import pandas as pd\n",
        "import numpy as np\n",
        "import seaborn as sns\n",
        "import matplotlib.pyplot as plt\n",
        "import datetime\n",
        "\n",
        "import warnings\n",
        "warnings.filterwarnings('ignore')"
      ],
      "execution_count": null,
      "outputs": []
    },
    {
      "cell_type": "code",
      "metadata": {
        "id": "hpCy_uMGUKQN"
      },
      "source": [
        "books=pd.read_csv('/content/gdrive/MyDrive/Colab Notebooks/books.csv')\n",
        "ratings=pd.read_csv('/content/gdrive/MyDrive/Colab Notebooks/ratings.csv')\n",
        "book_tags=pd.read_csv('/content/gdrive/MyDrive/Colab Notebooks/book_tags.csv')\n",
        "tags=pd.read_csv('/content/gdrive/MyDrive/Colab Notebooks/tags.csv')"
      ],
      "execution_count": null,
      "outputs": []
    },
    {
      "cell_type": "markdown",
      "metadata": {
        "id": "MFMyFNckLWJC"
      },
      "source": [
        "# Clean the dataset <a id=\"2\"></a> <br>\n",
        "\n",
        "Removing the users which has rated less than 3 books."
      ]
    },
    {
      "cell_type": "code",
      "metadata": {
        "id": "o59Yh-2kZ4u0"
      },
      "source": [
        "books['original_publication_year'] = books['original_publication_year'].fillna(-1).apply(lambda x: int(x) if x != -1 else -1)"
      ],
      "execution_count": null,
      "outputs": []
    },
    {
      "cell_type": "code",
      "metadata": {
        "id": "flxaTo_vX4H8"
      },
      "source": [
        "ratings_rmv_duplicates = ratings.drop_duplicates()\n",
        "unwanted_users = ratings_rmv_duplicates.groupby('user_id')['user_id'].count()\n",
        "unwanted_users = unwanted_users[unwanted_users < 3]\n",
        "unwanted_ratings = ratings_rmv_duplicates[ratings_rmv_duplicates.user_id.isin(unwanted_users.index)]\n",
        "new_ratings = ratings_rmv_duplicates.drop(unwanted_ratings.index)"
      ],
      "execution_count": null,
      "outputs": []
    },
    {
      "cell_type": "code",
      "metadata": {
        "id": "E4T6oDft7gvU"
      },
      "source": [
        "new_ratings['title'] = books.set_index('id').title.loc[new_ratings.book_id].values"
      ],
      "execution_count": null,
      "outputs": []
    },
    {
      "cell_type": "code",
      "metadata": {
        "id": "n5YSFqfvqN2r",
        "colab": {
          "base_uri": "https://localhost:8080/",
          "height": 347
        },
        "outputId": "6e84362c-aa62-4e09-bfba-f700a7639e9b"
      },
      "source": [
        "new_ratings.head(10)"
      ],
      "execution_count": null,
      "outputs": [
        {
          "output_type": "execute_result",
          "data": {
            "text/html": [
              "<div>\n",
              "<style scoped>\n",
              "    .dataframe tbody tr th:only-of-type {\n",
              "        vertical-align: middle;\n",
              "    }\n",
              "\n",
              "    .dataframe tbody tr th {\n",
              "        vertical-align: top;\n",
              "    }\n",
              "\n",
              "    .dataframe thead th {\n",
              "        text-align: right;\n",
              "    }\n",
              "</style>\n",
              "<table border=\"1\" class=\"dataframe\">\n",
              "  <thead>\n",
              "    <tr style=\"text-align: right;\">\n",
              "      <th></th>\n",
              "      <th>book_id</th>\n",
              "      <th>user_id</th>\n",
              "      <th>rating</th>\n",
              "      <th>title</th>\n",
              "    </tr>\n",
              "  </thead>\n",
              "  <tbody>\n",
              "    <tr>\n",
              "      <th>0</th>\n",
              "      <td>1</td>\n",
              "      <td>314</td>\n",
              "      <td>5</td>\n",
              "      <td>The Hunger Games (The Hunger Games, #1)</td>\n",
              "    </tr>\n",
              "    <tr>\n",
              "      <th>1</th>\n",
              "      <td>1</td>\n",
              "      <td>439</td>\n",
              "      <td>3</td>\n",
              "      <td>The Hunger Games (The Hunger Games, #1)</td>\n",
              "    </tr>\n",
              "    <tr>\n",
              "      <th>2</th>\n",
              "      <td>1</td>\n",
              "      <td>588</td>\n",
              "      <td>5</td>\n",
              "      <td>The Hunger Games (The Hunger Games, #1)</td>\n",
              "    </tr>\n",
              "    <tr>\n",
              "      <th>3</th>\n",
              "      <td>1</td>\n",
              "      <td>1169</td>\n",
              "      <td>4</td>\n",
              "      <td>The Hunger Games (The Hunger Games, #1)</td>\n",
              "    </tr>\n",
              "    <tr>\n",
              "      <th>4</th>\n",
              "      <td>1</td>\n",
              "      <td>1185</td>\n",
              "      <td>4</td>\n",
              "      <td>The Hunger Games (The Hunger Games, #1)</td>\n",
              "    </tr>\n",
              "    <tr>\n",
              "      <th>5</th>\n",
              "      <td>1</td>\n",
              "      <td>2077</td>\n",
              "      <td>4</td>\n",
              "      <td>The Hunger Games (The Hunger Games, #1)</td>\n",
              "    </tr>\n",
              "    <tr>\n",
              "      <th>6</th>\n",
              "      <td>1</td>\n",
              "      <td>2487</td>\n",
              "      <td>4</td>\n",
              "      <td>The Hunger Games (The Hunger Games, #1)</td>\n",
              "    </tr>\n",
              "    <tr>\n",
              "      <th>7</th>\n",
              "      <td>1</td>\n",
              "      <td>2900</td>\n",
              "      <td>5</td>\n",
              "      <td>The Hunger Games (The Hunger Games, #1)</td>\n",
              "    </tr>\n",
              "    <tr>\n",
              "      <th>8</th>\n",
              "      <td>1</td>\n",
              "      <td>3662</td>\n",
              "      <td>4</td>\n",
              "      <td>The Hunger Games (The Hunger Games, #1)</td>\n",
              "    </tr>\n",
              "    <tr>\n",
              "      <th>9</th>\n",
              "      <td>1</td>\n",
              "      <td>3922</td>\n",
              "      <td>5</td>\n",
              "      <td>The Hunger Games (The Hunger Games, #1)</td>\n",
              "    </tr>\n",
              "  </tbody>\n",
              "</table>\n",
              "</div>"
            ],
            "text/plain": [
              "   book_id  user_id  rating                                    title\n",
              "0        1      314       5  The Hunger Games (The Hunger Games, #1)\n",
              "1        1      439       3  The Hunger Games (The Hunger Games, #1)\n",
              "2        1      588       5  The Hunger Games (The Hunger Games, #1)\n",
              "3        1     1169       4  The Hunger Games (The Hunger Games, #1)\n",
              "4        1     1185       4  The Hunger Games (The Hunger Games, #1)\n",
              "5        1     2077       4  The Hunger Games (The Hunger Games, #1)\n",
              "6        1     2487       4  The Hunger Games (The Hunger Games, #1)\n",
              "7        1     2900       5  The Hunger Games (The Hunger Games, #1)\n",
              "8        1     3662       4  The Hunger Games (The Hunger Games, #1)\n",
              "9        1     3922       5  The Hunger Games (The Hunger Games, #1)"
            ]
          },
          "metadata": {
            "tags": []
          },
          "execution_count": 7
        }
      ]
    },
    {
      "cell_type": "markdown",
      "metadata": {
        "id": "81nk7tTpN27n"
      },
      "source": [
        "Mathematically, it is represented as follows:\n",
        "\n",
        "Weighted Rating (WR) = $(\\frac{v}{v + m} . R) + (\\frac{m}{v + m} . C)$\n",
        "\n",
        "where,\n",
        "* *v* is the number of ratings for the book\n",
        "* *m* is the minimum ratings required to be listed in the chart\n",
        "* *R* is the average rating of the book\n",
        "* *C* is the mean rating across the whole report\n",
        "\n",
        "The next step is to determine an appropriate value for *m*, the minimum ratings required to be listed in the chart. We will use **95th percentile** as our cutoff. In other words, for a book to feature in the charts, it must have more ratings than at least 95% of the books in the list.\n",
        "\n"
      ]
    },
    {
      "cell_type": "code",
      "metadata": {
        "id": "wKrQGOAjqq2R"
      },
      "source": [
        "v = books['ratings_count']\n",
        "m = books['ratings_count'].quantile(0.95)\n",
        "R = books['average_rating']\n",
        "C = books['average_rating'].mean()\n",
        "W = (R*v + C*m) / (v + m)"
      ],
      "execution_count": null,
      "outputs": []
    },
    {
      "cell_type": "code",
      "metadata": {
        "id": "nKHwms335DrO"
      },
      "source": [
        "books['weighted_rating'] = W"
      ],
      "execution_count": null,
      "outputs": []
    },
    {
      "cell_type": "code",
      "metadata": {
        "id": "pyQK0fIkqqzn"
      },
      "source": [
        "qualified  = books.sort_values('weighted_rating', ascending=False).head(250)"
      ],
      "execution_count": null,
      "outputs": []
    },
    {
      "cell_type": "markdown",
      "metadata": {
        "id": "F3jXFt7gqq4Z"
      },
      "source": [
        "## Top Books <a id=\"4\"></a> <br>"
      ]
    },
    {
      "cell_type": "code",
      "metadata": {
        "id": "3jJR_KvwQSSz",
        "colab": {
          "base_uri": "https://localhost:8080/",
          "height": 497
        },
        "outputId": "81d7402a-a4d1-4faf-face-53e79b7a7152"
      },
      "source": [
        "qualified[['title', 'authors', 'average_rating', 'weighted_rating']].head(15)"
      ],
      "execution_count": null,
      "outputs": [
        {
          "output_type": "execute_result",
          "data": {
            "text/html": [
              "<div>\n",
              "<style scoped>\n",
              "    .dataframe tbody tr th:only-of-type {\n",
              "        vertical-align: middle;\n",
              "    }\n",
              "\n",
              "    .dataframe tbody tr th {\n",
              "        vertical-align: top;\n",
              "    }\n",
              "\n",
              "    .dataframe thead th {\n",
              "        text-align: right;\n",
              "    }\n",
              "</style>\n",
              "<table border=\"1\" class=\"dataframe\">\n",
              "  <thead>\n",
              "    <tr style=\"text-align: right;\">\n",
              "      <th></th>\n",
              "      <th>title</th>\n",
              "      <th>authors</th>\n",
              "      <th>average_rating</th>\n",
              "      <th>weighted_rating</th>\n",
              "    </tr>\n",
              "  </thead>\n",
              "  <tbody>\n",
              "    <tr>\n",
              "      <th>24</th>\n",
              "      <td>Harry Potter and the Deathly Hallows (Harry Po...</td>\n",
              "      <td>J.K. Rowling, Mary GrandPré</td>\n",
              "      <td>4.61</td>\n",
              "      <td>4.555956</td>\n",
              "    </tr>\n",
              "    <tr>\n",
              "      <th>26</th>\n",
              "      <td>Harry Potter and the Half-Blood Prince (Harry ...</td>\n",
              "      <td>J.K. Rowling, Mary GrandPré</td>\n",
              "      <td>4.54</td>\n",
              "      <td>4.490428</td>\n",
              "    </tr>\n",
              "    <tr>\n",
              "      <th>17</th>\n",
              "      <td>Harry Potter and the Prisoner of Azkaban (Harr...</td>\n",
              "      <td>J.K. Rowling, Mary GrandPré, Rufus Beck</td>\n",
              "      <td>4.53</td>\n",
              "      <td>4.485090</td>\n",
              "    </tr>\n",
              "    <tr>\n",
              "      <th>23</th>\n",
              "      <td>Harry Potter and the Goblet of Fire (Harry Pot...</td>\n",
              "      <td>J.K. Rowling, Mary GrandPré</td>\n",
              "      <td>4.53</td>\n",
              "      <td>4.483227</td>\n",
              "    </tr>\n",
              "    <tr>\n",
              "      <th>1</th>\n",
              "      <td>Harry Potter and the Sorcerer's Stone (Harry P...</td>\n",
              "      <td>J.K. Rowling, Mary GrandPré</td>\n",
              "      <td>4.44</td>\n",
              "      <td>4.424365</td>\n",
              "    </tr>\n",
              "    <tr>\n",
              "      <th>20</th>\n",
              "      <td>Harry Potter and the Order of the Phoenix (Har...</td>\n",
              "      <td>J.K. Rowling, Mary GrandPré</td>\n",
              "      <td>4.46</td>\n",
              "      <td>4.419054</td>\n",
              "    </tr>\n",
              "    <tr>\n",
              "      <th>30</th>\n",
              "      <td>The Help</td>\n",
              "      <td>Kathryn Stockett</td>\n",
              "      <td>4.45</td>\n",
              "      <td>4.405158</td>\n",
              "    </tr>\n",
              "    <tr>\n",
              "      <th>38</th>\n",
              "      <td>A Game of Thrones (A Song of Ice and Fire, #1)</td>\n",
              "      <td>George R.R. Martin</td>\n",
              "      <td>4.45</td>\n",
              "      <td>4.398759</td>\n",
              "    </tr>\n",
              "    <tr>\n",
              "      <th>134</th>\n",
              "      <td>A Storm of Swords (A Song of Ice and Fire, #3)</td>\n",
              "      <td>George R.R. Martin</td>\n",
              "      <td>4.54</td>\n",
              "      <td>4.396645</td>\n",
              "    </tr>\n",
              "    <tr>\n",
              "      <th>421</th>\n",
              "      <td>Harry Potter Boxset (Harry Potter, #1-7)</td>\n",
              "      <td>J.K. Rowling</td>\n",
              "      <td>4.74</td>\n",
              "      <td>4.391147</td>\n",
              "    </tr>\n",
              "    <tr>\n",
              "      <th>191</th>\n",
              "      <td>The Name of the Wind (The Kingkiller Chronicle...</td>\n",
              "      <td>Patrick Rothfuss</td>\n",
              "      <td>4.55</td>\n",
              "      <td>4.386341</td>\n",
              "    </tr>\n",
              "    <tr>\n",
              "      <th>160</th>\n",
              "      <td>The Return of the King (The Lord of the Rings,...</td>\n",
              "      <td>J.R.R. Tolkien</td>\n",
              "      <td>4.51</td>\n",
              "      <td>4.373561</td>\n",
              "    </tr>\n",
              "    <tr>\n",
              "      <th>174</th>\n",
              "      <td>The Last Olympian (Percy Jackson and the Olymp...</td>\n",
              "      <td>Rick Riordan</td>\n",
              "      <td>4.50</td>\n",
              "      <td>4.350597</td>\n",
              "    </tr>\n",
              "    <tr>\n",
              "      <th>22</th>\n",
              "      <td>Harry Potter and the Chamber of Secrets (Harry...</td>\n",
              "      <td>J.K. Rowling, Mary GrandPré</td>\n",
              "      <td>4.37</td>\n",
              "      <td>4.337845</td>\n",
              "    </tr>\n",
              "    <tr>\n",
              "      <th>306</th>\n",
              "      <td>The Wise Man's Fear (The Kingkiller Chronicle,...</td>\n",
              "      <td>Patrick Rothfuss</td>\n",
              "      <td>4.57</td>\n",
              "      <td>4.337421</td>\n",
              "    </tr>\n",
              "  </tbody>\n",
              "</table>\n",
              "</div>"
            ],
            "text/plain": [
              "                                                 title  ... weighted_rating\n",
              "24   Harry Potter and the Deathly Hallows (Harry Po...  ...        4.555956\n",
              "26   Harry Potter and the Half-Blood Prince (Harry ...  ...        4.490428\n",
              "17   Harry Potter and the Prisoner of Azkaban (Harr...  ...        4.485090\n",
              "23   Harry Potter and the Goblet of Fire (Harry Pot...  ...        4.483227\n",
              "1    Harry Potter and the Sorcerer's Stone (Harry P...  ...        4.424365\n",
              "20   Harry Potter and the Order of the Phoenix (Har...  ...        4.419054\n",
              "30                                            The Help  ...        4.405158\n",
              "38      A Game of Thrones (A Song of Ice and Fire, #1)  ...        4.398759\n",
              "134     A Storm of Swords (A Song of Ice and Fire, #3)  ...        4.396645\n",
              "421           Harry Potter Boxset (Harry Potter, #1-7)  ...        4.391147\n",
              "191  The Name of the Wind (The Kingkiller Chronicle...  ...        4.386341\n",
              "160  The Return of the King (The Lord of the Rings,...  ...        4.373561\n",
              "174  The Last Olympian (Percy Jackson and the Olymp...  ...        4.350597\n",
              "22   Harry Potter and the Chamber of Secrets (Harry...  ...        4.337845\n",
              "306  The Wise Man's Fear (The Kingkiller Chronicle,...  ...        4.337421\n",
              "\n",
              "[15 rows x 4 columns]"
            ]
          },
          "metadata": {
            "tags": []
          },
          "execution_count": 11
        }
      ]
    },
    {
      "cell_type": "markdown",
      "metadata": {
        "id": "BFTag2FxRs9X"
      },
      "source": [
        "We see that J.K. Rowling's **Harry Potter** Books occur at the very top of our chart. The chart also indicates a strong bias of Goodreads Users towards particular genres and authors. \n",
        "\n",
        " "
      ]
    },
    {
      "cell_type": "markdown",
      "metadata": {
        "id": "GMc6tLV16lOr"
      },
      "source": [
        "##\"Genres\" Books <a id=\"5\"></a> <br>"
      ]
    },
    {
      "cell_type": "code",
      "metadata": {
        "id": "5PAb-_lT6lKw",
        "colab": {
          "base_uri": "https://localhost:8080/",
          "height": 197
        },
        "outputId": "5c30b03c-68e7-4d8f-a2cc-3a15c3d7c036"
      },
      "source": [
        "book_tags.head()"
      ],
      "execution_count": null,
      "outputs": [
        {
          "output_type": "execute_result",
          "data": {
            "text/html": [
              "<div>\n",
              "<style scoped>\n",
              "    .dataframe tbody tr th:only-of-type {\n",
              "        vertical-align: middle;\n",
              "    }\n",
              "\n",
              "    .dataframe tbody tr th {\n",
              "        vertical-align: top;\n",
              "    }\n",
              "\n",
              "    .dataframe thead th {\n",
              "        text-align: right;\n",
              "    }\n",
              "</style>\n",
              "<table border=\"1\" class=\"dataframe\">\n",
              "  <thead>\n",
              "    <tr style=\"text-align: right;\">\n",
              "      <th></th>\n",
              "      <th>goodreads_book_id</th>\n",
              "      <th>tag_id</th>\n",
              "      <th>count</th>\n",
              "    </tr>\n",
              "  </thead>\n",
              "  <tbody>\n",
              "    <tr>\n",
              "      <th>0</th>\n",
              "      <td>1</td>\n",
              "      <td>30574</td>\n",
              "      <td>167697</td>\n",
              "    </tr>\n",
              "    <tr>\n",
              "      <th>1</th>\n",
              "      <td>1</td>\n",
              "      <td>11305</td>\n",
              "      <td>37174</td>\n",
              "    </tr>\n",
              "    <tr>\n",
              "      <th>2</th>\n",
              "      <td>1</td>\n",
              "      <td>11557</td>\n",
              "      <td>34173</td>\n",
              "    </tr>\n",
              "    <tr>\n",
              "      <th>3</th>\n",
              "      <td>1</td>\n",
              "      <td>8717</td>\n",
              "      <td>12986</td>\n",
              "    </tr>\n",
              "    <tr>\n",
              "      <th>4</th>\n",
              "      <td>1</td>\n",
              "      <td>33114</td>\n",
              "      <td>12716</td>\n",
              "    </tr>\n",
              "  </tbody>\n",
              "</table>\n",
              "</div>"
            ],
            "text/plain": [
              "   goodreads_book_id  tag_id   count\n",
              "0                  1   30574  167697\n",
              "1                  1   11305   37174\n",
              "2                  1   11557   34173\n",
              "3                  1    8717   12986\n",
              "4                  1   33114   12716"
            ]
          },
          "metadata": {
            "tags": []
          },
          "execution_count": 12
        }
      ]
    },
    {
      "cell_type": "code",
      "metadata": {
        "id": "ayb2ddHN7hrJ",
        "colab": {
          "base_uri": "https://localhost:8080/",
          "height": 197
        },
        "outputId": "03799582-e3b4-4bca-fe19-db1529f88e44"
      },
      "source": [
        "tags.head()"
      ],
      "execution_count": null,
      "outputs": [
        {
          "output_type": "execute_result",
          "data": {
            "text/html": [
              "<div>\n",
              "<style scoped>\n",
              "    .dataframe tbody tr th:only-of-type {\n",
              "        vertical-align: middle;\n",
              "    }\n",
              "\n",
              "    .dataframe tbody tr th {\n",
              "        vertical-align: top;\n",
              "    }\n",
              "\n",
              "    .dataframe thead th {\n",
              "        text-align: right;\n",
              "    }\n",
              "</style>\n",
              "<table border=\"1\" class=\"dataframe\">\n",
              "  <thead>\n",
              "    <tr style=\"text-align: right;\">\n",
              "      <th></th>\n",
              "      <th>tag_id</th>\n",
              "      <th>tag_name</th>\n",
              "    </tr>\n",
              "  </thead>\n",
              "  <tbody>\n",
              "    <tr>\n",
              "      <th>0</th>\n",
              "      <td>0</td>\n",
              "      <td>-</td>\n",
              "    </tr>\n",
              "    <tr>\n",
              "      <th>1</th>\n",
              "      <td>1</td>\n",
              "      <td>--1-</td>\n",
              "    </tr>\n",
              "    <tr>\n",
              "      <th>2</th>\n",
              "      <td>2</td>\n",
              "      <td>--10-</td>\n",
              "    </tr>\n",
              "    <tr>\n",
              "      <th>3</th>\n",
              "      <td>3</td>\n",
              "      <td>--12-</td>\n",
              "    </tr>\n",
              "    <tr>\n",
              "      <th>4</th>\n",
              "      <td>4</td>\n",
              "      <td>--122-</td>\n",
              "    </tr>\n",
              "  </tbody>\n",
              "</table>\n",
              "</div>"
            ],
            "text/plain": [
              "   tag_id tag_name\n",
              "0       0        -\n",
              "1       1     --1-\n",
              "2       2    --10-\n",
              "3       3    --12-\n",
              "4       4   --122-"
            ]
          },
          "metadata": {
            "tags": []
          },
          "execution_count": 13
        }
      ]
    },
    {
      "cell_type": "code",
      "metadata": {
        "id": "vFo__ouS7jNS"
      },
      "source": [
        "genres = [\"Art\", \"Biography\", \"Business\", \"Chick Lit\", \"Children's\", \"Christian\", \"Classics\",\n",
        "          \"Comics\", \"Contemporary\", \"Cookbooks\", \"Crime\", \"Ebooks\", \"Fantasy\", \"Fiction\",\n",
        "          \"Gay and Lesbian\", \"Graphic Novels\", \"Historical Fiction\", \"History\", \"Horror\",\n",
        "          \"Humor and Comedy\", \"Manga\", \"Memoir\", \"Music\", \"Mystery\", \"Nonfiction\", \"Paranormal\",\n",
        "          \"Philosophy\", \"Poetry\", \"Psychology\", \"Religion\", \"Romance\", \"Science\", \"Science Fiction\", \n",
        "          \"Self Help\", \"Suspense\", \"Spirituality\", \"Sports\", \"Thriller\", \"Travel\", \"Young Adult\"]"
      ],
      "execution_count": null,
      "outputs": []
    },
    {
      "cell_type": "code",
      "metadata": {
        "id": "5UmINY4x8bFH",
        "colab": {
          "base_uri": "https://localhost:8080/"
        },
        "outputId": "bf56edfb-14d4-43c3-b6fd-39cedc3889a5"
      },
      "source": [
        "genres = list(map(str.lower, genres))\n",
        "genres[:4]"
      ],
      "execution_count": null,
      "outputs": [
        {
          "output_type": "execute_result",
          "data": {
            "text/plain": [
              "['art', 'biography', 'business', 'chick lit']"
            ]
          },
          "metadata": {
            "tags": []
          },
          "execution_count": 15
        }
      ]
    },
    {
      "cell_type": "code",
      "metadata": {
        "id": "cQ3eKWQv8eIE"
      },
      "source": [
        "available_genres = tags.loc[tags.tag_name.str.lower().isin(genres)]"
      ],
      "execution_count": null,
      "outputs": []
    },
    {
      "cell_type": "code",
      "metadata": {
        "id": "UBJpBN5O_xi9",
        "colab": {
          "base_uri": "https://localhost:8080/",
          "height": 197
        },
        "outputId": "4cab4dba-e62c-4089-fbe2-0ba148674bbe"
      },
      "source": [
        "available_genres.head()"
      ],
      "execution_count": null,
      "outputs": [
        {
          "output_type": "execute_result",
          "data": {
            "text/html": [
              "<div>\n",
              "<style scoped>\n",
              "    .dataframe tbody tr th:only-of-type {\n",
              "        vertical-align: middle;\n",
              "    }\n",
              "\n",
              "    .dataframe tbody tr th {\n",
              "        vertical-align: top;\n",
              "    }\n",
              "\n",
              "    .dataframe thead th {\n",
              "        text-align: right;\n",
              "    }\n",
              "</style>\n",
              "<table border=\"1\" class=\"dataframe\">\n",
              "  <thead>\n",
              "    <tr style=\"text-align: right;\">\n",
              "      <th></th>\n",
              "      <th>tag_id</th>\n",
              "      <th>tag_name</th>\n",
              "    </tr>\n",
              "  </thead>\n",
              "  <tbody>\n",
              "    <tr>\n",
              "      <th>2938</th>\n",
              "      <td>2938</td>\n",
              "      <td>art</td>\n",
              "    </tr>\n",
              "    <tr>\n",
              "      <th>4605</th>\n",
              "      <td>4605</td>\n",
              "      <td>biography</td>\n",
              "    </tr>\n",
              "    <tr>\n",
              "      <th>5951</th>\n",
              "      <td>5951</td>\n",
              "      <td>business</td>\n",
              "    </tr>\n",
              "    <tr>\n",
              "      <th>7077</th>\n",
              "      <td>7077</td>\n",
              "      <td>christian</td>\n",
              "    </tr>\n",
              "    <tr>\n",
              "      <th>7457</th>\n",
              "      <td>7457</td>\n",
              "      <td>classics</td>\n",
              "    </tr>\n",
              "  </tbody>\n",
              "</table>\n",
              "</div>"
            ],
            "text/plain": [
              "      tag_id   tag_name\n",
              "2938    2938        art\n",
              "4605    4605  biography\n",
              "5951    5951   business\n",
              "7077    7077  christian\n",
              "7457    7457   classics"
            ]
          },
          "metadata": {
            "tags": []
          },
          "execution_count": 17
        }
      ]
    },
    {
      "cell_type": "code",
      "metadata": {
        "id": "B_OyDxFj8oBh"
      },
      "source": [
        "available_genres_books = book_tags[book_tags.tag_id.isin(available_genres.tag_id)]"
      ],
      "execution_count": null,
      "outputs": []
    },
    {
      "cell_type": "code",
      "metadata": {
        "id": "nNfv5lelS6Qw",
        "colab": {
          "base_uri": "https://localhost:8080/"
        },
        "outputId": "54d9d013-89a7-4da9-8b81-3d0986e81df9"
      },
      "source": [
        "print('There are {} books that are tagged with above genres'.format(available_genres_books.shape[0]))"
      ],
      "execution_count": null,
      "outputs": [
        {
          "output_type": "stream",
          "text": [
            "There are 60573 books that are tagged with above genres\n"
          ],
          "name": "stdout"
        }
      ]
    },
    {
      "cell_type": "code",
      "metadata": {
        "id": "9lNkBNHN8w8v",
        "colab": {
          "base_uri": "https://localhost:8080/",
          "height": 197
        },
        "outputId": "7ec3f6bc-c77f-42a5-93f3-1e774d88876b"
      },
      "source": [
        "available_genres_books.head()"
      ],
      "execution_count": null,
      "outputs": [
        {
          "output_type": "execute_result",
          "data": {
            "text/html": [
              "<div>\n",
              "<style scoped>\n",
              "    .dataframe tbody tr th:only-of-type {\n",
              "        vertical-align: middle;\n",
              "    }\n",
              "\n",
              "    .dataframe tbody tr th {\n",
              "        vertical-align: top;\n",
              "    }\n",
              "\n",
              "    .dataframe thead th {\n",
              "        text-align: right;\n",
              "    }\n",
              "</style>\n",
              "<table border=\"1\" class=\"dataframe\">\n",
              "  <thead>\n",
              "    <tr style=\"text-align: right;\">\n",
              "      <th></th>\n",
              "      <th>goodreads_book_id</th>\n",
              "      <th>tag_id</th>\n",
              "      <th>count</th>\n",
              "    </tr>\n",
              "  </thead>\n",
              "  <tbody>\n",
              "    <tr>\n",
              "      <th>1</th>\n",
              "      <td>1</td>\n",
              "      <td>11305</td>\n",
              "      <td>37174</td>\n",
              "    </tr>\n",
              "    <tr>\n",
              "      <th>5</th>\n",
              "      <td>1</td>\n",
              "      <td>11743</td>\n",
              "      <td>9954</td>\n",
              "    </tr>\n",
              "    <tr>\n",
              "      <th>25</th>\n",
              "      <td>1</td>\n",
              "      <td>7457</td>\n",
              "      <td>958</td>\n",
              "    </tr>\n",
              "    <tr>\n",
              "      <th>38</th>\n",
              "      <td>1</td>\n",
              "      <td>22973</td>\n",
              "      <td>673</td>\n",
              "    </tr>\n",
              "    <tr>\n",
              "      <th>52</th>\n",
              "      <td>1</td>\n",
              "      <td>20939</td>\n",
              "      <td>465</td>\n",
              "    </tr>\n",
              "  </tbody>\n",
              "</table>\n",
              "</div>"
            ],
            "text/plain": [
              "    goodreads_book_id  tag_id  count\n",
              "1                   1   11305  37174\n",
              "5                   1   11743   9954\n",
              "25                  1    7457    958\n",
              "38                  1   22973    673\n",
              "52                  1   20939    465"
            ]
          },
          "metadata": {
            "tags": []
          },
          "execution_count": 20
        }
      ]
    },
    {
      "cell_type": "code",
      "metadata": {
        "id": "1xFVeC2d6lGa",
        "colab": {
          "base_uri": "https://localhost:8080/",
          "height": 197
        },
        "outputId": "10cd6704-bc4e-4a38-ee6a-40dc0b8ba1f1"
      },
      "source": [
        "available_genres_books['genre'] = available_genres.tag_name.loc[available_genres_books.tag_id].values\n",
        "available_genres_books.head()"
      ],
      "execution_count": null,
      "outputs": [
        {
          "output_type": "execute_result",
          "data": {
            "text/html": [
              "<div>\n",
              "<style scoped>\n",
              "    .dataframe tbody tr th:only-of-type {\n",
              "        vertical-align: middle;\n",
              "    }\n",
              "\n",
              "    .dataframe tbody tr th {\n",
              "        vertical-align: top;\n",
              "    }\n",
              "\n",
              "    .dataframe thead th {\n",
              "        text-align: right;\n",
              "    }\n",
              "</style>\n",
              "<table border=\"1\" class=\"dataframe\">\n",
              "  <thead>\n",
              "    <tr style=\"text-align: right;\">\n",
              "      <th></th>\n",
              "      <th>goodreads_book_id</th>\n",
              "      <th>tag_id</th>\n",
              "      <th>count</th>\n",
              "      <th>genre</th>\n",
              "    </tr>\n",
              "  </thead>\n",
              "  <tbody>\n",
              "    <tr>\n",
              "      <th>1</th>\n",
              "      <td>1</td>\n",
              "      <td>11305</td>\n",
              "      <td>37174</td>\n",
              "      <td>fantasy</td>\n",
              "    </tr>\n",
              "    <tr>\n",
              "      <th>5</th>\n",
              "      <td>1</td>\n",
              "      <td>11743</td>\n",
              "      <td>9954</td>\n",
              "      <td>fiction</td>\n",
              "    </tr>\n",
              "    <tr>\n",
              "      <th>25</th>\n",
              "      <td>1</td>\n",
              "      <td>7457</td>\n",
              "      <td>958</td>\n",
              "      <td>classics</td>\n",
              "    </tr>\n",
              "    <tr>\n",
              "      <th>38</th>\n",
              "      <td>1</td>\n",
              "      <td>22973</td>\n",
              "      <td>673</td>\n",
              "      <td>paranormal</td>\n",
              "    </tr>\n",
              "    <tr>\n",
              "      <th>52</th>\n",
              "      <td>1</td>\n",
              "      <td>20939</td>\n",
              "      <td>465</td>\n",
              "      <td>mystery</td>\n",
              "    </tr>\n",
              "  </tbody>\n",
              "</table>\n",
              "</div>"
            ],
            "text/plain": [
              "    goodreads_book_id  tag_id  count       genre\n",
              "1                   1   11305  37174     fantasy\n",
              "5                   1   11743   9954     fiction\n",
              "25                  1    7457    958    classics\n",
              "38                  1   22973    673  paranormal\n",
              "52                  1   20939    465     mystery"
            ]
          },
          "metadata": {
            "tags": []
          },
          "execution_count": 21
        }
      ]
    },
    {
      "cell_type": "code",
      "metadata": {
        "id": "eeKeqAFm6lCc"
      },
      "source": [
        "def build_chart(genre, percentile=0.85):\n",
        "    df = available_genres_books[available_genres_books['genre'] == genre.lower()]\n",
        "    qualified = books.set_index('book_id').loc[df.goodreads_book_id]\n",
        "\n",
        "    v = qualified['ratings_count']\n",
        "    m = qualified['ratings_count'].quantile(percentile)\n",
        "    R = qualified['average_rating']\n",
        "    C = qualified['average_rating'].mean()\n",
        "    qualified['weighted_rating'] = (R*v + C*m) / (v + m)\n",
        "\n",
        "    qualified.sort_values('weighted_rating', ascending=False, inplace=True)\n",
        "    return qualified"
      ],
      "execution_count": null,
      "outputs": []
    },
    {
      "cell_type": "code",
      "metadata": {
        "id": "RHH5QZC0E7aa"
      },
      "source": [
        "cols = ['title','authors','original_publication_year','average_rating','ratings_count','work_text_reviews_count','weighted_rating']"
      ],
      "execution_count": null,
      "outputs": []
    },
    {
      "cell_type": "code",
      "metadata": {
        "id": "va0OSKXxEpLX",
        "colab": {
          "base_uri": "https://localhost:8080/",
          "height": 744
        },
        "outputId": "17732816-ba41-450f-d676-51451a8ca578"
      },
      "source": [
        "genre = 'Fiction'\n",
        "build_chart(genre)[cols].head(15)"
      ],
      "execution_count": null,
      "outputs": [
        {
          "output_type": "execute_result",
          "data": {
            "text/html": [
              "<div>\n",
              "<style scoped>\n",
              "    .dataframe tbody tr th:only-of-type {\n",
              "        vertical-align: middle;\n",
              "    }\n",
              "\n",
              "    .dataframe tbody tr th {\n",
              "        vertical-align: top;\n",
              "    }\n",
              "\n",
              "    .dataframe thead th {\n",
              "        text-align: right;\n",
              "    }\n",
              "</style>\n",
              "<table border=\"1\" class=\"dataframe\">\n",
              "  <thead>\n",
              "    <tr style=\"text-align: right;\">\n",
              "      <th></th>\n",
              "      <th>title</th>\n",
              "      <th>authors</th>\n",
              "      <th>original_publication_year</th>\n",
              "      <th>average_rating</th>\n",
              "      <th>ratings_count</th>\n",
              "      <th>work_text_reviews_count</th>\n",
              "      <th>weighted_rating</th>\n",
              "    </tr>\n",
              "    <tr>\n",
              "      <th>book_id</th>\n",
              "      <th></th>\n",
              "      <th></th>\n",
              "      <th></th>\n",
              "      <th></th>\n",
              "      <th></th>\n",
              "      <th></th>\n",
              "      <th></th>\n",
              "    </tr>\n",
              "  </thead>\n",
              "  <tbody>\n",
              "    <tr>\n",
              "      <th>136251</th>\n",
              "      <td>Harry Potter and the Deathly Hallows (Harry Po...</td>\n",
              "      <td>J.K. Rowling, Mary GrandPré</td>\n",
              "      <td>2007</td>\n",
              "      <td>4.61</td>\n",
              "      <td>1746574</td>\n",
              "      <td>51942</td>\n",
              "      <td>4.587098</td>\n",
              "    </tr>\n",
              "    <tr>\n",
              "      <th>862041</th>\n",
              "      <td>Harry Potter Boxset (Harry Potter, #1-7)</td>\n",
              "      <td>J.K. Rowling</td>\n",
              "      <td>1998</td>\n",
              "      <td>4.74</td>\n",
              "      <td>190050</td>\n",
              "      <td>6508</td>\n",
              "      <td>4.544691</td>\n",
              "    </tr>\n",
              "    <tr>\n",
              "      <th>1</th>\n",
              "      <td>Harry Potter and the Half-Blood Prince (Harry ...</td>\n",
              "      <td>J.K. Rowling, Mary GrandPré</td>\n",
              "      <td>2005</td>\n",
              "      <td>4.54</td>\n",
              "      <td>1678823</td>\n",
              "      <td>27520</td>\n",
              "      <td>4.518933</td>\n",
              "    </tr>\n",
              "    <tr>\n",
              "      <th>5</th>\n",
              "      <td>Harry Potter and the Prisoner of Azkaban (Harr...</td>\n",
              "      <td>J.K. Rowling, Mary GrandPré, Rufus Beck</td>\n",
              "      <td>1999</td>\n",
              "      <td>4.53</td>\n",
              "      <td>1832823</td>\n",
              "      <td>36099</td>\n",
              "      <td>4.510997</td>\n",
              "    </tr>\n",
              "    <tr>\n",
              "      <th>6</th>\n",
              "      <td>Harry Potter and the Goblet of Fire (Harry Pot...</td>\n",
              "      <td>J.K. Rowling, Mary GrandPré</td>\n",
              "      <td>2000</td>\n",
              "      <td>4.53</td>\n",
              "      <td>1753043</td>\n",
              "      <td>31084</td>\n",
              "      <td>4.510164</td>\n",
              "    </tr>\n",
              "    <tr>\n",
              "      <th>62291</th>\n",
              "      <td>A Storm of Swords (A Song of Ice and Fire, #3)</td>\n",
              "      <td>George R.R. Martin</td>\n",
              "      <td>2000</td>\n",
              "      <td>4.54</td>\n",
              "      <td>469022</td>\n",
              "      <td>19497</td>\n",
              "      <td>4.471466</td>\n",
              "    </tr>\n",
              "    <tr>\n",
              "      <th>186074</th>\n",
              "      <td>The Name of the Wind (The Kingkiller Chronicle...</td>\n",
              "      <td>Patrick Rothfuss</td>\n",
              "      <td>2007</td>\n",
              "      <td>4.55</td>\n",
              "      <td>400101</td>\n",
              "      <td>28631</td>\n",
              "      <td>4.469922</td>\n",
              "    </tr>\n",
              "    <tr>\n",
              "      <th>1215032</th>\n",
              "      <td>The Wise Man's Fear (The Kingkiller Chronicle,...</td>\n",
              "      <td>Patrick Rothfuss</td>\n",
              "      <td>2011</td>\n",
              "      <td>4.57</td>\n",
              "      <td>245686</td>\n",
              "      <td>15503</td>\n",
              "      <td>4.446163</td>\n",
              "    </tr>\n",
              "    <tr>\n",
              "      <th>18512</th>\n",
              "      <td>The Return of the King (The Lord of the Rings,...</td>\n",
              "      <td>J.R.R. Tolkien</td>\n",
              "      <td>1955</td>\n",
              "      <td>4.51</td>\n",
              "      <td>463959</td>\n",
              "      <td>6644</td>\n",
              "      <td>4.444645</td>\n",
              "    </tr>\n",
              "    <tr>\n",
              "      <th>2</th>\n",
              "      <td>Harry Potter and the Order of the Phoenix (Har...</td>\n",
              "      <td>J.K. Rowling, Mary GrandPré</td>\n",
              "      <td>2003</td>\n",
              "      <td>4.46</td>\n",
              "      <td>1735368</td>\n",
              "      <td>28685</td>\n",
              "      <td>4.442607</td>\n",
              "    </tr>\n",
              "    <tr>\n",
              "      <th>17927395</th>\n",
              "      <td>A Court of Mist and Fury (A Court of Thorns an...</td>\n",
              "      <td>Sarah J. Maas</td>\n",
              "      <td>2016</td>\n",
              "      <td>4.72</td>\n",
              "      <td>108384</td>\n",
              "      <td>22700</td>\n",
              "      <td>4.441935</td>\n",
              "    </tr>\n",
              "    <tr>\n",
              "      <th>7235533</th>\n",
              "      <td>The Way of Kings (The Stormlight Archive, #1)</td>\n",
              "      <td>Brandon Sanderson</td>\n",
              "      <td>2010</td>\n",
              "      <td>4.64</td>\n",
              "      <td>144822</td>\n",
              "      <td>10947</td>\n",
              "      <td>4.435102</td>\n",
              "    </tr>\n",
              "    <tr>\n",
              "      <th>3</th>\n",
              "      <td>Harry Potter and the Sorcerer's Stone (Harry P...</td>\n",
              "      <td>J.K. Rowling, Mary GrandPré</td>\n",
              "      <td>1997</td>\n",
              "      <td>4.44</td>\n",
              "      <td>4602479</td>\n",
              "      <td>75867</td>\n",
              "      <td>4.433575</td>\n",
              "    </tr>\n",
              "    <tr>\n",
              "      <th>4667024</th>\n",
              "      <td>The Help</td>\n",
              "      <td>Kathryn Stockett</td>\n",
              "      <td>2009</td>\n",
              "      <td>4.45</td>\n",
              "      <td>1531753</td>\n",
              "      <td>78204</td>\n",
              "      <td>4.430818</td>\n",
              "    </tr>\n",
              "    <tr>\n",
              "      <th>13496</th>\n",
              "      <td>A Game of Thrones (A Song of Ice and Fire, #1)</td>\n",
              "      <td>George R.R. Martin</td>\n",
              "      <td>1996</td>\n",
              "      <td>4.45</td>\n",
              "      <td>1319204</td>\n",
              "      <td>46205</td>\n",
              "      <td>4.427878</td>\n",
              "    </tr>\n",
              "  </tbody>\n",
              "</table>\n",
              "</div>"
            ],
            "text/plain": [
              "                                                      title  ... weighted_rating\n",
              "book_id                                                      ...                \n",
              "136251    Harry Potter and the Deathly Hallows (Harry Po...  ...        4.587098\n",
              "862041             Harry Potter Boxset (Harry Potter, #1-7)  ...        4.544691\n",
              "1         Harry Potter and the Half-Blood Prince (Harry ...  ...        4.518933\n",
              "5         Harry Potter and the Prisoner of Azkaban (Harr...  ...        4.510997\n",
              "6         Harry Potter and the Goblet of Fire (Harry Pot...  ...        4.510164\n",
              "62291        A Storm of Swords (A Song of Ice and Fire, #3)  ...        4.471466\n",
              "186074    The Name of the Wind (The Kingkiller Chronicle...  ...        4.469922\n",
              "1215032   The Wise Man's Fear (The Kingkiller Chronicle,...  ...        4.446163\n",
              "18512     The Return of the King (The Lord of the Rings,...  ...        4.444645\n",
              "2         Harry Potter and the Order of the Phoenix (Har...  ...        4.442607\n",
              "17927395  A Court of Mist and Fury (A Court of Thorns an...  ...        4.441935\n",
              "7235533       The Way of Kings (The Stormlight Archive, #1)  ...        4.435102\n",
              "3         Harry Potter and the Sorcerer's Stone (Harry P...  ...        4.433575\n",
              "4667024                                            The Help  ...        4.430818\n",
              "13496        A Game of Thrones (A Song of Ice and Fire, #1)  ...        4.427878\n",
              "\n",
              "[15 rows x 7 columns]"
            ]
          },
          "metadata": {
            "tags": []
          },
          "execution_count": 24
        }
      ]
    },
    {
      "cell_type": "code",
      "metadata": {
        "id": "3YjaavNdWr6_",
        "colab": {
          "base_uri": "https://localhost:8080/"
        },
        "outputId": "8c6c47a4-680f-44ef-f45a-c02bf9e3e370"
      },
      "source": [
        "list(enumerate(available_genres.tag_name))"
      ],
      "execution_count": null,
      "outputs": [
        {
          "output_type": "execute_result",
          "data": {
            "text/plain": [
              "[(0, 'art'),\n",
              " (1, 'biography'),\n",
              " (2, 'business'),\n",
              " (3, 'christian'),\n",
              " (4, 'classics'),\n",
              " (5, 'comics'),\n",
              " (6, 'contemporary'),\n",
              " (7, 'cookbooks'),\n",
              " (8, 'crime'),\n",
              " (9, 'ebooks'),\n",
              " (10, 'fantasy'),\n",
              " (11, 'fiction'),\n",
              " (12, 'history'),\n",
              " (13, 'horror'),\n",
              " (14, 'manga'),\n",
              " (15, 'memoir'),\n",
              " (16, 'music'),\n",
              " (17, 'mystery'),\n",
              " (18, 'nonfiction'),\n",
              " (19, 'paranormal'),\n",
              " (20, 'philosophy'),\n",
              " (21, 'poetry'),\n",
              " (22, 'psychology'),\n",
              " (23, 'religion'),\n",
              " (24, 'romance'),\n",
              " (25, 'science'),\n",
              " (26, 'spirituality'),\n",
              " (27, 'sports'),\n",
              " (28, 'suspense'),\n",
              " (29, 'thriller'),\n",
              " (30, 'travel')]"
            ]
          },
          "metadata": {
            "tags": []
          },
          "execution_count": 25
        }
      ]
    },
    {
      "cell_type": "code",
      "metadata": {
        "id": "MTp5oX4-YEgA",
        "colab": {
          "base_uri": "https://localhost:8080/",
          "height": 527
        },
        "outputId": "82b08efc-b26a-47e9-a31f-7839a202fa3a"
      },
      "source": [
        "idx = 24  # romance\n",
        "build_chart(list(available_genres.tag_name)[idx])[cols].head(15)"
      ],
      "execution_count": null,
      "outputs": [
        {
          "output_type": "execute_result",
          "data": {
            "text/html": [
              "<div>\n",
              "<style scoped>\n",
              "    .dataframe tbody tr th:only-of-type {\n",
              "        vertical-align: middle;\n",
              "    }\n",
              "\n",
              "    .dataframe tbody tr th {\n",
              "        vertical-align: top;\n",
              "    }\n",
              "\n",
              "    .dataframe thead th {\n",
              "        text-align: right;\n",
              "    }\n",
              "</style>\n",
              "<table border=\"1\" class=\"dataframe\">\n",
              "  <thead>\n",
              "    <tr style=\"text-align: right;\">\n",
              "      <th></th>\n",
              "      <th>title</th>\n",
              "      <th>authors</th>\n",
              "      <th>original_publication_year</th>\n",
              "      <th>average_rating</th>\n",
              "      <th>ratings_count</th>\n",
              "      <th>work_text_reviews_count</th>\n",
              "      <th>weighted_rating</th>\n",
              "    </tr>\n",
              "    <tr>\n",
              "      <th>book_id</th>\n",
              "      <th></th>\n",
              "      <th></th>\n",
              "      <th></th>\n",
              "      <th></th>\n",
              "      <th></th>\n",
              "      <th></th>\n",
              "      <th></th>\n",
              "    </tr>\n",
              "  </thead>\n",
              "  <tbody>\n",
              "    <tr>\n",
              "      <th>136251</th>\n",
              "      <td>Harry Potter and the Deathly Hallows (Harry Po...</td>\n",
              "      <td>J.K. Rowling, Mary GrandPré</td>\n",
              "      <td>2007</td>\n",
              "      <td>4.61</td>\n",
              "      <td>1746574</td>\n",
              "      <td>51942</td>\n",
              "      <td>4.586504</td>\n",
              "    </tr>\n",
              "    <tr>\n",
              "      <th>862041</th>\n",
              "      <td>Harry Potter Boxset (Harry Potter, #1-7)</td>\n",
              "      <td>J.K. Rowling</td>\n",
              "      <td>1998</td>\n",
              "      <td>4.74</td>\n",
              "      <td>190050</td>\n",
              "      <td>6508</td>\n",
              "      <td>4.540846</td>\n",
              "    </tr>\n",
              "    <tr>\n",
              "      <th>1</th>\n",
              "      <td>Harry Potter and the Half-Blood Prince (Harry ...</td>\n",
              "      <td>J.K. Rowling, Mary GrandPré</td>\n",
              "      <td>2005</td>\n",
              "      <td>4.54</td>\n",
              "      <td>1678823</td>\n",
              "      <td>27520</td>\n",
              "      <td>4.518389</td>\n",
              "    </tr>\n",
              "    <tr>\n",
              "      <th>62291</th>\n",
              "      <td>A Storm of Swords (A Song of Ice and Fire, #3)</td>\n",
              "      <td>George R.R. Martin</td>\n",
              "      <td>2000</td>\n",
              "      <td>4.54</td>\n",
              "      <td>469022</td>\n",
              "      <td>19497</td>\n",
              "      <td>4.469871</td>\n",
              "    </tr>\n",
              "    <tr>\n",
              "      <th>186074</th>\n",
              "      <td>The Name of the Wind (The Kingkiller Chronicle...</td>\n",
              "      <td>Patrick Rothfuss</td>\n",
              "      <td>2007</td>\n",
              "      <td>4.55</td>\n",
              "      <td>400101</td>\n",
              "      <td>28631</td>\n",
              "      <td>4.468099</td>\n",
              "    </tr>\n",
              "    <tr>\n",
              "      <th>1215032</th>\n",
              "      <td>The Wise Man's Fear (The Kingkiller Chronicle,...</td>\n",
              "      <td>Patrick Rothfuss</td>\n",
              "      <td>2011</td>\n",
              "      <td>4.57</td>\n",
              "      <td>245686</td>\n",
              "      <td>15503</td>\n",
              "      <td>4.443591</td>\n",
              "    </tr>\n",
              "    <tr>\n",
              "      <th>2</th>\n",
              "      <td>Harry Potter and the Order of the Phoenix (Har...</td>\n",
              "      <td>J.K. Rowling, Mary GrandPré</td>\n",
              "      <td>2003</td>\n",
              "      <td>4.46</td>\n",
              "      <td>1735368</td>\n",
              "      <td>28685</td>\n",
              "      <td>4.442161</td>\n",
              "    </tr>\n",
              "    <tr>\n",
              "      <th>13496</th>\n",
              "      <td>A Game of Thrones (A Song of Ice and Fire, #1)</td>\n",
              "      <td>George R.R. Martin</td>\n",
              "      <td>1996</td>\n",
              "      <td>4.45</td>\n",
              "      <td>1319204</td>\n",
              "      <td>46205</td>\n",
              "      <td>4.427319</td>\n",
              "    </tr>\n",
              "    <tr>\n",
              "      <th>4502507</th>\n",
              "      <td>The Last Olympian (Percy Jackson and the Olymp...</td>\n",
              "      <td>Rick Riordan</td>\n",
              "      <td>2009</td>\n",
              "      <td>4.50</td>\n",
              "      <td>397500</td>\n",
              "      <td>17693</td>\n",
              "      <td>4.425116</td>\n",
              "    </tr>\n",
              "    <tr>\n",
              "      <th>21853621</th>\n",
              "      <td>The Nightingale</td>\n",
              "      <td>Kristin Hannah</td>\n",
              "      <td>2015</td>\n",
              "      <td>4.54</td>\n",
              "      <td>253606</td>\n",
              "      <td>37279</td>\n",
              "      <td>4.423164</td>\n",
              "    </tr>\n",
              "    <tr>\n",
              "      <th>18335634</th>\n",
              "      <td>Clockwork Princess (The Infernal Devices, #3)</td>\n",
              "      <td>Cassandra Clare</td>\n",
              "      <td>2013</td>\n",
              "      <td>4.59</td>\n",
              "      <td>162099</td>\n",
              "      <td>23261</td>\n",
              "      <td>4.412013</td>\n",
              "    </tr>\n",
              "    <tr>\n",
              "      <th>17332218</th>\n",
              "      <td>Words of Radiance (The Stormlight Archive, #2)</td>\n",
              "      <td>Brandon Sanderson</td>\n",
              "      <td>2014</td>\n",
              "      <td>4.77</td>\n",
              "      <td>73572</td>\n",
              "      <td>7261</td>\n",
              "      <td>4.394486</td>\n",
              "    </tr>\n",
              "    <tr>\n",
              "      <th>12127810</th>\n",
              "      <td>The House of Hades (The Heroes of Olympus, #4)</td>\n",
              "      <td>Rick Riordan</td>\n",
              "      <td>2013</td>\n",
              "      <td>4.54</td>\n",
              "      <td>159774</td>\n",
              "      <td>11843</td>\n",
              "      <td>4.375419</td>\n",
              "    </tr>\n",
              "    <tr>\n",
              "      <th>12127750</th>\n",
              "      <td>The Mark of Athena (The Heroes of Olympus, #3)</td>\n",
              "      <td>Rick Riordan</td>\n",
              "      <td>2012</td>\n",
              "      <td>4.47</td>\n",
              "      <td>277491</td>\n",
              "      <td>13332</td>\n",
              "      <td>4.375274</td>\n",
              "    </tr>\n",
              "    <tr>\n",
              "      <th>10025305</th>\n",
              "      <td>Clockwork Prince (The Infernal Devices, #2)</td>\n",
              "      <td>Cassandra Clare</td>\n",
              "      <td>2011</td>\n",
              "      <td>4.46</td>\n",
              "      <td>307994</td>\n",
              "      <td>17854</td>\n",
              "      <td>4.374770</td>\n",
              "    </tr>\n",
              "  </tbody>\n",
              "</table>\n",
              "</div>"
            ],
            "text/plain": [
              "                                                      title  ... weighted_rating\n",
              "book_id                                                      ...                \n",
              "136251    Harry Potter and the Deathly Hallows (Harry Po...  ...        4.586504\n",
              "862041             Harry Potter Boxset (Harry Potter, #1-7)  ...        4.540846\n",
              "1         Harry Potter and the Half-Blood Prince (Harry ...  ...        4.518389\n",
              "62291        A Storm of Swords (A Song of Ice and Fire, #3)  ...        4.469871\n",
              "186074    The Name of the Wind (The Kingkiller Chronicle...  ...        4.468099\n",
              "1215032   The Wise Man's Fear (The Kingkiller Chronicle,...  ...        4.443591\n",
              "2         Harry Potter and the Order of the Phoenix (Har...  ...        4.442161\n",
              "13496        A Game of Thrones (A Song of Ice and Fire, #1)  ...        4.427319\n",
              "4502507   The Last Olympian (Percy Jackson and the Olymp...  ...        4.425116\n",
              "21853621                                    The Nightingale  ...        4.423164\n",
              "18335634      Clockwork Princess (The Infernal Devices, #3)  ...        4.412013\n",
              "17332218     Words of Radiance (The Stormlight Archive, #2)  ...        4.394486\n",
              "12127810     The House of Hades (The Heroes of Olympus, #4)  ...        4.375419\n",
              "12127750     The Mark of Athena (The Heroes of Olympus, #3)  ...        4.375274\n",
              "10025305        Clockwork Prince (The Infernal Devices, #2)  ...        4.374770\n",
              "\n",
              "[15 rows x 7 columns]"
            ]
          },
          "metadata": {
            "tags": []
          },
          "execution_count": 26
        }
      ]
    },
    {
      "cell_type": "markdown",
      "metadata": {
        "id": "hroF9GNx6kuV"
      },
      "source": [
        "# Content Based Recommender <a id=\"6\"></a> <br>\n",
        "\n",
        "![](https://miro.medium.com/max/828/1*1b-yMSGZ1HfxvHiJCiPV7Q.png)\n",
        "\n",
        "The recommender we built in the previous section suffers some severe limitations. For one, it gives the same recommendation to everyone, regardless of the user's personal taste. If a person who loves business books (and hates fiction) were to look at our Top 15 Chart, s/he wouldn't probably like most of the books. If s/he were to go one step further and look at our charts by genre, s/he wouldn't still be getting the best recommendations.\n",
        "\n",
        "For instance, consider a person who loves *The Fault in Our Stars*, *Twilight*. One inference we can obtain is that the person loves the romaintic books. Even if s/he were to access the romance chart, s/he wouldn't find these as the top recommendations.\n",
        "\n",
        "To personalise our recommendations more, I am going to build an engine that computes similarity between movies based on certain metrics and suggests books that are most similar to a particular book that a user liked. Since we will be using book metadata (or content) to build this engine, this also known as **Content Based Filtering.**\n",
        "\n",
        "I will build this recommender based on book's Title, Authors and Genres."
      ]
    },
    {
      "cell_type": "code",
      "metadata": {
        "id": "DQShWhLZ6kpR"
      },
      "source": [
        "from sklearn.feature_extraction.text import TfidfVectorizer, CountVectorizer\n",
        "from sklearn.metrics.pairwise import linear_kernel, cosine_similarity"
      ],
      "execution_count": null,
      "outputs": []
    },
    {
      "cell_type": "markdown",
      "metadata": {
        "id": "e7WsQcOwnQue"
      },
      "source": [
        "These are steps:\n",
        "1. **Strip Spaces and Convert to Lowercase** from authors. This way, our engine will not confuse between **Stephen Covey** and **Stephen King**.\n",
        "2. Combining books with their corresponding **genres** .\n",
        "2. I then use a **Count Vectorizer** to create our count matrix.\n",
        "\n",
        "Finally, we calculate the cosine similarities and return books that are most similar."
      ]
    },
    {
      "cell_type": "code",
      "metadata": {
        "id": "HokM9GCS6gnW"
      },
      "source": [
        "books['authors'] = books['authors'].apply(lambda x: [str.lower(i.replace(\" \", \"\")) for i in x.split(', ')])"
      ],
      "execution_count": null,
      "outputs": []
    },
    {
      "cell_type": "code",
      "metadata": {
        "id": "ip1sb3mXqqrz"
      },
      "source": [
        "def get_genres(x):\n",
        "    t = book_tags[book_tags.goodreads_book_id==x]\n",
        "    return [i.lower().replace(\" \", \"\") for i in tags.tag_name.loc[t.tag_id].values]"
      ],
      "execution_count": null,
      "outputs": []
    },
    {
      "cell_type": "code",
      "metadata": {
        "id": "spP7eG0Jqqeh"
      },
      "source": [
        "books['genres'] = books.book_id.apply(get_genres)"
      ],
      "execution_count": null,
      "outputs": []
    },
    {
      "cell_type": "code",
      "metadata": {
        "id": "iqSKkmECZMhM"
      },
      "source": [
        "books['soup'] = books.apply(lambda x: ' '.join([x['title']] + x['authors'] + x['genres']), axis=1)"
      ],
      "execution_count": null,
      "outputs": []
    },
    {
      "cell_type": "code",
      "metadata": {
        "id": "c479L2y_ZLof",
        "colab": {
          "base_uri": "https://localhost:8080/"
        },
        "outputId": "d594f3b9-462b-4960-a67d-d68d7ee32053"
      },
      "source": [
        "books.soup.head()"
      ],
      "execution_count": null,
      "outputs": [
        {
          "output_type": "execute_result",
          "data": {
            "text/plain": [
              "0    The Hunger Games (The Hunger Games, #1) suzann...\n",
              "1    Harry Potter and the Sorcerer's Stone (Harry P...\n",
              "2    Twilight (Twilight, #1) stepheniemeyer young-a...\n",
              "3    To Kill a Mockingbird harperlee classics favor...\n",
              "4    The Great Gatsby f.scottfitzgerald classics fa...\n",
              "Name: soup, dtype: object"
            ]
          },
          "metadata": {
            "tags": []
          },
          "execution_count": 32
        }
      ]
    },
    {
      "cell_type": "code",
      "metadata": {
        "id": "sPNi5G9BPlJD"
      },
      "source": [
        "count = CountVectorizer(analyzer='word',ngram_range=(1, 2),min_df=0, stop_words='english')\n",
        "count_matrix = count.fit_transform(books['soup'])"
      ],
      "execution_count": null,
      "outputs": []
    },
    {
      "cell_type": "markdown",
      "metadata": {
        "id": "f_7rPZLbmpb4"
      },
      "source": [
        "## Cosine Similarity <a id=\"7\"></a> <br>\n",
        "\n",
        "\n",
        "\n"
      ]
    },
    {
      "cell_type": "code",
      "metadata": {
        "id": "T6MhcaD9PlEo"
      },
      "source": [
        "cosine_sim = cosine_similarity(count_matrix, count_matrix)"
      ],
      "execution_count": null,
      "outputs": []
    },
    {
      "cell_type": "code",
      "metadata": {
        "id": "c-ztOORJPlAL"
      },
      "source": [
        "indices = pd.Series(books.index, index=books['title'])\n",
        "titles = books['title']"
      ],
      "execution_count": null,
      "outputs": []
    },
    {
      "cell_type": "code",
      "metadata": {
        "id": "y7wmaielPk7Q"
      },
      "source": [
        "def get_recommendations(title, n=10):\n",
        "    idx = indices[title]\n",
        "    sim_scores = list(enumerate(cosine_sim[idx]))\n",
        "    sim_scores = sorted(sim_scores, key=lambda x: x[1], reverse=True)\n",
        "    sim_scores = sim_scores[1:31]\n",
        "    book_indices = [i[0] for i in sim_scores]\n",
        "    return list(titles.iloc[book_indices].values)[:n]"
      ],
      "execution_count": null,
      "outputs": []
    },
    {
      "cell_type": "code",
      "metadata": {
        "id": "SUYieXRigWaj",
        "colab": {
          "base_uri": "https://localhost:8080/"
        },
        "outputId": "688939fb-89be-4b05-a9f4-f7ac11b9d130"
      },
      "source": [
        "get_recommendations(\"The One Minute Manager\")"
      ],
      "execution_count": null,
      "outputs": [
        {
          "output_type": "execute_result",
          "data": {
            "text/plain": [
              "[\"Good to Great: Why Some Companies Make the Leap... and Others Don't\",\n",
              " \"First, Break All the Rules: What the World's Greatest Managers Do Differently\",\n",
              " 'Execution: The Discipline of Getting Things Done',\n",
              " \"What Got You Here Won't Get You There: How Successful People Become Even More Successful\",\n",
              " 'Start with Why: How Great Leaders Inspire Everyone to Take Action',\n",
              " 'Great by Choice: Uncertainty, Chaos, and Luck--Why Some Thrive Despite Them All',\n",
              " 'The 21 Irrefutable Laws of Leadership: Follow Them and People Will Follow You',\n",
              " 'The Speed of Trust: The One Thing that Changes Everything',\n",
              " 'Fish: A Proven Way to Boost Morale and Improve Results',\n",
              " 'Leadership and Self-Deception: Getting Out of the Box']"
            ]
          },
          "metadata": {
            "tags": []
          },
          "execution_count": 37
        }
      ]
    },
    {
      "cell_type": "markdown",
      "metadata": {
        "id": "lA-T1LSNrx7X"
      },
      "source": [
        "What if one can't remember the full name of the book!!\n",
        "\n",
        "So I created the following *method* to get book titles from a **partial** title."
      ]
    },
    {
      "cell_type": "code",
      "metadata": {
        "id": "ZT8MEPDePk0k"
      },
      "source": [
        "def get_name_from_partial(title):\n",
        "    return list(books.title[books.title.str.lower().str.contains(title) == True].values)"
      ],
      "execution_count": null,
      "outputs": []
    },
    {
      "cell_type": "code",
      "metadata": {
        "id": "dPR9Qi5hf8Xu",
        "colab": {
          "base_uri": "https://localhost:8080/"
        },
        "outputId": "828eb276-ccdb-4056-cbef-696e6ddea8ff"
      },
      "source": [
        "title = \"business\"\n",
        "l = get_name_from_partial(title)\n",
        "list(enumerate(l))"
      ],
      "execution_count": null,
      "outputs": [
        {
          "output_type": "execute_result",
          "data": {
            "text/plain": [
              "[(0, 'The Power of Habit: Why We Do What We Do in Life and Business'),\n",
              " (1,\n",
              "  \"The Lean Startup: How Today's Entrepreneurs Use Continuous Innovation to Create Radically Successful Businesses\"),\n",
              " (2,\n",
              "  'Caps for Sale: A Tale of a Peddler, Some Monkeys and Their Monkey Business'),\n",
              " (3,\n",
              "  \"The E-Myth Revisited: Why Most Small Businesses Don't Work and What to Do About It\"),\n",
              " (4, 'The Snowball: Warren Buffett and the Business of Life'),\n",
              " (5,\n",
              "  \"The Innovator's Dilemma: The Revolutionary Book that Will Change the Way You Do Business (Collins Business Essentials)\"),\n",
              " (6, 'The Intelligent Investor (Collins Business Essentials)'),\n",
              " (7, 'Purple Cow: Transform Your Business by Being Remarkable'),\n",
              " (8, 'Business Model Generation'),\n",
              " (9, 'The Long Tail: Why the Future of Business is Selling Less of More'),\n",
              " (10,\n",
              "  \"Losing My Virginity: How I've Survived, Had Fun, and Made a Fortune Doing Business My Way\"),\n",
              " (11,\n",
              "  'The Hard Thing About Hard Things: Building a Business When There Are No Easy Answers'),\n",
              " (12, 'Wicked Business (Lizzy & Diesel, #2)'),\n",
              " (13,\n",
              "  'The Effective Executive: The Definitive Guide to Getting the Right Things Done (Harperbusiness Essentials)'),\n",
              " (14,\n",
              "  'The Google Story: Inside the Hottest Business, Media, and Technology Success of Our Time'),\n",
              " (15, 'The Personal MBA: Master the Art of Business'),\n",
              " (16, 'Fifth Business'),\n",
              " (17,\n",
              "  'The Phoenix Project: A Novel About IT, DevOps, and Helping Your Business Win'),\n",
              " (18, 'Trouble Is My Business'),\n",
              " (19,\n",
              "  'Amusing Ourselves to Death: Public Discourse in the Age of Show Business'),\n",
              " (20,\n",
              "  'EntreLeadership: 20 Years of Practical Business Wisdom from the Trenches')]"
            ]
          },
          "metadata": {
            "tags": []
          },
          "execution_count": 39
        }
      ]
    },
    {
      "cell_type": "code",
      "metadata": {
        "id": "3lNMzyOJFudD",
        "colab": {
          "base_uri": "https://localhost:8080/"
        },
        "outputId": "7cb4e614-f06e-494d-921f-0777a3d44df0"
      },
      "source": [
        "get_recommendations(l[1])"
      ],
      "execution_count": null,
      "outputs": [
        {
          "output_type": "execute_result",
          "data": {
            "text/plain": [
              "['Rework',\n",
              " 'The Hard Thing About Hard Things: Building a Business When There Are No Easy Answers',\n",
              " 'Blue Ocean Strategy: How To Create Uncontested Market Space And Make The Competition Irrelevant',\n",
              " 'The Art of the Start: The Time-Tested, Battle-Hardened Guide for Anyone Starting Anything',\n",
              " \"Good to Great: Why Some Companies Make the Leap... and Others Don't\",\n",
              " 'Start with Why: How Great Leaders Inspire Everyone to Take Action',\n",
              " 'Zero to One: Notes on Startups, or How to Build the Future',\n",
              " \"The E-Myth Revisited: Why Most Small Businesses Don't Work and What to Do About It\",\n",
              " 'How Google Works',\n",
              " 'Delivering Happiness: A Path to Profits, Passion, and Purpose']"
            ]
          },
          "metadata": {
            "tags": []
          },
          "execution_count": 40
        }
      ]
    },
    {
      "cell_type": "markdown",
      "metadata": {
        "id": "_5OygKDAs5qU"
      },
      "source": [
        "## Popularity and Ratings <a id=\"8\"></a> <br>\n",
        "\n"
      ]
    },
    {
      "cell_type": "code",
      "metadata": {
        "id": "UvUjfFHeKZWZ"
      },
      "source": [
        "def improved_recommendations(title, n=10):\n",
        "    idx = indices[title]\n",
        "    sim_scores = list(enumerate(cosine_sim[idx]))\n",
        "    sim_scores = sorted(sim_scores, key=lambda x: x[1], reverse=True)\n",
        "    sim_scores = sim_scores[1:31]\n",
        "    book_indices = [i[0] for i in sim_scores]\n",
        "    df = books.iloc[book_indices][['title', 'ratings_count', 'average_rating', 'weighted_rating']]\n",
        "\n",
        "    v = df['ratings_count']\n",
        "    m = df['ratings_count'].quantile(0.60)\n",
        "    R = df['average_rating']\n",
        "    C = df['average_rating'].mean()\n",
        "    df['weighted_rating'] = (R*v + C*m) / (v + m)\n",
        "    \n",
        "    qualified = df[df['ratings_count'] >= m]\n",
        "    qualified = qualified.sort_values('weighted_rating', ascending=False)\n",
        "    return qualified.head(n)"
      ],
      "execution_count": null,
      "outputs": []
    },
    {
      "cell_type": "code",
      "metadata": {
        "id": "UWuNhj8bz2VL",
        "colab": {
          "base_uri": "https://localhost:8080/"
        },
        "outputId": "a3fc57e6-f8b8-4622-c231-57448b5ef82e"
      },
      "source": [
        "improved_recommendations(\"The One Minute Manager\")"
      ],
      "execution_count": null,
      "outputs": [
        {
          "output_type": "execute_result",
          "data": {
            "text/html": [
              "<div>\n",
              "<style scoped>\n",
              "    .dataframe tbody tr th:only-of-type {\n",
              "        vertical-align: middle;\n",
              "    }\n",
              "\n",
              "    .dataframe tbody tr th {\n",
              "        vertical-align: top;\n",
              "    }\n",
              "\n",
              "    .dataframe thead th {\n",
              "        text-align: right;\n",
              "    }\n",
              "</style>\n",
              "<table border=\"1\" class=\"dataframe\">\n",
              "  <thead>\n",
              "    <tr style=\"text-align: right;\">\n",
              "      <th></th>\n",
              "      <th>title</th>\n",
              "      <th>ratings_count</th>\n",
              "      <th>average_rating</th>\n",
              "      <th>weighted_rating</th>\n",
              "    </tr>\n",
              "  </thead>\n",
              "  <tbody>\n",
              "    <tr>\n",
              "      <th>2559</th>\n",
              "      <td>The 21 Irrefutable Laws of Leadership: Follow ...</td>\n",
              "      <td>30255</td>\n",
              "      <td>4.12</td>\n",
              "      <td>4.060190</td>\n",
              "    </tr>\n",
              "    <tr>\n",
              "      <th>246</th>\n",
              "      <td>The 7 Habits of Highly Effective People: Power...</td>\n",
              "      <td>314700</td>\n",
              "      <td>4.05</td>\n",
              "      <td>4.045478</td>\n",
              "    </tr>\n",
              "    <tr>\n",
              "      <th>3234</th>\n",
              "      <td>Start with Why: How Great Leaders Inspire Ever...</td>\n",
              "      <td>32899</td>\n",
              "      <td>4.07</td>\n",
              "      <td>4.035066</td>\n",
              "    </tr>\n",
              "    <tr>\n",
              "      <th>931</th>\n",
              "      <td>Good to Great: Why Some Companies Make the Lea...</td>\n",
              "      <td>85277</td>\n",
              "      <td>4.04</td>\n",
              "      <td>4.028535</td>\n",
              "    </tr>\n",
              "    <tr>\n",
              "      <th>2326</th>\n",
              "      <td>The Five Dysfunctions of a Team: A Leadership ...</td>\n",
              "      <td>40239</td>\n",
              "      <td>4.01</td>\n",
              "      <td>4.002625</td>\n",
              "    </tr>\n",
              "    <tr>\n",
              "      <th>2387</th>\n",
              "      <td>Delivering Happiness: A Path to Profits, Passi...</td>\n",
              "      <td>37601</td>\n",
              "      <td>4.01</td>\n",
              "      <td>4.002321</td>\n",
              "    </tr>\n",
              "    <tr>\n",
              "      <th>2413</th>\n",
              "      <td>The E-Myth Revisited: Why Most Small Businesse...</td>\n",
              "      <td>37671</td>\n",
              "      <td>3.98</td>\n",
              "      <td>3.984657</td>\n",
              "    </tr>\n",
              "    <tr>\n",
              "      <th>2219</th>\n",
              "      <td>Built to Last: Successful Habits of Visionary ...</td>\n",
              "      <td>39618</td>\n",
              "      <td>3.98</td>\n",
              "      <td>3.984520</td>\n",
              "    </tr>\n",
              "    <tr>\n",
              "      <th>3360</th>\n",
              "      <td>First, Break All the Rules: What the World's G...</td>\n",
              "      <td>27207</td>\n",
              "      <td>3.92</td>\n",
              "      <td>3.955049</td>\n",
              "    </tr>\n",
              "    <tr>\n",
              "      <th>989</th>\n",
              "      <td>Rework</td>\n",
              "      <td>88626</td>\n",
              "      <td>3.93</td>\n",
              "      <td>3.944028</td>\n",
              "    </tr>\n",
              "  </tbody>\n",
              "</table>\n",
              "</div>"
            ],
            "text/plain": [
              "                                                  title  ...  weighted_rating\n",
              "2559  The 21 Irrefutable Laws of Leadership: Follow ...  ...         4.060190\n",
              "246   The 7 Habits of Highly Effective People: Power...  ...         4.045478\n",
              "3234  Start with Why: How Great Leaders Inspire Ever...  ...         4.035066\n",
              "931   Good to Great: Why Some Companies Make the Lea...  ...         4.028535\n",
              "2326  The Five Dysfunctions of a Team: A Leadership ...  ...         4.002625\n",
              "2387  Delivering Happiness: A Path to Profits, Passi...  ...         4.002321\n",
              "2413  The E-Myth Revisited: Why Most Small Businesse...  ...         3.984657\n",
              "2219  Built to Last: Successful Habits of Visionary ...  ...         3.984520\n",
              "3360  First, Break All the Rules: What the World's G...  ...         3.955049\n",
              "989                                              Rework  ...         3.944028\n",
              "\n",
              "[10 rows x 4 columns]"
            ]
          },
          "metadata": {
            "tags": []
          },
          "execution_count": 42
        }
      ]
    },
    {
      "cell_type": "code",
      "metadata": {
        "id": "zB2IHYxTUJ6j",
        "colab": {
          "base_uri": "https://localhost:8080/"
        },
        "outputId": "8a81f15f-f4f4-42a5-b57a-f4905dc25dbc"
      },
      "source": [
        "improved_recommendations(l[1])"
      ],
      "execution_count": null,
      "outputs": [
        {
          "output_type": "execute_result",
          "data": {
            "text/html": [
              "<div>\n",
              "<style scoped>\n",
              "    .dataframe tbody tr th:only-of-type {\n",
              "        vertical-align: middle;\n",
              "    }\n",
              "\n",
              "    .dataframe tbody tr th {\n",
              "        vertical-align: top;\n",
              "    }\n",
              "\n",
              "    .dataframe thead th {\n",
              "        text-align: right;\n",
              "    }\n",
              "</style>\n",
              "<table border=\"1\" class=\"dataframe\">\n",
              "  <thead>\n",
              "    <tr style=\"text-align: right;\">\n",
              "      <th></th>\n",
              "      <th>title</th>\n",
              "      <th>ratings_count</th>\n",
              "      <th>average_rating</th>\n",
              "      <th>weighted_rating</th>\n",
              "    </tr>\n",
              "  </thead>\n",
              "  <tbody>\n",
              "    <tr>\n",
              "      <th>2165</th>\n",
              "      <td>Zero to One: Notes on Startups, or How to Buil...</td>\n",
              "      <td>47807</td>\n",
              "      <td>4.17</td>\n",
              "      <td>4.097532</td>\n",
              "    </tr>\n",
              "    <tr>\n",
              "      <th>3234</th>\n",
              "      <td>Start with Why: How Great Leaders Inspire Ever...</td>\n",
              "      <td>32899</td>\n",
              "      <td>4.07</td>\n",
              "      <td>4.024009</td>\n",
              "    </tr>\n",
              "    <tr>\n",
              "      <th>931</th>\n",
              "      <td>Good to Great: Why Some Companies Make the Lea...</td>\n",
              "      <td>85277</td>\n",
              "      <td>4.04</td>\n",
              "      <td>4.022673</td>\n",
              "    </tr>\n",
              "    <tr>\n",
              "      <th>2387</th>\n",
              "      <td>Delivering Happiness: A Path to Profits, Passi...</td>\n",
              "      <td>37601</td>\n",
              "      <td>4.01</td>\n",
              "      <td>3.992207</td>\n",
              "    </tr>\n",
              "    <tr>\n",
              "      <th>2219</th>\n",
              "      <td>Built to Last: Successful Habits of Visionary ...</td>\n",
              "      <td>39618</td>\n",
              "      <td>3.98</td>\n",
              "      <td>3.974785</td>\n",
              "    </tr>\n",
              "    <tr>\n",
              "      <th>2413</th>\n",
              "      <td>The E-Myth Revisited: Why Most Small Businesse...</td>\n",
              "      <td>37671</td>\n",
              "      <td>3.98</td>\n",
              "      <td>3.974627</td>\n",
              "    </tr>\n",
              "    <tr>\n",
              "      <th>1925</th>\n",
              "      <td>Made to Stick: Why Some Ideas Survive and Othe...</td>\n",
              "      <td>46736</td>\n",
              "      <td>3.97</td>\n",
              "      <td>3.968913</td>\n",
              "    </tr>\n",
              "    <tr>\n",
              "      <th>3360</th>\n",
              "      <td>First, Break All the Rules: What the World's G...</td>\n",
              "      <td>27207</td>\n",
              "      <td>3.92</td>\n",
              "      <td>3.943209</td>\n",
              "    </tr>\n",
              "    <tr>\n",
              "      <th>989</th>\n",
              "      <td>Rework</td>\n",
              "      <td>88626</td>\n",
              "      <td>3.93</td>\n",
              "      <td>3.938527</td>\n",
              "    </tr>\n",
              "    <tr>\n",
              "      <th>2685</th>\n",
              "      <td>Blue Ocean Strategy: How To Create Uncontested...</td>\n",
              "      <td>30665</td>\n",
              "      <td>3.86</td>\n",
              "      <td>3.909643</td>\n",
              "    </tr>\n",
              "  </tbody>\n",
              "</table>\n",
              "</div>"
            ],
            "text/plain": [
              "                                                  title  ...  weighted_rating\n",
              "2165  Zero to One: Notes on Startups, or How to Buil...  ...         4.097532\n",
              "3234  Start with Why: How Great Leaders Inspire Ever...  ...         4.024009\n",
              "931   Good to Great: Why Some Companies Make the Lea...  ...         4.022673\n",
              "2387  Delivering Happiness: A Path to Profits, Passi...  ...         3.992207\n",
              "2219  Built to Last: Successful Habits of Visionary ...  ...         3.974785\n",
              "2413  The E-Myth Revisited: Why Most Small Businesse...  ...         3.974627\n",
              "1925  Made to Stick: Why Some Ideas Survive and Othe...  ...         3.968913\n",
              "3360  First, Break All the Rules: What the World's G...  ...         3.943209\n",
              "989                                              Rework  ...         3.938527\n",
              "2685  Blue Ocean Strategy: How To Create Uncontested...  ...         3.909643\n",
              "\n",
              "[10 rows x 4 columns]"
            ]
          },
          "metadata": {
            "tags": []
          },
          "execution_count": 43
        }
      ]
    },
    {
      "cell_type": "markdown",
      "metadata": {
        "id": "P-w7hqRr0USI"
      },
      "source": [
        "I think the sorting of similar is more better now than before.\n",
        "Therefore, we will conclude our Content Based Recommender section here and come back to it when we build a hybrid engine.\n"
      ]
    },
    {
      "cell_type": "markdown",
      "metadata": {
        "id": "O4LRJVQwQKgJ"
      },
      "source": [
        "# Collaborative Filtering <a id=\"9\"></a> <br>\n",
        "\n",
        "![](https://miro.medium.com/max/706/1*DYJ-HQnOVvmm5suNtqV3Jw.png)\n",
        "\n",
        "Our content based engine suffers from some severe limitations. It is only capable of suggesting books which are *close* to a certain book. That is, it is not capable of capturing tastes and providing recommendations across genres.\n",
        "\n",
        "Also, the engine that we built is not really personal in that it doesn't capture the personal tastes and biases of a user. Anyone querying our engine for recommendations based on a book will receive the same recommendations for that book, regardless of who s/he is.\n",
        "\n",
        "Therefore, in this section, we will use a technique called **Collaborative Filtering** to make recommendations to Book Readers. Collaborative Filtering is based on the idea that users similar to a me can be used to predict how much I will like a particular product or service those users have used/experienced but I have not.\n",
        "\n",
        "I will not be implementing Collaborative Filtering from scratch. Instead, I will use the **Surprise** library that used extremely powerful algorithms like **Singular Value Decomposition (SVD)** to minimise RMSE (Root Mean Square Error) and give great recommendations."
      ]
    },
    {
      "cell_type": "markdown",
      "metadata": {
        "id": "YlrvMxcu1isO"
      },
      "source": [
        "There are two classes of Collaborative Filtering:\n",
        "\n",
        "- **User-based**, which measures the similarity between target users and other users.\n",
        "- **Item-based**, which measures the similarity between the items that target users rate or interact with and other items."
      ]
    },
    {
      "cell_type": "markdown",
      "metadata": {
        "id": "xYhmwHYmpRz-"
      },
      "source": [
        "## - User Based <a id=\"10\"></a> <br>"
      ]
    },
    {
      "cell_type": "code",
      "metadata": {
        "id": "hDzV5XLCJqYV",
        "colab": {
          "base_uri": "https://localhost:8080/"
        },
        "outputId": "4302589d-4345-4737-c6fb-0f465ad49e79"
      },
      "source": [
        " ! pip install surprise"
      ],
      "execution_count": null,
      "outputs": [
        {
          "output_type": "stream",
          "text": [
            "Collecting surprise\n",
            "  Downloading https://files.pythonhosted.org/packages/61/de/e5cba8682201fcf9c3719a6fdda95693468ed061945493dea2dd37c5618b/surprise-0.1-py2.py3-none-any.whl\n",
            "Collecting scikit-surprise\n",
            "\u001b[?25l  Downloading https://files.pythonhosted.org/packages/97/37/5d334adaf5ddd65da99fc65f6507e0e4599d092ba048f4302fe8775619e8/scikit-surprise-1.1.1.tar.gz (11.8MB)\n",
            "\u001b[K     |████████████████████████████████| 11.8MB 356kB/s \n",
            "\u001b[?25hRequirement already satisfied: joblib>=0.11 in /usr/local/lib/python3.7/dist-packages (from scikit-surprise->surprise) (1.0.1)\n",
            "Requirement already satisfied: numpy>=1.11.2 in /usr/local/lib/python3.7/dist-packages (from scikit-surprise->surprise) (1.19.5)\n",
            "Requirement already satisfied: scipy>=1.0.0 in /usr/local/lib/python3.7/dist-packages (from scikit-surprise->surprise) (1.4.1)\n",
            "Requirement already satisfied: six>=1.10.0 in /usr/local/lib/python3.7/dist-packages (from scikit-surprise->surprise) (1.15.0)\n",
            "Building wheels for collected packages: scikit-surprise\n",
            "  Building wheel for scikit-surprise (setup.py) ... \u001b[?25l\u001b[?25hdone\n",
            "  Created wheel for scikit-surprise: filename=scikit_surprise-1.1.1-cp37-cp37m-linux_x86_64.whl size=1617552 sha256=271c082eb824172818dfcd32aeef25314ca32f80d6d125fb252d624d0b9895c6\n",
            "  Stored in directory: /root/.cache/pip/wheels/78/9c/3d/41b419c9d2aff5b6e2b4c0fc8d25c538202834058f9ed110d0\n",
            "Successfully built scikit-surprise\n",
            "Installing collected packages: scikit-surprise, surprise\n",
            "Successfully installed scikit-surprise-1.1.1 surprise-0.1\n"
          ],
          "name": "stdout"
        }
      ]
    },
    {
      "cell_type": "code",
      "metadata": {
        "id": "ma2geO1AJqVS"
      },
      "source": [
        "from surprise import Reader, Dataset, SVD\n",
        "from surprise.model_selection import cross_validate"
      ],
      "execution_count": null,
      "outputs": []
    },
    {
      "cell_type": "code",
      "metadata": {
        "id": "FAc--07dJqPJ"
      },
      "source": [
        "reader = Reader()\n",
        "data = Dataset.load_from_df(new_ratings[['user_id', 'book_id', 'rating']], reader)"
      ],
      "execution_count": null,
      "outputs": []
    },
    {
      "cell_type": "code",
      "metadata": {
        "id": "WBbpWOjiFvpI",
        "colab": {
          "base_uri": "https://localhost:8080/"
        },
        "outputId": "e3d2c085-9b53-4223-e518-62f871382aa1"
      },
      "source": [
        "svd = SVD()\n",
        "cross_validate(svd, data, measures=['RMSE', 'MAE'])"
      ],
      "execution_count": null,
      "outputs": [
        {
          "output_type": "execute_result",
          "data": {
            "text/plain": [
              "{'fit_time': (53.46824908256531,\n",
              "  53.105664014816284,\n",
              "  54.16753578186035,\n",
              "  54.08260655403137,\n",
              "  53.87670087814331),\n",
              " 'test_mae': array([0.65714115, 0.65859064, 0.65876207, 0.65897758, 0.65838884]),\n",
              " 'test_rmse': array([0.84070894, 0.84234279, 0.84243058, 0.84235236, 0.8418887 ]),\n",
              " 'test_time': (2.9268970489501953,\n",
              "  2.873692750930786,\n",
              "  2.524648427963257,\n",
              "  2.904585123062134,\n",
              "  2.943122386932373)}"
            ]
          },
          "metadata": {
            "tags": []
          },
          "execution_count": 53
        }
      ]
    },
    {
      "cell_type": "markdown",
      "metadata": {
        "id": "93LFHQrM3s5B"
      },
      "source": [
        "We get a mean **Root Mean Sqaure Error** of about 0.8419 which is more than good enough for our case. Let us now train on our dataset and arrive at predictions."
      ]
    },
    {
      "cell_type": "code",
      "metadata": {
        "id": "0cGcoWb3f8R6"
      },
      "source": [
        "trainset = data.build_full_trainset()\n",
        "svd.fit(trainset);"
      ],
      "execution_count": null,
      "outputs": []
    },
    {
      "cell_type": "markdown",
      "metadata": {
        "id": "mEdB7Umj4Eg3"
      },
      "source": [
        "Let us pick users 10 and check the ratings s/he has given."
      ]
    },
    {
      "cell_type": "code",
      "metadata": {
        "id": "cQu2DL_qFtai",
        "colab": {
          "base_uri": "https://localhost:8080/",
          "height": 527
        },
        "outputId": "57d50ff9-62bc-4271-c977-090f32e3c0b0"
      },
      "source": [
        "new_ratings[new_ratings['user_id'] == 10]"
      ],
      "execution_count": null,
      "outputs": [
        {
          "output_type": "execute_result",
          "data": {
            "text/html": [
              "<div>\n",
              "<style scoped>\n",
              "    .dataframe tbody tr th:only-of-type {\n",
              "        vertical-align: middle;\n",
              "    }\n",
              "\n",
              "    .dataframe tbody tr th {\n",
              "        vertical-align: top;\n",
              "    }\n",
              "\n",
              "    .dataframe thead th {\n",
              "        text-align: right;\n",
              "    }\n",
              "</style>\n",
              "<table border=\"1\" class=\"dataframe\">\n",
              "  <thead>\n",
              "    <tr style=\"text-align: right;\">\n",
              "      <th></th>\n",
              "      <th>book_id</th>\n",
              "      <th>user_id</th>\n",
              "      <th>rating</th>\n",
              "      <th>title</th>\n",
              "    </tr>\n",
              "  </thead>\n",
              "  <tbody>\n",
              "    <tr>\n",
              "      <th>150478</th>\n",
              "      <td>1506</td>\n",
              "      <td>10</td>\n",
              "      <td>4</td>\n",
              "      <td>The Zahir</td>\n",
              "    </tr>\n",
              "    <tr>\n",
              "      <th>282986</th>\n",
              "      <td>2833</td>\n",
              "      <td>10</td>\n",
              "      <td>4</td>\n",
              "      <td>The Prisoner of Heaven (The Cemetery of Forgot...</td>\n",
              "    </tr>\n",
              "    <tr>\n",
              "      <th>340448</th>\n",
              "      <td>3409</td>\n",
              "      <td>10</td>\n",
              "      <td>5</td>\n",
              "      <td>The Winner Stands Alone</td>\n",
              "    </tr>\n",
              "    <tr>\n",
              "      <th>393966</th>\n",
              "      <td>3946</td>\n",
              "      <td>10</td>\n",
              "      <td>5</td>\n",
              "      <td>Matterhorn</td>\n",
              "    </tr>\n",
              "    <tr>\n",
              "      <th>452158</th>\n",
              "      <td>4531</td>\n",
              "      <td>10</td>\n",
              "      <td>4</td>\n",
              "      <td>The Joke</td>\n",
              "    </tr>\n",
              "    <tr>\n",
              "      <th>506878</th>\n",
              "      <td>5084</td>\n",
              "      <td>10</td>\n",
              "      <td>2</td>\n",
              "      <td>The Sheltering Sky</td>\n",
              "    </tr>\n",
              "    <tr>\n",
              "      <th>588312</th>\n",
              "      <td>5907</td>\n",
              "      <td>10</td>\n",
              "      <td>4</td>\n",
              "      <td>Our Mutual Friend</td>\n",
              "    </tr>\n",
              "    <tr>\n",
              "      <th>590191</th>\n",
              "      <td>5926</td>\n",
              "      <td>10</td>\n",
              "      <td>2</td>\n",
              "      <td>The Night Watch</td>\n",
              "    </tr>\n",
              "    <tr>\n",
              "      <th>610487</th>\n",
              "      <td>6131</td>\n",
              "      <td>10</td>\n",
              "      <td>2</td>\n",
              "      <td>The Longest Day</td>\n",
              "    </tr>\n",
              "    <tr>\n",
              "      <th>696035</th>\n",
              "      <td>7002</td>\n",
              "      <td>10</td>\n",
              "      <td>5</td>\n",
              "      <td>A Mercy</td>\n",
              "    </tr>\n",
              "    <tr>\n",
              "      <th>743400</th>\n",
              "      <td>7486</td>\n",
              "      <td>10</td>\n",
              "      <td>4</td>\n",
              "      <td>Great House</td>\n",
              "    </tr>\n",
              "    <tr>\n",
              "      <th>759424</th>\n",
              "      <td>7651</td>\n",
              "      <td>10</td>\n",
              "      <td>4</td>\n",
              "      <td>All the Names</td>\n",
              "    </tr>\n",
              "    <tr>\n",
              "      <th>855593</th>\n",
              "      <td>8653</td>\n",
              "      <td>10</td>\n",
              "      <td>4</td>\n",
              "      <td>The End of Mr. Y</td>\n",
              "    </tr>\n",
              "    <tr>\n",
              "      <th>911432</th>\n",
              "      <td>9240</td>\n",
              "      <td>10</td>\n",
              "      <td>3</td>\n",
              "      <td>Arthur &amp; George</td>\n",
              "    </tr>\n",
              "    <tr>\n",
              "      <th>944600</th>\n",
              "      <td>9600</td>\n",
              "      <td>10</td>\n",
              "      <td>4</td>\n",
              "      <td>Await Your Reply</td>\n",
              "    </tr>\n",
              "    <tr>\n",
              "      <th>968243</th>\n",
              "      <td>9854</td>\n",
              "      <td>10</td>\n",
              "      <td>4</td>\n",
              "      <td>The Last Days of Dogtown</td>\n",
              "    </tr>\n",
              "  </tbody>\n",
              "</table>\n",
              "</div>"
            ],
            "text/plain": [
              "        book_id  ...                                              title\n",
              "150478     1506  ...                                          The Zahir\n",
              "282986     2833  ...  The Prisoner of Heaven (The Cemetery of Forgot...\n",
              "340448     3409  ...                            The Winner Stands Alone\n",
              "393966     3946  ...                                         Matterhorn\n",
              "452158     4531  ...                                           The Joke\n",
              "506878     5084  ...                                 The Sheltering Sky\n",
              "588312     5907  ...                                  Our Mutual Friend\n",
              "590191     5926  ...                                    The Night Watch\n",
              "610487     6131  ...                                    The Longest Day\n",
              "696035     7002  ...                                            A Mercy\n",
              "743400     7486  ...                                        Great House\n",
              "759424     7651  ...                                      All the Names\n",
              "855593     8653  ...                                   The End of Mr. Y\n",
              "911432     9240  ...                                    Arthur & George\n",
              "944600     9600  ...                                   Await Your Reply\n",
              "968243     9854  ...                           The Last Days of Dogtown\n",
              "\n",
              "[16 rows x 4 columns]"
            ]
          },
          "metadata": {
            "tags": []
          },
          "execution_count": 55
        }
      ]
    },
    {
      "cell_type": "code",
      "metadata": {
        "id": "lM6lZz5Hf8Nx",
        "colab": {
          "base_uri": "https://localhost:8080/"
        },
        "outputId": "ce5c3bd8-a311-49f2-ea33-833c09b30934"
      },
      "source": [
        "svd.predict(10, 1506)"
      ],
      "execution_count": null,
      "outputs": [
        {
          "output_type": "execute_result",
          "data": {
            "text/plain": [
              "Prediction(uid=10, iid=1506, r_ui=None, est=3.4994847667277775, details={'was_impossible': False})"
            ]
          },
          "metadata": {
            "tags": []
          },
          "execution_count": 56
        }
      ]
    },
    {
      "cell_type": "markdown",
      "metadata": {
        "id": "MCigIoXb4Rtb"
      },
      "source": [
        "For book with ID 1506, we get an estimated prediction of **3.393**. One startling feature of this recommender system is that it doesn't care what the book is (or what it contains). It works purely on the basis of an assigned book ID and tries to predict ratings based on how the other users have predicted the book."
      ]
    },
    {
      "cell_type": "markdown",
      "metadata": {
        "id": "6MJwxd8eoN5-"
      },
      "source": [
        "## - Item Based <a id=\"11\"></a> <br>"
      ]
    },
    {
      "cell_type": "markdown",
      "metadata": {
        "id": "SsvE9gny49gW"
      },
      "source": [
        "Here we will build a table for users with their corresponding ratings for each book. "
      ]
    },
    {
      "cell_type": "code",
      "metadata": {
        "id": "blM9oM3eX37p"
      },
      "source": [
        "# bookmat = new_ratings.groupby(['user_id', 'title'])['rating'].mean().unstack()\n",
        "bookmat = new_ratings.pivot_table(index='user_id', columns='title', values='rating')\n"
      ],
      "execution_count": null,
      "outputs": []
    },
    {
      "cell_type": "code",
      "metadata": {
        "id": "pJLBhd0RqrHY"
      },
      "source": [
        "def get_similar(title, mat):\n",
        "    title_user_ratings = mat[title]\n",
        "    similar_to_title = mat.corrwith(title_user_ratings)\n",
        "    corr_title = pd.DataFrame(similar_to_title, columns=['correlation'])\n",
        "    corr_title.dropna(inplace=True)\n",
        "    corr_title.sort_values('correlation', ascending=False, inplace=True)\n",
        "    return corr_title"
      ],
      "execution_count": null,
      "outputs": []
    },
    {
      "cell_type": "code",
      "metadata": {
        "id": "zqkD5qIhqrEj"
      },
      "source": [
        "title = \"Twilight (Twilight, #1)\"\n",
        "smlr = get_similar(title, bookmat)"
      ],
      "execution_count": null,
      "outputs": []
    },
    {
      "cell_type": "code",
      "metadata": {
        "id": "bmqoYLEXqrBs",
        "colab": {
          "base_uri": "https://localhost:8080/"
        },
        "outputId": "a2708ac7-c496-4522-fb63-ee10cbf59930"
      },
      "source": [
        "smlr.head(10)"
      ],
      "execution_count": null,
      "outputs": [
        {
          "output_type": "execute_result",
          "data": {
            "text/html": [
              "<div>\n",
              "<style scoped>\n",
              "    .dataframe tbody tr th:only-of-type {\n",
              "        vertical-align: middle;\n",
              "    }\n",
              "\n",
              "    .dataframe tbody tr th {\n",
              "        vertical-align: top;\n",
              "    }\n",
              "\n",
              "    .dataframe thead th {\n",
              "        text-align: right;\n",
              "    }\n",
              "</style>\n",
              "<table border=\"1\" class=\"dataframe\">\n",
              "  <thead>\n",
              "    <tr style=\"text-align: right;\">\n",
              "      <th></th>\n",
              "      <th>correlation</th>\n",
              "    </tr>\n",
              "    <tr>\n",
              "      <th>title</th>\n",
              "      <th></th>\n",
              "    </tr>\n",
              "  </thead>\n",
              "  <tbody>\n",
              "    <tr>\n",
              "      <th>god is Not Great: How Religion Poisons Everything</th>\n",
              "      <td>1.0</td>\n",
              "    </tr>\n",
              "    <tr>\n",
              "      <th>The Day of the Triffids</th>\n",
              "      <td>1.0</td>\n",
              "    </tr>\n",
              "    <tr>\n",
              "      <th>Skipping Christmas</th>\n",
              "      <td>1.0</td>\n",
              "    </tr>\n",
              "    <tr>\n",
              "      <th>Splintered (Splintered, #1)</th>\n",
              "      <td>1.0</td>\n",
              "    </tr>\n",
              "    <tr>\n",
              "      <th>Better Homes and Gardens New Cook Book</th>\n",
              "      <td>1.0</td>\n",
              "    </tr>\n",
              "    <tr>\n",
              "      <th>Stolen Songbird (The Malediction Trilogy, #1)</th>\n",
              "      <td>1.0</td>\n",
              "    </tr>\n",
              "    <tr>\n",
              "      <th>Bared to You (Crossfire, #1)</th>\n",
              "      <td>1.0</td>\n",
              "    </tr>\n",
              "    <tr>\n",
              "      <th>The Autobiography of Malcolm X</th>\n",
              "      <td>1.0</td>\n",
              "    </tr>\n",
              "    <tr>\n",
              "      <th>Balzac and the Little Chinese Seamstress</th>\n",
              "      <td>1.0</td>\n",
              "    </tr>\n",
              "    <tr>\n",
              "      <th>Bad Feminist</th>\n",
              "      <td>1.0</td>\n",
              "    </tr>\n",
              "  </tbody>\n",
              "</table>\n",
              "</div>"
            ],
            "text/plain": [
              "                                                   correlation\n",
              "title                                                         \n",
              "god is Not Great: How Religion Poisons Everything          1.0\n",
              "The Day of the Triffids                                    1.0\n",
              "Skipping Christmas                                         1.0\n",
              "Splintered (Splintered, #1)                                1.0\n",
              "Better Homes and Gardens New Cook Book                     1.0\n",
              "Stolen Songbird (The Malediction Trilogy, #1)              1.0\n",
              "Bared to You (Crossfire, #1)                               1.0\n",
              "The Autobiography of Malcolm X                             1.0\n",
              "Balzac and the Little Chinese Seamstress                   1.0\n",
              "Bad Feminist                                               1.0"
            ]
          },
          "metadata": {
            "tags": []
          },
          "execution_count": 60
        }
      ]
    },
    {
      "cell_type": "markdown",
      "metadata": {
        "id": "7AKRiItn5h3C"
      },
      "source": [
        "Ok, we got similar books, but we need to filter them by their *ratings_count*."
      ]
    },
    {
      "cell_type": "code",
      "metadata": {
        "id": "LpANWjjTqq_h",
        "colab": {
          "base_uri": "https://localhost:8080/"
        },
        "outputId": "f0012a6d-8fc9-483e-fd5f-36a1f048fe5b"
      },
      "source": [
        "smlr = smlr.join(books.set_index('title')['ratings_count'])\n",
        "smlr.head()"
      ],
      "execution_count": null,
      "outputs": [
        {
          "output_type": "execute_result",
          "data": {
            "text/html": [
              "<div>\n",
              "<style scoped>\n",
              "    .dataframe tbody tr th:only-of-type {\n",
              "        vertical-align: middle;\n",
              "    }\n",
              "\n",
              "    .dataframe tbody tr th {\n",
              "        vertical-align: top;\n",
              "    }\n",
              "\n",
              "    .dataframe thead th {\n",
              "        text-align: right;\n",
              "    }\n",
              "</style>\n",
              "<table border=\"1\" class=\"dataframe\">\n",
              "  <thead>\n",
              "    <tr style=\"text-align: right;\">\n",
              "      <th></th>\n",
              "      <th>correlation</th>\n",
              "      <th>ratings_count</th>\n",
              "    </tr>\n",
              "    <tr>\n",
              "      <th>title</th>\n",
              "      <th></th>\n",
              "      <th></th>\n",
              "    </tr>\n",
              "  </thead>\n",
              "  <tbody>\n",
              "    <tr>\n",
              "      <th>'Salem's Lot</th>\n",
              "      <td>0.275938</td>\n",
              "      <td>228680</td>\n",
              "    </tr>\n",
              "    <tr>\n",
              "      <th>'Salem's Lot</th>\n",
              "      <td>0.275938</td>\n",
              "      <td>72797</td>\n",
              "    </tr>\n",
              "    <tr>\n",
              "      <th>11/22/63</th>\n",
              "      <td>0.431331</td>\n",
              "      <td>258464</td>\n",
              "    </tr>\n",
              "    <tr>\n",
              "      <th>13 Little Blue Envelopes (Little Blue Envelope, #1)</th>\n",
              "      <td>-0.500000</td>\n",
              "      <td>66950</td>\n",
              "    </tr>\n",
              "    <tr>\n",
              "      <th>1776</th>\n",
              "      <td>0.301511</td>\n",
              "      <td>130293</td>\n",
              "    </tr>\n",
              "  </tbody>\n",
              "</table>\n",
              "</div>"
            ],
            "text/plain": [
              "                                                    correlation  ratings_count\n",
              "title                                                                         \n",
              "'Salem's Lot                                           0.275938         228680\n",
              "'Salem's Lot                                           0.275938          72797\n",
              "11/22/63                                               0.431331         258464\n",
              "13 Little Blue Envelopes (Little Blue Envelope,...    -0.500000          66950\n",
              "1776                                                   0.301511         130293"
            ]
          },
          "metadata": {
            "tags": []
          },
          "execution_count": 61
        }
      ]
    },
    {
      "cell_type": "markdown",
      "metadata": {
        "id": "ljfH1fu25yoN"
      },
      "source": [
        "Get similar books with at least 500k ratings."
      ]
    },
    {
      "cell_type": "code",
      "metadata": {
        "id": "wDQNFn-Xqq9c",
        "colab": {
          "base_uri": "https://localhost:8080/",
          "height": 377
        },
        "outputId": "f3dbb0c8-5f20-4aad-8ab5-895c9e219b6d"
      },
      "source": [
        "smlr[smlr.ratings_count > 5e5].sort_values('correlation', ascending=False).head(10)"
      ],
      "execution_count": null,
      "outputs": [
        {
          "output_type": "execute_result",
          "data": {
            "text/html": [
              "<div>\n",
              "<style scoped>\n",
              "    .dataframe tbody tr th:only-of-type {\n",
              "        vertical-align: middle;\n",
              "    }\n",
              "\n",
              "    .dataframe tbody tr th {\n",
              "        vertical-align: top;\n",
              "    }\n",
              "\n",
              "    .dataframe thead th {\n",
              "        text-align: right;\n",
              "    }\n",
              "</style>\n",
              "<table border=\"1\" class=\"dataframe\">\n",
              "  <thead>\n",
              "    <tr style=\"text-align: right;\">\n",
              "      <th></th>\n",
              "      <th>correlation</th>\n",
              "      <th>ratings_count</th>\n",
              "    </tr>\n",
              "    <tr>\n",
              "      <th>title</th>\n",
              "      <th></th>\n",
              "      <th></th>\n",
              "    </tr>\n",
              "  </thead>\n",
              "  <tbody>\n",
              "    <tr>\n",
              "      <th>Twilight (Twilight, #1)</th>\n",
              "      <td>1.000000</td>\n",
              "      <td>3866839</td>\n",
              "    </tr>\n",
              "    <tr>\n",
              "      <th>New Moon (Twilight, #2)</th>\n",
              "      <td>0.885400</td>\n",
              "      <td>1149630</td>\n",
              "    </tr>\n",
              "    <tr>\n",
              "      <th>The Selection (The Selection, #1)</th>\n",
              "      <td>0.866025</td>\n",
              "      <td>505340</td>\n",
              "    </tr>\n",
              "    <tr>\n",
              "      <th>Eclipse (Twilight, #3)</th>\n",
              "      <td>0.857845</td>\n",
              "      <td>1134511</td>\n",
              "    </tr>\n",
              "    <tr>\n",
              "      <th>Me Before You (Me Before You, #1)</th>\n",
              "      <td>0.771845</td>\n",
              "      <td>587647</td>\n",
              "    </tr>\n",
              "    <tr>\n",
              "      <th>Matched (Matched, #1)</th>\n",
              "      <td>0.707029</td>\n",
              "      <td>511815</td>\n",
              "    </tr>\n",
              "    <tr>\n",
              "      <th>Breaking Dawn (Twilight, #4)</th>\n",
              "      <td>0.689029</td>\n",
              "      <td>1070245</td>\n",
              "    </tr>\n",
              "    <tr>\n",
              "      <th>Bossypants</th>\n",
              "      <td>0.669954</td>\n",
              "      <td>506250</td>\n",
              "    </tr>\n",
              "    <tr>\n",
              "      <th>City of Bones (The Mortal Instruments, #1)</th>\n",
              "      <td>0.654081</td>\n",
              "      <td>1154031</td>\n",
              "    </tr>\n",
              "    <tr>\n",
              "      <th>The Perks of Being a Wallflower</th>\n",
              "      <td>0.574701</td>\n",
              "      <td>888806</td>\n",
              "    </tr>\n",
              "  </tbody>\n",
              "</table>\n",
              "</div>"
            ],
            "text/plain": [
              "                                            correlation  ratings_count\n",
              "title                                                                 \n",
              "Twilight (Twilight, #1)                        1.000000        3866839\n",
              "New Moon (Twilight, #2)                        0.885400        1149630\n",
              "The Selection (The Selection, #1)              0.866025         505340\n",
              "Eclipse (Twilight, #3)                         0.857845        1134511\n",
              "Me Before You (Me Before You, #1)              0.771845         587647\n",
              "Matched (Matched, #1)                          0.707029         511815\n",
              "Breaking Dawn (Twilight, #4)                   0.689029        1070245\n",
              "Bossypants                                     0.669954         506250\n",
              "City of Bones (The Mortal Instruments, #1)     0.654081        1154031\n",
              "The Perks of Being a Wallflower                0.574701         888806"
            ]
          },
          "metadata": {
            "tags": []
          },
          "execution_count": 62
        }
      ]
    },
    {
      "cell_type": "markdown",
      "metadata": {
        "id": "23H5iK8EPZjA"
      },
      "source": [
        "#Hybrid"
      ]
    },
    {
      "cell_type": "markdown",
      "metadata": {
        "id": "os4RFln658x-"
      },
      "source": [
        "That's more interesting and reasonable result, since we could get *Twilight* book series in our top results. "
      ]
    },
    {
      "cell_type": "code",
      "metadata": {
        "id": "NjgQ2GT5f7-k"
      },
      "source": [
        "def hybrid(user_id, title, n=10):\n",
        "    idx = indices[title]\n",
        "    sim_scores = list(enumerate(cosine_sim[idx]))\n",
        "    sim_scores = sorted(sim_scores, key=lambda x: x[1], reverse=True)\n",
        "    sim_scores = sim_scores[1:51]\n",
        "    book_indices = [i[0] for i in sim_scores]\n",
        "    \n",
        "    df = books.iloc[book_indices][['book_id', 'title', 'original_publication_year', 'ratings_count', 'average_rating']]\n",
        "    df['est'] = df['book_id'].apply(lambda x: svd.predict(user_id, x).est)\n",
        "    df = df.sort_values('est', ascending=False)\n",
        "    return df.head(n)"
      ],
      "execution_count": null,
      "outputs": []
    },
    {
      "cell_type": "code",
      "metadata": {
        "id": "bbUfErM1djyj",
        "colab": {
          "base_uri": "https://localhost:8080/",
          "height": 347
        },
        "outputId": "cbca2fbb-fe87-419f-e83a-e63416327266"
      },
      "source": [
        "hybrid(4, 'Eat, Pray, Love')"
      ],
      "execution_count": null,
      "outputs": [
        {
          "output_type": "execute_result",
          "data": {
            "text/html": [
              "<div>\n",
              "<style scoped>\n",
              "    .dataframe tbody tr th:only-of-type {\n",
              "        vertical-align: middle;\n",
              "    }\n",
              "\n",
              "    .dataframe tbody tr th {\n",
              "        vertical-align: top;\n",
              "    }\n",
              "\n",
              "    .dataframe thead th {\n",
              "        text-align: right;\n",
              "    }\n",
              "</style>\n",
              "<table border=\"1\" class=\"dataframe\">\n",
              "  <thead>\n",
              "    <tr style=\"text-align: right;\">\n",
              "      <th></th>\n",
              "      <th>book_id</th>\n",
              "      <th>title</th>\n",
              "      <th>original_publication_year</th>\n",
              "      <th>ratings_count</th>\n",
              "      <th>average_rating</th>\n",
              "      <th>est</th>\n",
              "    </tr>\n",
              "  </thead>\n",
              "  <tbody>\n",
              "    <tr>\n",
              "      <th>382</th>\n",
              "      <td>1241</td>\n",
              "      <td>A Million Little Pieces</td>\n",
              "      <td>2003</td>\n",
              "      <td>184241</td>\n",
              "      <td>3.62</td>\n",
              "      <td>4.070459</td>\n",
              "    </tr>\n",
              "    <tr>\n",
              "      <th>80</th>\n",
              "      <td>7445</td>\n",
              "      <td>The Glass Castle</td>\n",
              "      <td>2005</td>\n",
              "      <td>621099</td>\n",
              "      <td>4.24</td>\n",
              "      <td>3.970126</td>\n",
              "    </tr>\n",
              "    <tr>\n",
              "      <th>4038</th>\n",
              "      <td>6365221</td>\n",
              "      <td>Mennonite in a Little Black Dress: A Memoir of...</td>\n",
              "      <td>2009</td>\n",
              "      <td>23096</td>\n",
              "      <td>3.17</td>\n",
              "      <td>3.870910</td>\n",
              "    </tr>\n",
              "    <tr>\n",
              "      <th>604</th>\n",
              "      <td>40173</td>\n",
              "      <td>Are You There, Vodka? It's Me, Chelsea</td>\n",
              "      <td>2007</td>\n",
              "      <td>127096</td>\n",
              "      <td>3.85</td>\n",
              "      <td>3.870910</td>\n",
              "    </tr>\n",
              "    <tr>\n",
              "      <th>3984</th>\n",
              "      <td>46190</td>\n",
              "      <td>Love Is a Mix Tape</td>\n",
              "      <td>2007</td>\n",
              "      <td>21971</td>\n",
              "      <td>3.83</td>\n",
              "      <td>3.870910</td>\n",
              "    </tr>\n",
              "    <tr>\n",
              "      <th>744</th>\n",
              "      <td>12868761</td>\n",
              "      <td>Let's Pretend This Never Happened: A Mostly Tr...</td>\n",
              "      <td>2012</td>\n",
              "      <td>118475</td>\n",
              "      <td>3.90</td>\n",
              "      <td>3.870910</td>\n",
              "    </tr>\n",
              "    <tr>\n",
              "      <th>4724</th>\n",
              "      <td>13642929</td>\n",
              "      <td>My Beloved World</td>\n",
              "      <td>2013</td>\n",
              "      <td>17742</td>\n",
              "      <td>4.03</td>\n",
              "      <td>3.870910</td>\n",
              "    </tr>\n",
              "    <tr>\n",
              "      <th>5702</th>\n",
              "      <td>316558</td>\n",
              "      <td>Kabul Beauty School: An American Woman Goes Be...</td>\n",
              "      <td>2007</td>\n",
              "      <td>17002</td>\n",
              "      <td>3.63</td>\n",
              "      <td>3.870910</td>\n",
              "    </tr>\n",
              "    <tr>\n",
              "      <th>2803</th>\n",
              "      <td>18039963</td>\n",
              "      <td>A House in the Sky</td>\n",
              "      <td>2013</td>\n",
              "      <td>29369</td>\n",
              "      <td>4.20</td>\n",
              "      <td>3.870910</td>\n",
              "    </tr>\n",
              "    <tr>\n",
              "      <th>2701</th>\n",
              "      <td>6114607</td>\n",
              "      <td>The Midwife: A Memoir of Birth, Joy, and Hard ...</td>\n",
              "      <td>2002</td>\n",
              "      <td>19176</td>\n",
              "      <td>4.17</td>\n",
              "      <td>3.870910</td>\n",
              "    </tr>\n",
              "  </tbody>\n",
              "</table>\n",
              "</div>"
            ],
            "text/plain": [
              "       book_id  ...       est\n",
              "382       1241  ...  4.070459\n",
              "80        7445  ...  3.970126\n",
              "4038   6365221  ...  3.870910\n",
              "604      40173  ...  3.870910\n",
              "3984     46190  ...  3.870910\n",
              "744   12868761  ...  3.870910\n",
              "4724  13642929  ...  3.870910\n",
              "5702    316558  ...  3.870910\n",
              "2803  18039963  ...  3.870910\n",
              "2701   6114607  ...  3.870910\n",
              "\n",
              "[10 rows x 6 columns]"
            ]
          },
          "metadata": {
            "tags": []
          },
          "execution_count": 64
        }
      ]
    },
    {
      "cell_type": "code",
      "metadata": {
        "id": "Luxsj3RoMTNr",
        "colab": {
          "base_uri": "https://localhost:8080/",
          "height": 347
        },
        "outputId": "4430ce42-fcf5-4931-b08e-ef4bdae39975"
      },
      "source": [
        "hybrid(10, 'Eat, Pray, Love')"
      ],
      "execution_count": null,
      "outputs": [
        {
          "output_type": "execute_result",
          "data": {
            "text/html": [
              "<div>\n",
              "<style scoped>\n",
              "    .dataframe tbody tr th:only-of-type {\n",
              "        vertical-align: middle;\n",
              "    }\n",
              "\n",
              "    .dataframe tbody tr th {\n",
              "        vertical-align: top;\n",
              "    }\n",
              "\n",
              "    .dataframe thead th {\n",
              "        text-align: right;\n",
              "    }\n",
              "</style>\n",
              "<table border=\"1\" class=\"dataframe\">\n",
              "  <thead>\n",
              "    <tr style=\"text-align: right;\">\n",
              "      <th></th>\n",
              "      <th>book_id</th>\n",
              "      <th>title</th>\n",
              "      <th>original_publication_year</th>\n",
              "      <th>ratings_count</th>\n",
              "      <th>average_rating</th>\n",
              "      <th>est</th>\n",
              "    </tr>\n",
              "  </thead>\n",
              "  <tbody>\n",
              "    <tr>\n",
              "      <th>382</th>\n",
              "      <td>1241</td>\n",
              "      <td>A Million Little Pieces</td>\n",
              "      <td>2003</td>\n",
              "      <td>184241</td>\n",
              "      <td>3.62</td>\n",
              "      <td>3.943601</td>\n",
              "    </tr>\n",
              "    <tr>\n",
              "      <th>80</th>\n",
              "      <td>7445</td>\n",
              "      <td>The Glass Castle</td>\n",
              "      <td>2005</td>\n",
              "      <td>621099</td>\n",
              "      <td>4.24</td>\n",
              "      <td>3.843261</td>\n",
              "    </tr>\n",
              "    <tr>\n",
              "      <th>4038</th>\n",
              "      <td>6365221</td>\n",
              "      <td>Mennonite in a Little Black Dress: A Memoir of...</td>\n",
              "      <td>2009</td>\n",
              "      <td>23096</td>\n",
              "      <td>3.17</td>\n",
              "      <td>3.835499</td>\n",
              "    </tr>\n",
              "    <tr>\n",
              "      <th>604</th>\n",
              "      <td>40173</td>\n",
              "      <td>Are You There, Vodka? It's Me, Chelsea</td>\n",
              "      <td>2007</td>\n",
              "      <td>127096</td>\n",
              "      <td>3.85</td>\n",
              "      <td>3.835499</td>\n",
              "    </tr>\n",
              "    <tr>\n",
              "      <th>3984</th>\n",
              "      <td>46190</td>\n",
              "      <td>Love Is a Mix Tape</td>\n",
              "      <td>2007</td>\n",
              "      <td>21971</td>\n",
              "      <td>3.83</td>\n",
              "      <td>3.835499</td>\n",
              "    </tr>\n",
              "    <tr>\n",
              "      <th>744</th>\n",
              "      <td>12868761</td>\n",
              "      <td>Let's Pretend This Never Happened: A Mostly Tr...</td>\n",
              "      <td>2012</td>\n",
              "      <td>118475</td>\n",
              "      <td>3.90</td>\n",
              "      <td>3.835499</td>\n",
              "    </tr>\n",
              "    <tr>\n",
              "      <th>4724</th>\n",
              "      <td>13642929</td>\n",
              "      <td>My Beloved World</td>\n",
              "      <td>2013</td>\n",
              "      <td>17742</td>\n",
              "      <td>4.03</td>\n",
              "      <td>3.835499</td>\n",
              "    </tr>\n",
              "    <tr>\n",
              "      <th>5702</th>\n",
              "      <td>316558</td>\n",
              "      <td>Kabul Beauty School: An American Woman Goes Be...</td>\n",
              "      <td>2007</td>\n",
              "      <td>17002</td>\n",
              "      <td>3.63</td>\n",
              "      <td>3.835499</td>\n",
              "    </tr>\n",
              "    <tr>\n",
              "      <th>2803</th>\n",
              "      <td>18039963</td>\n",
              "      <td>A House in the Sky</td>\n",
              "      <td>2013</td>\n",
              "      <td>29369</td>\n",
              "      <td>4.20</td>\n",
              "      <td>3.835499</td>\n",
              "    </tr>\n",
              "    <tr>\n",
              "      <th>2701</th>\n",
              "      <td>6114607</td>\n",
              "      <td>The Midwife: A Memoir of Birth, Joy, and Hard ...</td>\n",
              "      <td>2002</td>\n",
              "      <td>19176</td>\n",
              "      <td>4.17</td>\n",
              "      <td>3.835499</td>\n",
              "    </tr>\n",
              "  </tbody>\n",
              "</table>\n",
              "</div>"
            ],
            "text/plain": [
              "       book_id  ...       est\n",
              "382       1241  ...  3.943601\n",
              "80        7445  ...  3.843261\n",
              "4038   6365221  ...  3.835499\n",
              "604      40173  ...  3.835499\n",
              "3984     46190  ...  3.835499\n",
              "744   12868761  ...  3.835499\n",
              "4724  13642929  ...  3.835499\n",
              "5702    316558  ...  3.835499\n",
              "2803  18039963  ...  3.835499\n",
              "2701   6114607  ...  3.835499\n",
              "\n",
              "[10 rows x 6 columns]"
            ]
          },
          "metadata": {
            "tags": []
          },
          "execution_count": 65
        }
      ]
    },
    {
      "cell_type": "markdown",
      "metadata": {
        "id": "vVB7vWkOe2IC"
      },
      "source": [
        "We see that for our hybrid recommender, we get (almost) different recommendations for different users although the book is the same. But maybe we can make it better through following steps:\n",
        "1. Use our *improved_recommendations* technique , that we used in the **Content Based** seciton above\n",
        "2. Combine it with the user *estimations*, by dividing their summation by 2\n",
        "3. Finally, put the result into a new feature ***score***"
      ]
    },
    {
      "cell_type": "code",
      "metadata": {
        "id": "25vrzC4oLEJe"
      },
      "source": [
        "def improved_hybrid(user_id, title, n=10):\n",
        "    idx = indices[title]\n",
        "    sim_scores = list(enumerate(cosine_sim[idx]))\n",
        "    sim_scores = sorted(sim_scores, key=lambda x: x[1], reverse=True)\n",
        "    sim_scores = sim_scores[1:51]\n",
        "    book_indices = [i[0] for i in sim_scores]\n",
        "    \n",
        "    df = books.iloc[book_indices][['book_id', 'title', 'ratings_count', 'average_rating', 'original_publication_year']]\n",
        "    v = df['ratings_count']\n",
        "    m = df['ratings_count'].quantile(0.60)\n",
        "    R = df['average_rating']\n",
        "    C = df['average_rating'].mean()\n",
        "    df['weighted_rating'] = (R*v + C*m) / (v + m)\n",
        "    \n",
        "    df['est'] = df['book_id'].apply(lambda x: svd.predict(user_id, x).est)\n",
        "    \n",
        "    df['score'] = (df['est'] + df['weighted_rating']) / 2\n",
        "    df = df.sort_values('score', ascending=False)\n",
        "    return df[['book_id', 'title', 'original_publication_year', 'ratings_count', 'average_rating', 'score']].head(n)"
      ],
      "execution_count": null,
      "outputs": []
    },
    {
      "cell_type": "code",
      "metadata": {
        "id": "vf9fKgE6NaRv",
        "colab": {
          "base_uri": "https://localhost:8080/",
          "height": 347
        },
        "outputId": "db104eb2-6cf0-47a1-b10e-ee7ed9c4f3ba"
      },
      "source": [
        "improved_hybrid(4, 'Eat, Pray, Love')"
      ],
      "execution_count": null,
      "outputs": [
        {
          "output_type": "execute_result",
          "data": {
            "text/html": [
              "<div>\n",
              "<style scoped>\n",
              "    .dataframe tbody tr th:only-of-type {\n",
              "        vertical-align: middle;\n",
              "    }\n",
              "\n",
              "    .dataframe tbody tr th {\n",
              "        vertical-align: top;\n",
              "    }\n",
              "\n",
              "    .dataframe thead th {\n",
              "        text-align: right;\n",
              "    }\n",
              "</style>\n",
              "<table border=\"1\" class=\"dataframe\">\n",
              "  <thead>\n",
              "    <tr style=\"text-align: right;\">\n",
              "      <th></th>\n",
              "      <th>book_id</th>\n",
              "      <th>title</th>\n",
              "      <th>original_publication_year</th>\n",
              "      <th>ratings_count</th>\n",
              "      <th>average_rating</th>\n",
              "      <th>score</th>\n",
              "    </tr>\n",
              "  </thead>\n",
              "  <tbody>\n",
              "    <tr>\n",
              "      <th>80</th>\n",
              "      <td>7445</td>\n",
              "      <td>The Glass Castle</td>\n",
              "      <td>2005</td>\n",
              "      <td>621099</td>\n",
              "      <td>4.24</td>\n",
              "      <td>4.094556</td>\n",
              "    </tr>\n",
              "    <tr>\n",
              "      <th>328</th>\n",
              "      <td>2318271</td>\n",
              "      <td>The Last Lecture</td>\n",
              "      <td>2008</td>\n",
              "      <td>241869</td>\n",
              "      <td>4.25</td>\n",
              "      <td>4.035037</td>\n",
              "    </tr>\n",
              "    <tr>\n",
              "      <th>198</th>\n",
              "      <td>12691</td>\n",
              "      <td>Marley and Me: Life and Love With the World's ...</td>\n",
              "      <td>2005</td>\n",
              "      <td>367304</td>\n",
              "      <td>4.12</td>\n",
              "      <td>3.984018</td>\n",
              "    </tr>\n",
              "    <tr>\n",
              "      <th>1669</th>\n",
              "      <td>104189</td>\n",
              "      <td>Same Kind of Different as Me</td>\n",
              "      <td>2005</td>\n",
              "      <td>52964</td>\n",
              "      <td>4.21</td>\n",
              "      <td>3.970724</td>\n",
              "    </tr>\n",
              "    <tr>\n",
              "      <th>2803</th>\n",
              "      <td>18039963</td>\n",
              "      <td>A House in the Sky</td>\n",
              "      <td>2013</td>\n",
              "      <td>29369</td>\n",
              "      <td>4.20</td>\n",
              "      <td>3.944187</td>\n",
              "    </tr>\n",
              "    <tr>\n",
              "      <th>753</th>\n",
              "      <td>6366437</td>\n",
              "      <td>Half Broke Horses</td>\n",
              "      <td>2008</td>\n",
              "      <td>110597</td>\n",
              "      <td>4.05</td>\n",
              "      <td>3.938263</td>\n",
              "    </tr>\n",
              "    <tr>\n",
              "      <th>1067</th>\n",
              "      <td>29209</td>\n",
              "      <td>The Color of Water: A Black Man's Tribute to H...</td>\n",
              "      <td>1996</td>\n",
              "      <td>80906</td>\n",
              "      <td>4.06</td>\n",
              "      <td>3.936127</td>\n",
              "    </tr>\n",
              "    <tr>\n",
              "      <th>6286</th>\n",
              "      <td>8564644</td>\n",
              "      <td>Little Princes: One Man's Promise to Bring Hom...</td>\n",
              "      <td>2010</td>\n",
              "      <td>14765</td>\n",
              "      <td>4.25</td>\n",
              "      <td>3.925979</td>\n",
              "    </tr>\n",
              "    <tr>\n",
              "      <th>2701</th>\n",
              "      <td>6114607</td>\n",
              "      <td>The Midwife: A Memoir of Birth, Joy, and Hard ...</td>\n",
              "      <td>2002</td>\n",
              "      <td>19176</td>\n",
              "      <td>4.17</td>\n",
              "      <td>3.922947</td>\n",
              "    </tr>\n",
              "    <tr>\n",
              "      <th>4593</th>\n",
              "      <td>31845516</td>\n",
              "      <td>Love Warrior</td>\n",
              "      <td>2016</td>\n",
              "      <td>20094</td>\n",
              "      <td>4.10</td>\n",
              "      <td>3.912412</td>\n",
              "    </tr>\n",
              "  </tbody>\n",
              "</table>\n",
              "</div>"
            ],
            "text/plain": [
              "       book_id  ...     score\n",
              "80        7445  ...  4.094556\n",
              "328    2318271  ...  4.035037\n",
              "198      12691  ...  3.984018\n",
              "1669    104189  ...  3.970724\n",
              "2803  18039963  ...  3.944187\n",
              "753    6366437  ...  3.938263\n",
              "1067     29209  ...  3.936127\n",
              "6286   8564644  ...  3.925979\n",
              "2701   6114607  ...  3.922947\n",
              "4593  31845516  ...  3.912412\n",
              "\n",
              "[10 rows x 6 columns]"
            ]
          },
          "metadata": {
            "tags": []
          },
          "execution_count": 67
        }
      ]
    },
    {
      "cell_type": "code",
      "metadata": {
        "id": "yAkQSiOaO0qY",
        "colab": {
          "base_uri": "https://localhost:8080/",
          "height": 347
        },
        "outputId": "6718c5c6-299b-4b26-cf43-e7fe5ef92326"
      },
      "source": [
        "improved_hybrid(10, 'Eat, Pray, Love')"
      ],
      "execution_count": null,
      "outputs": [
        {
          "output_type": "execute_result",
          "data": {
            "text/html": [
              "<div>\n",
              "<style scoped>\n",
              "    .dataframe tbody tr th:only-of-type {\n",
              "        vertical-align: middle;\n",
              "    }\n",
              "\n",
              "    .dataframe tbody tr th {\n",
              "        vertical-align: top;\n",
              "    }\n",
              "\n",
              "    .dataframe thead th {\n",
              "        text-align: right;\n",
              "    }\n",
              "</style>\n",
              "<table border=\"1\" class=\"dataframe\">\n",
              "  <thead>\n",
              "    <tr style=\"text-align: right;\">\n",
              "      <th></th>\n",
              "      <th>book_id</th>\n",
              "      <th>title</th>\n",
              "      <th>original_publication_year</th>\n",
              "      <th>ratings_count</th>\n",
              "      <th>average_rating</th>\n",
              "      <th>score</th>\n",
              "    </tr>\n",
              "  </thead>\n",
              "  <tbody>\n",
              "    <tr>\n",
              "      <th>80</th>\n",
              "      <td>7445</td>\n",
              "      <td>The Glass Castle</td>\n",
              "      <td>2005</td>\n",
              "      <td>621099</td>\n",
              "      <td>4.24</td>\n",
              "      <td>4.031124</td>\n",
              "    </tr>\n",
              "    <tr>\n",
              "      <th>328</th>\n",
              "      <td>2318271</td>\n",
              "      <td>The Last Lecture</td>\n",
              "      <td>2008</td>\n",
              "      <td>241869</td>\n",
              "      <td>4.25</td>\n",
              "      <td>4.017332</td>\n",
              "    </tr>\n",
              "    <tr>\n",
              "      <th>198</th>\n",
              "      <td>12691</td>\n",
              "      <td>Marley and Me: Life and Love With the World's ...</td>\n",
              "      <td>2005</td>\n",
              "      <td>367304</td>\n",
              "      <td>4.12</td>\n",
              "      <td>3.966313</td>\n",
              "    </tr>\n",
              "    <tr>\n",
              "      <th>1669</th>\n",
              "      <td>104189</td>\n",
              "      <td>Same Kind of Different as Me</td>\n",
              "      <td>2005</td>\n",
              "      <td>52964</td>\n",
              "      <td>4.21</td>\n",
              "      <td>3.953019</td>\n",
              "    </tr>\n",
              "    <tr>\n",
              "      <th>2803</th>\n",
              "      <td>18039963</td>\n",
              "      <td>A House in the Sky</td>\n",
              "      <td>2013</td>\n",
              "      <td>29369</td>\n",
              "      <td>4.20</td>\n",
              "      <td>3.926482</td>\n",
              "    </tr>\n",
              "    <tr>\n",
              "      <th>753</th>\n",
              "      <td>6366437</td>\n",
              "      <td>Half Broke Horses</td>\n",
              "      <td>2008</td>\n",
              "      <td>110597</td>\n",
              "      <td>4.05</td>\n",
              "      <td>3.920558</td>\n",
              "    </tr>\n",
              "    <tr>\n",
              "      <th>1067</th>\n",
              "      <td>29209</td>\n",
              "      <td>The Color of Water: A Black Man's Tribute to H...</td>\n",
              "      <td>1996</td>\n",
              "      <td>80906</td>\n",
              "      <td>4.06</td>\n",
              "      <td>3.918422</td>\n",
              "    </tr>\n",
              "    <tr>\n",
              "      <th>6286</th>\n",
              "      <td>8564644</td>\n",
              "      <td>Little Princes: One Man's Promise to Bring Hom...</td>\n",
              "      <td>2010</td>\n",
              "      <td>14765</td>\n",
              "      <td>4.25</td>\n",
              "      <td>3.908274</td>\n",
              "    </tr>\n",
              "    <tr>\n",
              "      <th>2701</th>\n",
              "      <td>6114607</td>\n",
              "      <td>The Midwife: A Memoir of Birth, Joy, and Hard ...</td>\n",
              "      <td>2002</td>\n",
              "      <td>19176</td>\n",
              "      <td>4.17</td>\n",
              "      <td>3.905242</td>\n",
              "    </tr>\n",
              "    <tr>\n",
              "      <th>4593</th>\n",
              "      <td>31845516</td>\n",
              "      <td>Love Warrior</td>\n",
              "      <td>2016</td>\n",
              "      <td>20094</td>\n",
              "      <td>4.10</td>\n",
              "      <td>3.894707</td>\n",
              "    </tr>\n",
              "  </tbody>\n",
              "</table>\n",
              "</div>"
            ],
            "text/plain": [
              "       book_id  ...     score\n",
              "80        7445  ...  4.031124\n",
              "328    2318271  ...  4.017332\n",
              "198      12691  ...  3.966313\n",
              "1669    104189  ...  3.953019\n",
              "2803  18039963  ...  3.926482\n",
              "753    6366437  ...  3.920558\n",
              "1067     29209  ...  3.918422\n",
              "6286   8564644  ...  3.908274\n",
              "2701   6114607  ...  3.905242\n",
              "4593  31845516  ...  3.894707\n",
              "\n",
              "[10 rows x 6 columns]"
            ]
          },
          "metadata": {
            "tags": []
          },
          "execution_count": 68
        }
      ]
    },
    {
      "cell_type": "markdown",
      "metadata": {
        "id": "8fUbeooW7Yls"
      },
      "source": [
        "Ok, we see that the new results make more sense, besides to, the recommendations are more personalized and tailored towards particular users."
      ]
    },
    {
      "cell_type": "code",
      "metadata": {
        "id": "kn-IG4K0tQMj"
      },
      "source": [
        ""
      ],
      "execution_count": null,
      "outputs": []
    }
  ]
}